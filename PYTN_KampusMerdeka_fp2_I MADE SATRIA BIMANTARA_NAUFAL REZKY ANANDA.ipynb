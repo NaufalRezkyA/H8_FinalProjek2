{
 "cells": [
  {
   "cell_type": "markdown",
   "metadata": {},
   "source": [
    "# Pertanyaan dan Jawaban\n",
    "***\n",
    "**PERTANYAAN** <br>\n",
    "1. Splitting dataset menjadi train dan test itu sebaiknya di awal sekali saat pertama kali loading data atau seperti pipeline ini?\n",
    "2. Apakah ada masukkan terkait pipeline ini? Kalau ada tolong dicantumin masukkannya di *section* **Jawaban**! \n",
    "3. Kita perlu diskusi terkait tulisan di bagian **latar belakang** dan **objective** kasus.\n",
    "4. Atribut **Tahun** termasuk kategorikal atau numerikal ya?\n",
    "\n",
    "**JAWABAN** <br>\n"
   ]
  },
  {
   "cell_type": "markdown",
   "metadata": {},
   "source": [
    "# Deskripsi Projek"
   ]
  },
  {
   "cell_type": "markdown",
   "metadata": {},
   "source": [
    "## Pendahuluan Projek"
   ]
  },
  {
   "cell_type": "markdown",
   "metadata": {},
   "source": [
    "Notebook ini akan berisi implementasi beberapa algoritma klasifikasi dengan pustaka sklearn untuk mengklasifikasikan prediksi hujan di hari besoknya dari tanggal pengamatan ke dalam \"No\" atau \"Yes\""
   ]
  },
  {
   "cell_type": "markdown",
   "metadata": {},
   "source": [
    "## Instruksi\n",
    "***\n",
    "Isi notebook harus mengikuti **outline** seperti di bawah: <br>\n",
    "1. Perkenalan\n",
    "2. Import libraries\n",
    "3. Data Loading\n",
    "4. Data cleaning\n",
    "5. Explorasi Data\n",
    "6. Data Preprocessing\n",
    "7. Pendefinisian model\n",
    "8. Pelatihan model\n",
    "9. Evaluasi Model\n",
    "10. Model Inference\n",
    "11. Pengambilan keputusan"
   ]
  },
  {
   "cell_type": "markdown",
   "metadata": {},
   "source": [
    "## Projek Rubrik\n",
    "***\n",
    "1. Mengimplementasikan model klasifikasi machine learning dengan Sklearn\n",
    "> Logistic Regression,\n",
    "> KNN,\n",
    "> SVM,\n",
    "> DT,\n",
    "> RF,\n",
    "> NB,\n",
    "2. Mengimplementasikan dan menganalisa confusion matrix\n",
    "3. Menganalisa data setidaknya dengan 2 tipe grafik (Visualisasi)\n",
    "4. Preprocessing data sebelum melakukan pengolahan lebih lanjut\n",
    "5. Tanpa error\n",
    "6. Tertata dengan baik (markdown) setiap kode\n",
    "7. Analisis algoritma yang digunakan"
   ]
  },
  {
   "cell_type": "markdown",
   "metadata": {},
   "source": [
    "## Form Penilaian Projek\n",
    "***\n",
    "**Exploratory Data Analysis** <br>\n",
    "1. Melakukan data query dan grouping\n",
    "2. Mencari central tendency\n",
    "3. Mencari variability\n",
    "4. Deskripsi penjelasan untuk nomor 2 dan 3\n",
    "5. Tanpa error <br>\n",
    "\n",
    "**Preprocessing** <br>\n",
    "1. Fix (rename) nama kolom\n",
    "2. Handling missing values (standard missing values, unstandard missing values, invalid values)\n",
    "3. Memperbaiki tipe data setiap kolom dengan tipe data yang semestinya\n",
    "4. Menambahkan kolom baru dari operasi kolom\n",
    "5. Semua baris kode terdokumentasi dengan markdown dan tanpa error <br>\n",
    "\n",
    "**Modeling**<br>\n",
    "1. Ada visualisasi\n",
    "2. Visualisasi yang baik dengan title, label axes, legend, custom size, custom color, dan anotasi\n",
    "3. Implementasi Model Klasifikasi Machine Learning Pada Projek Rubrik\n",
    "4. Mencoba model yang telah dibuat dengan data baru yang disediakan\n",
    "5. Tanpa error <br>\n",
    "\n",
    "**Analysis** <br>\n",
    "1. Mendeskripsikan model yang telah dibuat\n",
    "2. Menganalisa informasi dari model yang dibuat\n",
    "3. Membuat lebih dari 1 informasi\n",
    "4. Menarik informasi/kesimpulan dari keseluruhan kegiatan yang dilakukan <br>\n",
    "\n",
    "**Deployment**\n",
    "1. Membuat flask\n",
    "2. Menambahkan requirement heroku\n",
    "3. Melakukan deployment\n",
    "4. tanpa error\n",
    "5. Model yang dideploy dapat melakukan inference"
   ]
  },
  {
   "cell_type": "markdown",
   "metadata": {},
   "source": [
    "# Final Projek 2\n",
    "***\n",
    "Authors and Creators: <br>\n",
    "1. I Made Satria Bimantara\n",
    "2. Naufal Rezky Ananda"
   ]
  },
  {
   "cell_type": "markdown",
   "metadata": {},
   "source": [
    "## Perkenalan\n",
    "***\n",
    "1. Latar belakang memilih kasus\n",
    "2. Data yang digunakan (jumlah data, kelas, sumber)\n",
    "3. Objective yang ingin dicapai"
   ]
  },
  {
   "cell_type": "markdown",
   "metadata": {},
   "source": [
    "### Latar belakang memilih kasus"
   ]
  },
  {
   "cell_type": "markdown",
   "metadata": {},
   "source": [
    "### Data Penelitian (Rain in Austalia)\n",
    "***\n",
    "Data ini bernama **Rain in Australia** yang diperoleh dari https://www.kaggle.com/jsphyg/weather-dataset-rattle-package. Data ini digunakan untuk memprediksi apakah terjadi hujan pada keesokan hari dari tanggal pengamatan. Data ini adalah data hujan harian selama 10 tahun di berbagai lokasi di Australia. Jumlah dataset ini adalah **145.460** baris data dengan **23** atribut. <br>\n",
    "Atribut yang menjadi label kelas yaitu **RainTomorrow** yang berisi \"No\" (tidak terjadi hujan besok harinya) dan \"Yes\" (terjadi hujan besok harinya 1mm atau lebih). "
   ]
  },
  {
   "cell_type": "markdown",
   "metadata": {},
   "source": [
    "**Deskripsi Atribut** <br>\n",
    "Nama, penjelasannya, serta tipe data dari atribut yang terdapat pada datasets, adalah sebagai berikut: <br>\n",
    "Atribut bertipe kategorikal (nominal dan/atau ordinal) <br>\n",
    "1. Location - lokasi, nama kota di Australia\n",
    "2. WindGustDir - arah kecepatan angin yang paling tinggi selama 24 jam sebelum jam 12 malam hari itu\n",
    "3. WindDir9am - arah angin jam 9 pagi\n",
    "4. WindDir3pm - arah angin jam 3 sore\n",
    "5. RainToday - apakah hari ini hujan: jika curah hujan 24 jam sebelum jam 9 pagi melebihi 1mm, maka nilai ini adalah 1, jika tidak nilai nya 0\n",
    "6. RainTomorrow - variable yang mau di prediksi\n",
    "\n",
    "Atribut bertipe numerikal (int, float) <br>\n",
    "1. MinTemp - temperatur terendah hari itu dalam celcius\n",
    "2. MaxTemp - temperatur tertinggi hari itu dalam celcius\n",
    "3. Rainfall - jumlah curah hujan hari itu dalam mm\n",
    "4. Evaporation - jumlah evaporasi dalam mm dari Class A pan selama 24 jam sebelum jam 9 pagi hari itu\n",
    "5. Sunshine - jumlah jam hari itu cerah dengan cahaya matahari\n",
    "6. WindGustSpeed - kecepatan angin yang paling tinggi dalam km/jam selama 24 jam sebelum jam 12 malam hari itu\n",
    "72. WindSpeed9am - kecepatan angin jam 9 pagi dalam km/jam dihitung dari rata-rata kecepatan angin 10 menit sebelum jam 3 sore\n",
    "8. WindSpeed3pm - kecepatan angin jam 3 sore dalam km/jam dihitung dari rata-rata kecepatan angin 10 menit sebelum jam 3 sore\n",
    "9. Humidity9am - humiditas jam 9 pagi dalam persen\n",
    "10. Humidity3pm - humiditas jam 3 sore dalam persen\n",
    "11. Pressure9am - tekanan udara jam 9 pagi dalam hpa\n",
    "12. Pressure3pm - tekanan udara jam 3 sore dalam hpa\n",
    "13. Cloud9am - persentase langit yang tertutup awan jam 9 pagi. dihitung dalam oktas, unit ⅛, menghitung berapa unit ⅛ dari langit yang tertutup awan. Jika 0, langit cerah, jika 8, langit sepenuhnya tertutup awan.\n",
    "14. Cloud3pm - persentase langit yang tertutup awan jam 3 sore\n",
    "15. Temp9am - temperatur jam 9 pagi dalam celcius\n",
    "16. Temp3pm - temperatur jam 3 sore dalam celcius\n",
    "\n",
    "Atribut bertipe date (time series) <br>\n",
    "1. Date tanggal hari itu\n"
   ]
  },
  {
   "cell_type": "markdown",
   "metadata": {},
   "source": [
    "### Objective yang ingin dicapai"
   ]
  },
  {
   "cell_type": "markdown",
   "metadata": {},
   "source": [
    "## Install dan Import Pustaka yang dibutuhkan"
   ]
  },
  {
   "cell_type": "markdown",
   "metadata": {},
   "source": [
    "### Install Pustaka "
   ]
  },
  {
   "cell_type": "markdown",
   "metadata": {},
   "source": [
    "### Pustaka untuk pengolahan data"
   ]
  },
  {
   "cell_type": "code",
   "execution_count": 86,
   "metadata": {},
   "outputs": [],
   "source": [
    "import pandas as pd\n",
    "import numpy as np\n",
    "import pandas_profiling"
   ]
  },
  {
   "cell_type": "markdown",
   "metadata": {},
   "source": [
    "### Pustaka untuk proses machine learning dan data science"
   ]
  },
  {
   "cell_type": "code",
   "execution_count": 87,
   "metadata": {},
   "outputs": [],
   "source": [
    "# Preprocessing\n",
    "from sklearn.preprocessing import OrdinalEncoder #ordinal encoding untuk atribut kategorikal\n",
    "\n",
    "\n",
    "# ANOVA feature selection for numeric input and categorical output\n",
    "from sklearn.datasets import make_classification\n",
    "from sklearn.feature_selection import SelectKBest\n",
    "from sklearn.feature_selection import f_classif\n",
    "\n",
    "# Chi-Square and Mutual Information feature selection for numeric input and categorical output\n",
    "from sklearn.feature_selection import chi2,mutual_info_classif"
   ]
  },
  {
   "cell_type": "markdown",
   "metadata": {},
   "source": [
    "### Pustaka untuk visualisasi"
   ]
  },
  {
   "cell_type": "code",
   "execution_count": 88,
   "metadata": {},
   "outputs": [],
   "source": [
    "import matplotlib.pyplot as plt\n",
    "import seaborn as sns\n",
    "\n",
    "%matplotlib inline"
   ]
  },
  {
   "cell_type": "markdown",
   "metadata": {},
   "source": [
    "### Pustaka pendukung lainnya (jika ada)"
   ]
  },
  {
   "cell_type": "code",
   "execution_count": null,
   "metadata": {},
   "outputs": [],
   "source": []
  },
  {
   "cell_type": "markdown",
   "metadata": {},
   "source": [
    "## Data Loading\n",
    "***\n",
    "Data terdapat dalam folder \"/dataset/weatherAUS.csv\" <br>\n",
    "Data ini nantinya akan dibagi kedalam tiga bagian: <br>\n",
    "1. Data Latih (Training) 70%\n",
    "2. Data Uji (Testing) 20%\n",
    "3. Inference Data (Inference) 10%"
   ]
  },
  {
   "cell_type": "code",
   "execution_count": 89,
   "metadata": {},
   "outputs": [],
   "source": [
    "# Loading data dengan Pandas\n",
    "rainAus_df = pd.read_csv('./dataset/weatherAUS.csv')"
   ]
  },
  {
   "cell_type": "markdown",
   "metadata": {},
   "source": [
    "### Menampilkan sekilas isi data"
   ]
  },
  {
   "cell_type": "code",
   "execution_count": 90,
   "metadata": {},
   "outputs": [
    {
     "data": {
      "text/html": [
       "<div>\n",
       "<style scoped>\n",
       "    .dataframe tbody tr th:only-of-type {\n",
       "        vertical-align: middle;\n",
       "    }\n",
       "\n",
       "    .dataframe tbody tr th {\n",
       "        vertical-align: top;\n",
       "    }\n",
       "\n",
       "    .dataframe thead th {\n",
       "        text-align: right;\n",
       "    }\n",
       "</style>\n",
       "<table border=\"1\" class=\"dataframe\">\n",
       "  <thead>\n",
       "    <tr style=\"text-align: right;\">\n",
       "      <th></th>\n",
       "      <th>Date</th>\n",
       "      <th>Location</th>\n",
       "      <th>MinTemp</th>\n",
       "      <th>MaxTemp</th>\n",
       "      <th>Rainfall</th>\n",
       "      <th>Evaporation</th>\n",
       "      <th>Sunshine</th>\n",
       "      <th>WindGustDir</th>\n",
       "      <th>WindGustSpeed</th>\n",
       "      <th>WindDir9am</th>\n",
       "      <th>...</th>\n",
       "      <th>Humidity9am</th>\n",
       "      <th>Humidity3pm</th>\n",
       "      <th>Pressure9am</th>\n",
       "      <th>Pressure3pm</th>\n",
       "      <th>Cloud9am</th>\n",
       "      <th>Cloud3pm</th>\n",
       "      <th>Temp9am</th>\n",
       "      <th>Temp3pm</th>\n",
       "      <th>RainToday</th>\n",
       "      <th>RainTomorrow</th>\n",
       "    </tr>\n",
       "  </thead>\n",
       "  <tbody>\n",
       "    <tr>\n",
       "      <td>0</td>\n",
       "      <td>2008-12-01</td>\n",
       "      <td>Albury</td>\n",
       "      <td>13.4</td>\n",
       "      <td>22.9</td>\n",
       "      <td>0.6</td>\n",
       "      <td>NaN</td>\n",
       "      <td>NaN</td>\n",
       "      <td>W</td>\n",
       "      <td>44.0</td>\n",
       "      <td>W</td>\n",
       "      <td>...</td>\n",
       "      <td>71.0</td>\n",
       "      <td>22.0</td>\n",
       "      <td>1007.7</td>\n",
       "      <td>1007.1</td>\n",
       "      <td>8.0</td>\n",
       "      <td>NaN</td>\n",
       "      <td>16.9</td>\n",
       "      <td>21.8</td>\n",
       "      <td>No</td>\n",
       "      <td>No</td>\n",
       "    </tr>\n",
       "    <tr>\n",
       "      <td>1</td>\n",
       "      <td>2008-12-02</td>\n",
       "      <td>Albury</td>\n",
       "      <td>7.4</td>\n",
       "      <td>25.1</td>\n",
       "      <td>0.0</td>\n",
       "      <td>NaN</td>\n",
       "      <td>NaN</td>\n",
       "      <td>WNW</td>\n",
       "      <td>44.0</td>\n",
       "      <td>NNW</td>\n",
       "      <td>...</td>\n",
       "      <td>44.0</td>\n",
       "      <td>25.0</td>\n",
       "      <td>1010.6</td>\n",
       "      <td>1007.8</td>\n",
       "      <td>NaN</td>\n",
       "      <td>NaN</td>\n",
       "      <td>17.2</td>\n",
       "      <td>24.3</td>\n",
       "      <td>No</td>\n",
       "      <td>No</td>\n",
       "    </tr>\n",
       "    <tr>\n",
       "      <td>2</td>\n",
       "      <td>2008-12-03</td>\n",
       "      <td>Albury</td>\n",
       "      <td>12.9</td>\n",
       "      <td>25.7</td>\n",
       "      <td>0.0</td>\n",
       "      <td>NaN</td>\n",
       "      <td>NaN</td>\n",
       "      <td>WSW</td>\n",
       "      <td>46.0</td>\n",
       "      <td>W</td>\n",
       "      <td>...</td>\n",
       "      <td>38.0</td>\n",
       "      <td>30.0</td>\n",
       "      <td>1007.6</td>\n",
       "      <td>1008.7</td>\n",
       "      <td>NaN</td>\n",
       "      <td>2.0</td>\n",
       "      <td>21.0</td>\n",
       "      <td>23.2</td>\n",
       "      <td>No</td>\n",
       "      <td>No</td>\n",
       "    </tr>\n",
       "    <tr>\n",
       "      <td>3</td>\n",
       "      <td>2008-12-04</td>\n",
       "      <td>Albury</td>\n",
       "      <td>9.2</td>\n",
       "      <td>28.0</td>\n",
       "      <td>0.0</td>\n",
       "      <td>NaN</td>\n",
       "      <td>NaN</td>\n",
       "      <td>NE</td>\n",
       "      <td>24.0</td>\n",
       "      <td>SE</td>\n",
       "      <td>...</td>\n",
       "      <td>45.0</td>\n",
       "      <td>16.0</td>\n",
       "      <td>1017.6</td>\n",
       "      <td>1012.8</td>\n",
       "      <td>NaN</td>\n",
       "      <td>NaN</td>\n",
       "      <td>18.1</td>\n",
       "      <td>26.5</td>\n",
       "      <td>No</td>\n",
       "      <td>No</td>\n",
       "    </tr>\n",
       "    <tr>\n",
       "      <td>4</td>\n",
       "      <td>2008-12-05</td>\n",
       "      <td>Albury</td>\n",
       "      <td>17.5</td>\n",
       "      <td>32.3</td>\n",
       "      <td>1.0</td>\n",
       "      <td>NaN</td>\n",
       "      <td>NaN</td>\n",
       "      <td>W</td>\n",
       "      <td>41.0</td>\n",
       "      <td>ENE</td>\n",
       "      <td>...</td>\n",
       "      <td>82.0</td>\n",
       "      <td>33.0</td>\n",
       "      <td>1010.8</td>\n",
       "      <td>1006.0</td>\n",
       "      <td>7.0</td>\n",
       "      <td>8.0</td>\n",
       "      <td>17.8</td>\n",
       "      <td>29.7</td>\n",
       "      <td>No</td>\n",
       "      <td>No</td>\n",
       "    </tr>\n",
       "    <tr>\n",
       "      <td>...</td>\n",
       "      <td>...</td>\n",
       "      <td>...</td>\n",
       "      <td>...</td>\n",
       "      <td>...</td>\n",
       "      <td>...</td>\n",
       "      <td>...</td>\n",
       "      <td>...</td>\n",
       "      <td>...</td>\n",
       "      <td>...</td>\n",
       "      <td>...</td>\n",
       "      <td>...</td>\n",
       "      <td>...</td>\n",
       "      <td>...</td>\n",
       "      <td>...</td>\n",
       "      <td>...</td>\n",
       "      <td>...</td>\n",
       "      <td>...</td>\n",
       "      <td>...</td>\n",
       "      <td>...</td>\n",
       "      <td>...</td>\n",
       "      <td>...</td>\n",
       "    </tr>\n",
       "    <tr>\n",
       "      <td>145455</td>\n",
       "      <td>2017-06-21</td>\n",
       "      <td>Uluru</td>\n",
       "      <td>2.8</td>\n",
       "      <td>23.4</td>\n",
       "      <td>0.0</td>\n",
       "      <td>NaN</td>\n",
       "      <td>NaN</td>\n",
       "      <td>E</td>\n",
       "      <td>31.0</td>\n",
       "      <td>SE</td>\n",
       "      <td>...</td>\n",
       "      <td>51.0</td>\n",
       "      <td>24.0</td>\n",
       "      <td>1024.6</td>\n",
       "      <td>1020.3</td>\n",
       "      <td>NaN</td>\n",
       "      <td>NaN</td>\n",
       "      <td>10.1</td>\n",
       "      <td>22.4</td>\n",
       "      <td>No</td>\n",
       "      <td>No</td>\n",
       "    </tr>\n",
       "    <tr>\n",
       "      <td>145456</td>\n",
       "      <td>2017-06-22</td>\n",
       "      <td>Uluru</td>\n",
       "      <td>3.6</td>\n",
       "      <td>25.3</td>\n",
       "      <td>0.0</td>\n",
       "      <td>NaN</td>\n",
       "      <td>NaN</td>\n",
       "      <td>NNW</td>\n",
       "      <td>22.0</td>\n",
       "      <td>SE</td>\n",
       "      <td>...</td>\n",
       "      <td>56.0</td>\n",
       "      <td>21.0</td>\n",
       "      <td>1023.5</td>\n",
       "      <td>1019.1</td>\n",
       "      <td>NaN</td>\n",
       "      <td>NaN</td>\n",
       "      <td>10.9</td>\n",
       "      <td>24.5</td>\n",
       "      <td>No</td>\n",
       "      <td>No</td>\n",
       "    </tr>\n",
       "    <tr>\n",
       "      <td>145457</td>\n",
       "      <td>2017-06-23</td>\n",
       "      <td>Uluru</td>\n",
       "      <td>5.4</td>\n",
       "      <td>26.9</td>\n",
       "      <td>0.0</td>\n",
       "      <td>NaN</td>\n",
       "      <td>NaN</td>\n",
       "      <td>N</td>\n",
       "      <td>37.0</td>\n",
       "      <td>SE</td>\n",
       "      <td>...</td>\n",
       "      <td>53.0</td>\n",
       "      <td>24.0</td>\n",
       "      <td>1021.0</td>\n",
       "      <td>1016.8</td>\n",
       "      <td>NaN</td>\n",
       "      <td>NaN</td>\n",
       "      <td>12.5</td>\n",
       "      <td>26.1</td>\n",
       "      <td>No</td>\n",
       "      <td>No</td>\n",
       "    </tr>\n",
       "    <tr>\n",
       "      <td>145458</td>\n",
       "      <td>2017-06-24</td>\n",
       "      <td>Uluru</td>\n",
       "      <td>7.8</td>\n",
       "      <td>27.0</td>\n",
       "      <td>0.0</td>\n",
       "      <td>NaN</td>\n",
       "      <td>NaN</td>\n",
       "      <td>SE</td>\n",
       "      <td>28.0</td>\n",
       "      <td>SSE</td>\n",
       "      <td>...</td>\n",
       "      <td>51.0</td>\n",
       "      <td>24.0</td>\n",
       "      <td>1019.4</td>\n",
       "      <td>1016.5</td>\n",
       "      <td>3.0</td>\n",
       "      <td>2.0</td>\n",
       "      <td>15.1</td>\n",
       "      <td>26.0</td>\n",
       "      <td>No</td>\n",
       "      <td>No</td>\n",
       "    </tr>\n",
       "    <tr>\n",
       "      <td>145459</td>\n",
       "      <td>2017-06-25</td>\n",
       "      <td>Uluru</td>\n",
       "      <td>14.9</td>\n",
       "      <td>NaN</td>\n",
       "      <td>0.0</td>\n",
       "      <td>NaN</td>\n",
       "      <td>NaN</td>\n",
       "      <td>NaN</td>\n",
       "      <td>NaN</td>\n",
       "      <td>ESE</td>\n",
       "      <td>...</td>\n",
       "      <td>62.0</td>\n",
       "      <td>36.0</td>\n",
       "      <td>1020.2</td>\n",
       "      <td>1017.9</td>\n",
       "      <td>8.0</td>\n",
       "      <td>8.0</td>\n",
       "      <td>15.0</td>\n",
       "      <td>20.9</td>\n",
       "      <td>No</td>\n",
       "      <td>NaN</td>\n",
       "    </tr>\n",
       "  </tbody>\n",
       "</table>\n",
       "<p>145460 rows × 23 columns</p>\n",
       "</div>"
      ],
      "text/plain": [
       "              Date Location  MinTemp  MaxTemp  Rainfall  Evaporation  \\\n",
       "0       2008-12-01   Albury     13.4     22.9       0.6          NaN   \n",
       "1       2008-12-02   Albury      7.4     25.1       0.0          NaN   \n",
       "2       2008-12-03   Albury     12.9     25.7       0.0          NaN   \n",
       "3       2008-12-04   Albury      9.2     28.0       0.0          NaN   \n",
       "4       2008-12-05   Albury     17.5     32.3       1.0          NaN   \n",
       "...            ...      ...      ...      ...       ...          ...   \n",
       "145455  2017-06-21    Uluru      2.8     23.4       0.0          NaN   \n",
       "145456  2017-06-22    Uluru      3.6     25.3       0.0          NaN   \n",
       "145457  2017-06-23    Uluru      5.4     26.9       0.0          NaN   \n",
       "145458  2017-06-24    Uluru      7.8     27.0       0.0          NaN   \n",
       "145459  2017-06-25    Uluru     14.9      NaN       0.0          NaN   \n",
       "\n",
       "        Sunshine WindGustDir  WindGustSpeed WindDir9am  ... Humidity9am  \\\n",
       "0            NaN           W           44.0          W  ...        71.0   \n",
       "1            NaN         WNW           44.0        NNW  ...        44.0   \n",
       "2            NaN         WSW           46.0          W  ...        38.0   \n",
       "3            NaN          NE           24.0         SE  ...        45.0   \n",
       "4            NaN           W           41.0        ENE  ...        82.0   \n",
       "...          ...         ...            ...        ...  ...         ...   \n",
       "145455       NaN           E           31.0         SE  ...        51.0   \n",
       "145456       NaN         NNW           22.0         SE  ...        56.0   \n",
       "145457       NaN           N           37.0         SE  ...        53.0   \n",
       "145458       NaN          SE           28.0        SSE  ...        51.0   \n",
       "145459       NaN         NaN            NaN        ESE  ...        62.0   \n",
       "\n",
       "        Humidity3pm  Pressure9am  Pressure3pm  Cloud9am  Cloud3pm  Temp9am  \\\n",
       "0              22.0       1007.7       1007.1       8.0       NaN     16.9   \n",
       "1              25.0       1010.6       1007.8       NaN       NaN     17.2   \n",
       "2              30.0       1007.6       1008.7       NaN       2.0     21.0   \n",
       "3              16.0       1017.6       1012.8       NaN       NaN     18.1   \n",
       "4              33.0       1010.8       1006.0       7.0       8.0     17.8   \n",
       "...             ...          ...          ...       ...       ...      ...   \n",
       "145455         24.0       1024.6       1020.3       NaN       NaN     10.1   \n",
       "145456         21.0       1023.5       1019.1       NaN       NaN     10.9   \n",
       "145457         24.0       1021.0       1016.8       NaN       NaN     12.5   \n",
       "145458         24.0       1019.4       1016.5       3.0       2.0     15.1   \n",
       "145459         36.0       1020.2       1017.9       8.0       8.0     15.0   \n",
       "\n",
       "        Temp3pm  RainToday  RainTomorrow  \n",
       "0          21.8         No            No  \n",
       "1          24.3         No            No  \n",
       "2          23.2         No            No  \n",
       "3          26.5         No            No  \n",
       "4          29.7         No            No  \n",
       "...         ...        ...           ...  \n",
       "145455     22.4         No            No  \n",
       "145456     24.5         No            No  \n",
       "145457     26.1         No            No  \n",
       "145458     26.0         No            No  \n",
       "145459     20.9         No           NaN  \n",
       "\n",
       "[145460 rows x 23 columns]"
      ]
     },
     "execution_count": 90,
     "metadata": {},
     "output_type": "execute_result"
    }
   ],
   "source": [
    "rainAus_df"
   ]
  },
  {
   "cell_type": "markdown",
   "metadata": {},
   "source": [
    "Terlihat cukup banyak data yang mengandung **NaN**, sehingga penanganan (imputasi) *missing values* menjadi penting"
   ]
  },
  {
   "cell_type": "markdown",
   "metadata": {},
   "source": [
    "### Mengetahui dimensi data"
   ]
  },
  {
   "cell_type": "code",
   "execution_count": 91,
   "metadata": {},
   "outputs": [
    {
     "name": "stdout",
     "output_type": "stream",
     "text": [
      "(145460, 23)\n"
     ]
    }
   ],
   "source": [
    "print(rainAus_df.shape)"
   ]
  },
  {
   "cell_type": "markdown",
   "metadata": {},
   "source": [
    "### Mengetahui daftar kolom (atribut)"
   ]
  },
  {
   "cell_type": "code",
   "execution_count": 92,
   "metadata": {},
   "outputs": [
    {
     "name": "stdout",
     "output_type": "stream",
     "text": [
      "['Date' 'Location' 'MinTemp' 'MaxTemp' 'Rainfall' 'Evaporation' 'Sunshine'\n",
      " 'WindGustDir' 'WindGustSpeed' 'WindDir9am' 'WindDir3pm' 'WindSpeed9am'\n",
      " 'WindSpeed3pm' 'Humidity9am' 'Humidity3pm' 'Pressure9am' 'Pressure3pm'\n",
      " 'Cloud9am' 'Cloud3pm' 'Temp9am' 'Temp3pm' 'RainToday' 'RainTomorrow']\n"
     ]
    }
   ],
   "source": [
    "attributes = rainAus_df.columns.values\n",
    "print(attributes)"
   ]
  },
  {
   "cell_type": "markdown",
   "metadata": {},
   "source": [
    "### Melihat tipe data setiap kolom"
   ]
  },
  {
   "cell_type": "code",
   "execution_count": 93,
   "metadata": {},
   "outputs": [
    {
     "name": "stdout",
     "output_type": "stream",
     "text": [
      "<class 'pandas.core.frame.DataFrame'>\n",
      "RangeIndex: 145460 entries, 0 to 145459\n",
      "Data columns (total 23 columns):\n",
      "Date             145460 non-null object\n",
      "Location         145460 non-null object\n",
      "MinTemp          143975 non-null float64\n",
      "MaxTemp          144199 non-null float64\n",
      "Rainfall         142199 non-null float64\n",
      "Evaporation      82670 non-null float64\n",
      "Sunshine         75625 non-null float64\n",
      "WindGustDir      135134 non-null object\n",
      "WindGustSpeed    135197 non-null float64\n",
      "WindDir9am       134894 non-null object\n",
      "WindDir3pm       141232 non-null object\n",
      "WindSpeed9am     143693 non-null float64\n",
      "WindSpeed3pm     142398 non-null float64\n",
      "Humidity9am      142806 non-null float64\n",
      "Humidity3pm      140953 non-null float64\n",
      "Pressure9am      130395 non-null float64\n",
      "Pressure3pm      130432 non-null float64\n",
      "Cloud9am         89572 non-null float64\n",
      "Cloud3pm         86102 non-null float64\n",
      "Temp9am          143693 non-null float64\n",
      "Temp3pm          141851 non-null float64\n",
      "RainToday        142199 non-null object\n",
      "RainTomorrow     142193 non-null object\n",
      "dtypes: float64(16), object(7)\n",
      "memory usage: 25.5+ MB\n"
     ]
    }
   ],
   "source": [
    "rainAus_df.info()"
   ]
  },
  {
   "cell_type": "markdown",
   "metadata": {},
   "source": [
    "Dari hasil ini terlihat bahwa ada nilai *missing values* yang banyak pada beberapa atribut, seperti **Evaporation, Sunshine, Cloud9am, Cloud3pm**. Selain itu, ada beberapa tipe data yang beragam dari data yang diperoleh, seperti **object (category) dan float)"
   ]
  },
  {
   "cell_type": "markdown",
   "metadata": {},
   "source": [
    "### Menampilkan statistik deskriptif untuk tipe data numerikal"
   ]
  },
  {
   "cell_type": "code",
   "execution_count": 94,
   "metadata": {},
   "outputs": [],
   "source": [
    "# Memilih atribut yang bertipe numerik (float, int, ...)\n",
    "numerical_columns = rainAus_df.select_dtypes(include=['float64','int64']).columns.values\n",
    "\n",
    "# Memilih atribut yang bertipe kategorikal (object)\n",
    "categorical_columns = rainAus_df.select_dtypes(include=['object']).columns.values"
   ]
  },
  {
   "cell_type": "code",
   "execution_count": 95,
   "metadata": {},
   "outputs": [
    {
     "name": "stdout",
     "output_type": "stream",
     "text": [
      "['MinTemp' 'MaxTemp' 'Rainfall' 'Evaporation' 'Sunshine' 'WindGustSpeed'\n",
      " 'WindSpeed9am' 'WindSpeed3pm' 'Humidity9am' 'Humidity3pm' 'Pressure9am'\n",
      " 'Pressure3pm' 'Cloud9am' 'Cloud3pm' 'Temp9am' 'Temp3pm']\n",
      "['Date' 'Location' 'WindGustDir' 'WindDir9am' 'WindDir3pm' 'RainToday'\n",
      " 'RainTomorrow']\n"
     ]
    }
   ],
   "source": [
    "# cetak daftar atribut numerik dan kategorikal\n",
    "print(numerical_columns)\n",
    "print(categorical_columns)"
   ]
  },
  {
   "cell_type": "code",
   "execution_count": 96,
   "metadata": {},
   "outputs": [
    {
     "data": {
      "text/html": [
       "<div>\n",
       "<style scoped>\n",
       "    .dataframe tbody tr th:only-of-type {\n",
       "        vertical-align: middle;\n",
       "    }\n",
       "\n",
       "    .dataframe tbody tr th {\n",
       "        vertical-align: top;\n",
       "    }\n",
       "\n",
       "    .dataframe thead th {\n",
       "        text-align: right;\n",
       "    }\n",
       "</style>\n",
       "<table border=\"1\" class=\"dataframe\">\n",
       "  <thead>\n",
       "    <tr style=\"text-align: right;\">\n",
       "      <th></th>\n",
       "      <th>MinTemp</th>\n",
       "      <th>MaxTemp</th>\n",
       "      <th>Rainfall</th>\n",
       "      <th>Evaporation</th>\n",
       "      <th>Sunshine</th>\n",
       "      <th>WindGustSpeed</th>\n",
       "      <th>WindSpeed9am</th>\n",
       "      <th>WindSpeed3pm</th>\n",
       "      <th>Humidity9am</th>\n",
       "      <th>Humidity3pm</th>\n",
       "      <th>Pressure9am</th>\n",
       "      <th>Pressure3pm</th>\n",
       "      <th>Cloud9am</th>\n",
       "      <th>Cloud3pm</th>\n",
       "      <th>Temp9am</th>\n",
       "      <th>Temp3pm</th>\n",
       "    </tr>\n",
       "  </thead>\n",
       "  <tbody>\n",
       "    <tr>\n",
       "      <td>count</td>\n",
       "      <td>143975.000000</td>\n",
       "      <td>144199.000000</td>\n",
       "      <td>142199.000000</td>\n",
       "      <td>82670.000000</td>\n",
       "      <td>75625.000000</td>\n",
       "      <td>135197.000000</td>\n",
       "      <td>143693.000000</td>\n",
       "      <td>142398.000000</td>\n",
       "      <td>142806.000000</td>\n",
       "      <td>140953.000000</td>\n",
       "      <td>130395.00000</td>\n",
       "      <td>130432.000000</td>\n",
       "      <td>89572.000000</td>\n",
       "      <td>86102.000000</td>\n",
       "      <td>143693.000000</td>\n",
       "      <td>141851.00000</td>\n",
       "    </tr>\n",
       "    <tr>\n",
       "      <td>mean</td>\n",
       "      <td>12.194034</td>\n",
       "      <td>23.221348</td>\n",
       "      <td>2.360918</td>\n",
       "      <td>5.468232</td>\n",
       "      <td>7.611178</td>\n",
       "      <td>40.035230</td>\n",
       "      <td>14.043426</td>\n",
       "      <td>18.662657</td>\n",
       "      <td>68.880831</td>\n",
       "      <td>51.539116</td>\n",
       "      <td>1017.64994</td>\n",
       "      <td>1015.255889</td>\n",
       "      <td>4.447461</td>\n",
       "      <td>4.509930</td>\n",
       "      <td>16.990631</td>\n",
       "      <td>21.68339</td>\n",
       "    </tr>\n",
       "    <tr>\n",
       "      <td>std</td>\n",
       "      <td>6.398495</td>\n",
       "      <td>7.119049</td>\n",
       "      <td>8.478060</td>\n",
       "      <td>4.193704</td>\n",
       "      <td>3.785483</td>\n",
       "      <td>13.607062</td>\n",
       "      <td>8.915375</td>\n",
       "      <td>8.809800</td>\n",
       "      <td>19.029164</td>\n",
       "      <td>20.795902</td>\n",
       "      <td>7.10653</td>\n",
       "      <td>7.037414</td>\n",
       "      <td>2.887159</td>\n",
       "      <td>2.720357</td>\n",
       "      <td>6.488753</td>\n",
       "      <td>6.93665</td>\n",
       "    </tr>\n",
       "    <tr>\n",
       "      <td>min</td>\n",
       "      <td>-8.500000</td>\n",
       "      <td>-4.800000</td>\n",
       "      <td>0.000000</td>\n",
       "      <td>0.000000</td>\n",
       "      <td>0.000000</td>\n",
       "      <td>6.000000</td>\n",
       "      <td>0.000000</td>\n",
       "      <td>0.000000</td>\n",
       "      <td>0.000000</td>\n",
       "      <td>0.000000</td>\n",
       "      <td>980.50000</td>\n",
       "      <td>977.100000</td>\n",
       "      <td>0.000000</td>\n",
       "      <td>0.000000</td>\n",
       "      <td>-7.200000</td>\n",
       "      <td>-5.40000</td>\n",
       "    </tr>\n",
       "    <tr>\n",
       "      <td>25%</td>\n",
       "      <td>7.600000</td>\n",
       "      <td>17.900000</td>\n",
       "      <td>0.000000</td>\n",
       "      <td>2.600000</td>\n",
       "      <td>4.800000</td>\n",
       "      <td>31.000000</td>\n",
       "      <td>7.000000</td>\n",
       "      <td>13.000000</td>\n",
       "      <td>57.000000</td>\n",
       "      <td>37.000000</td>\n",
       "      <td>1012.90000</td>\n",
       "      <td>1010.400000</td>\n",
       "      <td>1.000000</td>\n",
       "      <td>2.000000</td>\n",
       "      <td>12.300000</td>\n",
       "      <td>16.60000</td>\n",
       "    </tr>\n",
       "    <tr>\n",
       "      <td>50%</td>\n",
       "      <td>12.000000</td>\n",
       "      <td>22.600000</td>\n",
       "      <td>0.000000</td>\n",
       "      <td>4.800000</td>\n",
       "      <td>8.400000</td>\n",
       "      <td>39.000000</td>\n",
       "      <td>13.000000</td>\n",
       "      <td>19.000000</td>\n",
       "      <td>70.000000</td>\n",
       "      <td>52.000000</td>\n",
       "      <td>1017.60000</td>\n",
       "      <td>1015.200000</td>\n",
       "      <td>5.000000</td>\n",
       "      <td>5.000000</td>\n",
       "      <td>16.700000</td>\n",
       "      <td>21.10000</td>\n",
       "    </tr>\n",
       "    <tr>\n",
       "      <td>75%</td>\n",
       "      <td>16.900000</td>\n",
       "      <td>28.200000</td>\n",
       "      <td>0.800000</td>\n",
       "      <td>7.400000</td>\n",
       "      <td>10.600000</td>\n",
       "      <td>48.000000</td>\n",
       "      <td>19.000000</td>\n",
       "      <td>24.000000</td>\n",
       "      <td>83.000000</td>\n",
       "      <td>66.000000</td>\n",
       "      <td>1022.40000</td>\n",
       "      <td>1020.000000</td>\n",
       "      <td>7.000000</td>\n",
       "      <td>7.000000</td>\n",
       "      <td>21.600000</td>\n",
       "      <td>26.40000</td>\n",
       "    </tr>\n",
       "    <tr>\n",
       "      <td>max</td>\n",
       "      <td>33.900000</td>\n",
       "      <td>48.100000</td>\n",
       "      <td>371.000000</td>\n",
       "      <td>145.000000</td>\n",
       "      <td>14.500000</td>\n",
       "      <td>135.000000</td>\n",
       "      <td>130.000000</td>\n",
       "      <td>87.000000</td>\n",
       "      <td>100.000000</td>\n",
       "      <td>100.000000</td>\n",
       "      <td>1041.00000</td>\n",
       "      <td>1039.600000</td>\n",
       "      <td>9.000000</td>\n",
       "      <td>9.000000</td>\n",
       "      <td>40.200000</td>\n",
       "      <td>46.70000</td>\n",
       "    </tr>\n",
       "  </tbody>\n",
       "</table>\n",
       "</div>"
      ],
      "text/plain": [
       "             MinTemp        MaxTemp       Rainfall   Evaporation  \\\n",
       "count  143975.000000  144199.000000  142199.000000  82670.000000   \n",
       "mean       12.194034      23.221348       2.360918      5.468232   \n",
       "std         6.398495       7.119049       8.478060      4.193704   \n",
       "min        -8.500000      -4.800000       0.000000      0.000000   \n",
       "25%         7.600000      17.900000       0.000000      2.600000   \n",
       "50%        12.000000      22.600000       0.000000      4.800000   \n",
       "75%        16.900000      28.200000       0.800000      7.400000   \n",
       "max        33.900000      48.100000     371.000000    145.000000   \n",
       "\n",
       "           Sunshine  WindGustSpeed   WindSpeed9am   WindSpeed3pm  \\\n",
       "count  75625.000000  135197.000000  143693.000000  142398.000000   \n",
       "mean       7.611178      40.035230      14.043426      18.662657   \n",
       "std        3.785483      13.607062       8.915375       8.809800   \n",
       "min        0.000000       6.000000       0.000000       0.000000   \n",
       "25%        4.800000      31.000000       7.000000      13.000000   \n",
       "50%        8.400000      39.000000      13.000000      19.000000   \n",
       "75%       10.600000      48.000000      19.000000      24.000000   \n",
       "max       14.500000     135.000000     130.000000      87.000000   \n",
       "\n",
       "         Humidity9am    Humidity3pm   Pressure9am    Pressure3pm  \\\n",
       "count  142806.000000  140953.000000  130395.00000  130432.000000   \n",
       "mean       68.880831      51.539116    1017.64994    1015.255889   \n",
       "std        19.029164      20.795902       7.10653       7.037414   \n",
       "min         0.000000       0.000000     980.50000     977.100000   \n",
       "25%        57.000000      37.000000    1012.90000    1010.400000   \n",
       "50%        70.000000      52.000000    1017.60000    1015.200000   \n",
       "75%        83.000000      66.000000    1022.40000    1020.000000   \n",
       "max       100.000000     100.000000    1041.00000    1039.600000   \n",
       "\n",
       "           Cloud9am      Cloud3pm        Temp9am       Temp3pm  \n",
       "count  89572.000000  86102.000000  143693.000000  141851.00000  \n",
       "mean       4.447461      4.509930      16.990631      21.68339  \n",
       "std        2.887159      2.720357       6.488753       6.93665  \n",
       "min        0.000000      0.000000      -7.200000      -5.40000  \n",
       "25%        1.000000      2.000000      12.300000      16.60000  \n",
       "50%        5.000000      5.000000      16.700000      21.10000  \n",
       "75%        7.000000      7.000000      21.600000      26.40000  \n",
       "max        9.000000      9.000000      40.200000      46.70000  "
      ]
     },
     "execution_count": 96,
     "metadata": {},
     "output_type": "execute_result"
    }
   ],
   "source": [
    "# Menghitung statistik deskriptif dari data dengan atribut numerik\n",
    "rainAus_df[numerical_columns].describe()"
   ]
  },
  {
   "cell_type": "markdown",
   "metadata": {},
   "source": [
    "### Mengetahui nilai unik setiap atribut bertipe kategorikal\n",
    "***\n",
    "Ini dilakukan untuk melihat apakah ada data yang diinput tidak dengan nilai yang seharusnya"
   ]
  },
  {
   "cell_type": "code",
   "execution_count": 97,
   "metadata": {},
   "outputs": [
    {
     "name": "stdout",
     "output_type": "stream",
     "text": [
      "Nilai unik atribut DATE (3436 nilai)\n",
      "['2008-12-01' '2008-12-02' '2008-12-03' ... '2008-01-29' '2008-01-30'\n",
      " '2008-01-31']\n",
      "==============================\n",
      "Nilai unik atribut LOCATION (49 nilai)\n",
      "['Albury' 'BadgerysCreek' 'Cobar' 'CoffsHarbour' 'Moree' 'Newcastle'\n",
      " 'NorahHead' 'NorfolkIsland' 'Penrith' 'Richmond' 'Sydney' 'SydneyAirport'\n",
      " 'WaggaWagga' 'Williamtown' 'Wollongong' 'Canberra' 'Tuggeranong'\n",
      " 'MountGinini' 'Ballarat' 'Bendigo' 'Sale' 'MelbourneAirport' 'Melbourne'\n",
      " 'Mildura' 'Nhil' 'Portland' 'Watsonia' 'Dartmoor' 'Brisbane' 'Cairns'\n",
      " 'GoldCoast' 'Townsville' 'Adelaide' 'MountGambier' 'Nuriootpa' 'Woomera'\n",
      " 'Albany' 'Witchcliffe' 'PearceRAAF' 'PerthAirport' 'Perth' 'SalmonGums'\n",
      " 'Walpole' 'Hobart' 'Launceston' 'AliceSprings' 'Darwin' 'Katherine'\n",
      " 'Uluru']\n",
      "==============================\n",
      "Nilai unik atribut WINDGUSTDIR (16 nilai)\n",
      "['W' 'WNW' 'WSW' 'NE' 'NNW' 'N' 'NNE' 'SW' nan 'ENE' 'SSE' 'S' 'NW' 'SE'\n",
      " 'ESE' 'E' 'SSW']\n",
      "==============================\n",
      "Nilai unik atribut WINDDIR9AM (16 nilai)\n",
      "['W' 'NNW' 'SE' 'ENE' 'SW' 'SSE' 'S' 'NE' nan 'SSW' 'N' 'WSW' 'ESE' 'E'\n",
      " 'NW' 'WNW' 'NNE']\n",
      "==============================\n",
      "Nilai unik atribut WINDDIR3PM (16 nilai)\n",
      "['WNW' 'WSW' 'E' 'NW' 'W' 'SSE' 'ESE' 'ENE' 'NNW' 'SSW' 'SW' 'SE' 'N' 'S'\n",
      " 'NNE' nan 'NE']\n",
      "==============================\n",
      "Nilai unik atribut RAINTODAY (2 nilai)\n",
      "['No' 'Yes' nan]\n",
      "==============================\n",
      "Nilai unik atribut RAINTOMORROW (2 nilai)\n",
      "['No' 'Yes' nan]\n",
      "==============================\n"
     ]
    }
   ],
   "source": [
    "# mencetak nilai unik yang terdapat pada setiap atribut yang bertipe categorical\n",
    "for cat_col in categorical_columns:\n",
    "    print(\"Nilai unik atribut {} ({} nilai)\".format(cat_col.upper(),rainAus_df[cat_col].nunique()))\n",
    "    print(rainAus_df[cat_col].unique())\n",
    "    print(\"=\"*30)"
   ]
  },
  {
   "cell_type": "markdown",
   "metadata": {},
   "source": [
    "### Mengetahui nilai unik setiap atribut bertipe numerikal\n",
    "***\n",
    "Ini dilakukan untuk melihat apakah ada data yang diinput tidak dengan nilai yang seharusnya"
   ]
  },
  {
   "cell_type": "code",
   "execution_count": 98,
   "metadata": {},
   "outputs": [
    {
     "name": "stdout",
     "output_type": "stream",
     "text": [
      "Nilai unik atribut MINTEMP (389 nilai)\n",
      "[13.4  7.4 12.9  9.2 17.5 14.6 14.3  7.7  9.7 13.1 15.9 12.6  8.4  9.8\n",
      " 14.1 13.5 11.2 11.5 17.1 20.5 15.3 16.2 16.9 20.1 19.7 12.5 12.  11.3\n",
      "  9.6 10.5 12.3 13.7 16.1 14.  17.  17.3 17.2 17.4 19.8 14.9 13.9 18.6\n",
      " 19.3 24.4 18.8 20.8 15.7 18.5 20.4 21.8 22.3 22.  28.  21.5 21.7 23.5\n",
      " 28.3 18.4 12.4 13.3 18.  18.7 15.5  8.9 15.  15.4 16.  12.8 13.2 13.8\n",
      "  7.6  8.3 11.  20.9 16.4 10.   8.8  9.3 14.4 10.8 10.1  9.1 10.4 12.2\n",
      " 10.7  7.8  8.1  7.5  8.2 11.6 13.   9.9  3.5  6.6  7.   5.7  6.2  6.\n",
      " 10.6  8.6  4.5  5.4  2.1  1.8  7.2  4.6  4.2  5.2  4.1  3.2  4.3  3.7\n",
      "  3.6  6.9 10.3  3.   2.6  5.1  4.4  4.7  6.7  8.   2.2  1.7  2.8  9.\n",
      "  6.3 -2.  -1.3  2.   0.5  1.2  0.6  0.9  5.   3.9  3.4  0.  -1.5 -1.7\n",
      " -0.4  0.1  4.8  5.9  2.9 -0.6 -0.3 -1.   0.8 -0.1  1.3  3.3  6.5 -0.8\n",
      "  1.9  6.8  2.7  1.6  5.5  7.3  0.2  5.8  7.1  1.1  1.   6.1  nan  5.3\n",
      "  4.  11.7  8.5  3.8  6.4  9.5 14.5 15.6 17.8 16.7 18.1 12.1 11.4 18.3\n",
      " 11.9 21.  11.1 18.2 14.2 11.8 13.6 12.7 15.1 22.9 17.6 21.1 19.4 14.8\n",
      " 16.3 19.6 20.6 24.5 22.6 16.8  8.7 19.2 24.7 17.7 15.2 18.9 17.9 19.5\n",
      " 20.3 23.  22.1 22.5 20.2 16.5  5.6  3.1  1.4 10.2  9.4  0.4  4.9  1.5\n",
      "  2.3  0.7 -0.5  2.5 -1.2  0.3  2.4 14.7 10.9 16.6 21.3 23.2 21.6 24.\n",
      " 19.9 20.7 21.9 -0.7 -1.1 -1.4 -0.2 -1.6 15.8 19.1 20.  -2.5 -1.8  7.9\n",
      " 21.2 22.2 23.7 25.2 19.  -0.9 -2.1 -2.8 26.  -2.4 26.8 23.4 22.8 22.4\n",
      " 24.6 23.9 -3.  23.1 23.6 21.4 -1.9 25.1 24.2 27.1 23.3 24.9 25.4 23.8\n",
      " 27.  26.2 25.  24.8 27.6 24.1 27.2 29.1 28.9 25.3 27.4 28.8 27.3 26.1\n",
      " 26.5 22.7 25.7 24.3 29.3 27.7 26.3 25.8 29.4 25.6 26.7 26.6 28.1 27.8\n",
      " 28.5 25.5 26.9 26.4 27.5 28.7 29.7 25.9 -2.3 -3.3 -2.2 -3.2 29.  28.6\n",
      " -3.8 -4.8 -3.1 -2.7 -2.6 -2.9 -4.7 -3.6 -3.5 -3.4 -5.3 -3.7 -5.8 -5.\n",
      " -4.5 -4.3 -3.9 -4.2 -4.  -6.9 -6.5 -5.5 -5.2 -6.3 -4.4 -8.  -6.7 -4.9\n",
      " -5.4 -6.1 -4.6 -6.  -6.6 -5.1 -5.6 -6.8 -7.6 -7.  -4.1 -5.7 -6.2 -8.2\n",
      " -5.9 -8.5 -7.1 -6.4 -7.5 -7.2 -7.8 -7.3 30.5 29.8 31.9 28.4 28.2 27.9\n",
      " 30.7 33.9 29.2 29.9 31.4 31.8 29.5 31.2 29.6 30.3 31.  30.2]\n",
      "==============================\n",
      "Nilai unik atribut MAXTEMP (505 nilai)\n",
      "[22.9 25.1 25.7 28.  32.3 29.7 25.  26.7 31.9 30.1 30.4 21.7 18.6 21.\n",
      " 24.6 27.7 20.9 22.5 25.6 29.3 33.  31.8 30.9 32.4 33.9 32.7 27.2 24.2\n",
      " 24.4 26.5 23.9 28.8 34.6 35.8 37.9 38.9 28.3 28.4 30.8 32.  34.7 37.7\n",
      " 43.  32.2 36.6 39.9 38.1 34.  35.2 30.6 34.3 38.4 38.2 40.7 41.5 42.9\n",
      " 42.7 43.1 38.3 36.9 41.2 42.2 44.8 40.2 31.2 27.3 21.6 29.  29.2 31.3\n",
      " 31.1 29.1 31.7 33.2 29.6 32.6 34.5 30.3 22.1 22.  24.  27.9 30.2 30.5\n",
      " 25.8 27.  19.7 21.9 25.3 33.5 33.6 30.  31.6 22.3 29.8 27.6 28.9 29.9\n",
      " 32.1 28.1 21.4 24.9 25.4 20.  23.4 22.7 16.2 15.8 12.9 11.5 14.5 12.2\n",
      " 16.5 17.  19.2 18.9 19.1 18.8 19.3 18.4 19.  20.5 19.5 17.7 18.5 15.1\n",
      " 16.3 16.6 16.4 15.6 19.8 21.1 20.3 18.1 15.7 16.8 17.1 14.3 13.4 17.4\n",
      " 16.1 10.5 11.6 12.   8.8  9.6  8.2 12.4 14.9 15.9 14.7 15.3 17.3 15.5\n",
      " 14.1 13.7 11.9 12.3 13.3 13.2 12.1 12.5 13.8 15.  13.5 13.1 11.  12.6\n",
      " 14.4  9.8 12.7 13.9 14.8 15.2 17.5 13.6 12.8 16.7 17.9 11.1 14.2 20.7\n",
      " 16.9 17.6  nan 24.7 17.8 17.2 20.4 20.6 20.2 18.2 18.7 23.3 26.6 27.1\n",
      " 23.1 24.1 26.8 26.9 24.3 23.2 33.4 36.  35.1 32.8 35.4 36.3 39.7 23.6\n",
      " 32.9 26.2 26.4 31.5 27.5 30.7 27.4 22.6 38.6 40.3 33.7 35.9 36.8 33.8\n",
      " 36.4 39.8 42.4 25.2 37.3 41.8 34.4 36.5 35.6 26.1 35.  28.5 31.  26.3\n",
      " 25.5 22.4 28.6 31.4 28.7 24.8 19.9 23.5 25.9 23.  10.2 14.   8.4  8.3\n",
      "  9.4 10.9 10.3 10.8 14.6 15.4 10.  10.1 11.8 16.  10.4 13.  11.7 10.7\n",
      " 19.6 20.1 20.8 23.7 18.  21.8 22.2 24.5 29.4 21.2 32.5 28.2 21.5 22.8\n",
      " 11.2 19.4 18.3  9.2  9.3 21.3 23.8 26.  27.8 33.1 34.9 36.1 36.2 35.3\n",
      " 35.5  9.7 10.6 11.3 11.4 36.7 37.4 43.4 42.  40.4 39.2 38.8 37.  35.7\n",
      " 37.1 29.5 37.6 40.5 39.  43.6 42.6 34.2 33.3 40.6 41.7 41.6 41.1 40.1\n",
      "  8.7 39.6 34.1  9.9  8.6  9.1  6.8  9.5  9.  37.2 34.8 40.  38.  39.5\n",
      " 40.9 38.5  7.5 39.3 42.5 43.7 37.8 38.7 41.9 39.4 41.4 37.5 45.8 41.\n",
      " 39.1 40.8 42.8 45.1 44.4 43.5 42.1 46.4 43.9 45.4 41.3 44.3 46.  43.8\n",
      " 43.2 45.2  8.5 42.3  7.8 45.7 46.6 47.3 44.5 44.1 44.  43.3 46.5 44.9\n",
      " 46.9 45.3 44.6 47.   8.9  8.1  7.6  6.3  8.   6.6 45.  45.5  4.1  7.7\n",
      "  7.1  7.9  7.   7.3  2.6  7.4  6.2  7.2  6.   4.9 -1.7  0.   2.4  5.3\n",
      "  2.3  5.7  5.2  5.5  4.7  6.5  2.5  2.7  3.4  2.9  5.   3.2  0.1 -0.1\n",
      " -2.2 -0.6  0.6  2.2  4.   3.5  3.   4.2  3.3  3.9  0.4  3.8  5.9 -0.7\n",
      " -1.8 -0.2  0.9 -1.3  1.8  3.1  1.6  0.3  1.2 -0.5  1.   0.5  0.2  1.9\n",
      "  2.   5.1  2.8  6.7  4.3 -2.4 -0.3  4.6  6.9 -2.5  2.1  1.4  5.6  3.6\n",
      "  4.4  5.4 -2.7 -1.   5.8  4.8  1.1  1.3 -1.4 -0.8 -2.   4.5 -0.4  1.7\n",
      " -0.9 -2.1 -1.5 -3.1  6.1 -1.2  6.4  3.7 -1.1  1.5 -1.9  0.8 -2.3 -3.7\n",
      " -2.9 -3.8  0.7 -4.1 -3.2 -3.  -4.8 44.2 46.8 46.7 46.3 44.7 45.6 46.2\n",
      " 48.1 46.1]\n",
      "==============================\n",
      "Nilai unik atribut RAINFALL (681 nilai)\n",
      "[6.000e-01 0.000e+00 1.000e+00 2.000e-01 1.400e+00 2.200e+00 1.560e+01\n",
      " 3.600e+00       nan 1.680e+01 1.060e+01 1.200e+00 8.000e-01 6.400e+00\n",
      " 4.000e-01 3.000e+00 5.800e+00 1.160e+01 1.800e+00 8.600e+00 1.260e+01\n",
      " 8.400e+00 6.200e+00 2.000e+01 2.100e+01 3.200e+00 4.800e+00 4.200e+00\n",
      " 8.000e+00 1.440e+01 4.600e+00 2.000e+00 5.600e+00 1.600e+00 6.000e+00\n",
      " 4.400e+00 5.400e+00 5.000e+00 7.800e+00 6.800e+00 9.800e+00 3.800e+00\n",
      " 2.400e+00 5.200e+00 6.600e+00 1.340e+01 1.020e+01 2.880e+01 7.000e+00\n",
      " 2.580e+01 9.400e+00 1.240e+01 5.220e+01 2.060e+01 6.600e+01 1.100e+01\n",
      " 1.700e+01 1.040e+01 2.800e+01 2.140e+01 1.860e+01 7.200e+00 8.200e+00\n",
      " 1.080e+01 1.540e+01 9.600e+00 4.000e+00 2.180e+01 2.080e+01 2.480e+01\n",
      " 1.000e+01 1.140e+01 1.900e+01 2.220e+01 3.280e+01 3.400e+00 5.080e+01\n",
      " 5.260e+01 1.920e+01 1.880e+01 1.480e+01 1.200e+01 1.840e+01 2.560e+01\n",
      " 3.500e+01 1.420e+01 1.380e+01 2.600e+00 9.920e+01 5.100e+01 3.980e+01\n",
      " 2.820e+01 1.220e+01 1.280e+01 1.180e+01 1.980e+01 1.740e+01 8.800e+00\n",
      " 1.620e+01 1.460e+01 2.800e+00 3.080e+01 2.840e+01 3.480e+01 4.400e+01\n",
      " 1.400e+01 1.660e+01 9.000e+00 2.680e+01 3.840e+01 1.042e+02 3.660e+01\n",
      " 3.420e+01 2.940e+01 2.720e+01 1.120e+01 1.320e+01 3.340e+01 7.600e+00\n",
      " 2.460e+01 7.400e+00 1.600e+01 1.940e+01 5.340e+01 1.500e+01 3.360e+01\n",
      " 1.720e+01 3.740e+01 1.300e+01 3.100e+01 9.200e+00 6.620e+01 3.640e+01\n",
      " 4.100e+01 2.440e+01 2.700e+01 4.680e+01 1.580e+01 3.580e+01 2.240e+01\n",
      " 1.640e+01 1.520e+01 2.300e+01 2.280e+01 2.860e+01 4.600e+01 2.420e+01\n",
      " 2.200e+01 1.800e+01 3.120e+01 2.120e+01 3.600e+01 2.340e+01 3.200e+01\n",
      " 4.640e+01 1.360e+01 4.200e+01 3.380e+01 2.540e+01 2.040e+01 2.260e+01\n",
      " 4.320e+01 6.140e+01 4.820e+01 4.860e+01 1.820e+01 6.780e+01 3.920e+01\n",
      " 3.180e+01 8.240e+01 3.540e+01 1.160e+02 3.060e+01 1.780e+01 3.820e+01\n",
      " 3.020e+01 2.400e+01 4.700e+01 4.240e+01 3.300e+01 4.000e+01 4.420e+01\n",
      " 3.460e+01 3.040e+01 3.880e+01 8.360e+01 5.020e+01 2.620e+01 3.800e+01\n",
      " 3.160e+01 2.780e+01 2.980e+01 1.760e+01 1.002e+02 1.092e+02 2.360e+01\n",
      " 3.260e+01 2.160e+01 5.400e+01 3.960e+01 2.600e+01 3.400e+01 4.940e+01\n",
      " 3.700e+01 2.920e+01 6.800e+01 3.320e+01 2.740e+01 3.900e+01 3.860e+01\n",
      " 4.300e+01 4.500e+00 2.910e+01 2.900e+00 1.300e+00 3.000e+01 6.360e+01\n",
      " 1.890e+02 5.860e+01 6.260e+01 5.900e+01 2.020e+01 4.280e+01 7.600e+01\n",
      " 1.960e+01 5.580e+01 7.000e+01 7.120e+01 1.418e+02 9.600e+01 3.710e+02\n",
      " 5.800e+01 6.700e+01 8.060e+01 5.660e+01 4.520e+01 5.940e+01 4.260e+01\n",
      " 3.440e+01 9.000e+01 1.280e+02 6.120e+01 2.380e+01 2.760e+01 7.380e+01\n",
      " 7.220e+01 1.054e+02 4.040e+01 1.020e+02 4.440e+01 4.800e+01 6.380e+01\n",
      " 3.680e+01 5.500e+00 2.520e+01 1.034e+02 1.276e+02 6.320e+01 5.240e+01\n",
      " 2.500e+01 5.500e+01 5.680e+01 7.080e+01 6.240e+01 1.120e+02 1.532e+02\n",
      " 4.580e+01 9.700e+01 5.180e+01 8.640e+01 5.000e-01 1.598e+02 2.085e+02\n",
      " 1.722e+02 9.000e-01 2.500e+00 3.000e-01 1.700e+00 3.300e+00 5.120e+01\n",
      " 1.064e+02 1.478e+02 4.560e+01 5.960e+01 2.900e+01 1.170e+01 7.500e+01\n",
      " 7.640e+01 6.400e+01 5.320e+01 1.004e+02 1.000e-01 6.580e+01 8.500e+00\n",
      " 3.240e+01 1.578e+02 4.100e+00 1.138e+02 7.000e-01 3.100e+00 1.500e+00\n",
      " 3.220e+01 3.270e+01 1.010e+01 1.110e+01 9.610e+01 4.980e+01 2.196e+02\n",
      " 1.094e+02 3.500e+00 2.640e+01 2.960e+01 3.620e+01 3.760e+01 4.380e+01\n",
      " 4.150e+01 5.060e+01 1.428e+02 1.062e+02 1.048e+02 2.700e+00 3.110e+01\n",
      " 1.390e+01 7.100e+01 9.060e+01 6.480e+01 4.760e+01 5.140e+01 2.660e+01\n",
      " 4.880e+01 3.720e+01 3.940e+01 1.130e+02 7.440e+01 9.280e+01 4.020e+01\n",
      " 7.680e+01 5.460e+01 4.480e+01 4.460e+01 5.000e+01 2.270e+01 2.090e+01\n",
      " 5.980e+01 4.540e+01 1.472e+02 3.520e+01 7.140e+01 3.140e+01 2.370e+01\n",
      " 4.220e+01 7.560e+01 4.180e+01 4.360e+01 4.900e+00 3.560e+01 2.650e+01\n",
      " 4.900e+01 3.390e+01 3.070e+01 5.300e+00 1.070e+01 6.410e+01 5.040e+01\n",
      " 4.550e+01 6.900e+00 6.880e+01 7.760e+01 8.980e+01 6.980e+01 3.250e+01\n",
      " 1.325e+02 1.570e+01 2.250e+01 2.400e+02 4.120e+01 6.300e+00 5.820e+01\n",
      " 3.790e+01 2.950e+01 5.200e+01 2.150e+01 2.163e+02 1.250e+01 2.300e+00\n",
      " 5.160e+01 2.070e+01 6.340e+01 7.420e+01 2.320e+01 4.340e+01 5.600e+01\n",
      " 4.060e+01 4.780e+01 4.840e+01 6.920e+01 5.560e+01 6.180e+01 7.300e+01\n",
      " 8.340e+01 3.780e+01 1.264e+02 4.720e+01 5.920e+01 1.202e+02 5.620e+01\n",
      " 8.900e+01 7.620e+01 8.280e+01 6.960e+01 7.200e+01 4.080e+01 1.074e+02\n",
      " 7.160e+01 2.990e+01 1.422e+02 7.980e+01 8.480e+01 1.056e+02 5.760e+01\n",
      " 4.500e+01 6.220e+01 1.110e+02 1.226e+02 5.480e+01 6.100e+01 6.160e+01\n",
      " 1.568e+02 3.990e+01 2.100e+00 1.900e+00 1.100e+00 4.700e+00 5.700e+00\n",
      " 9.220e+01 1.154e+02 1.018e+02 4.960e+01 8.560e+01 8.140e+01 8.160e+01\n",
      " 6.760e+01 5.840e+01 4.160e+01 5.640e+01 1.118e+02 4.740e+01 1.134e+02\n",
      " 7.400e+01 7.060e+01 7.840e+01 6.860e+01 7.740e+01 7.320e+01 9.940e+01\n",
      " 6.520e+01 8.820e+01 5.740e+01 9.520e+01 5.700e+01 1.194e+02 1.058e+02\n",
      " 5.440e+01 4.140e+01 9.440e+01 6.440e+01 9.380e+01 6.840e+01 5.280e+01\n",
      " 8.500e+01 8.320e+01 1.060e+02 6.020e+01 9.100e+01 5.360e+01 1.046e+02\n",
      " 8.040e+01 1.068e+02 8.860e+01 7.280e+01 6.280e+01 4.660e+01 9.560e+01\n",
      " 5.300e+01 5.420e+01 1.108e+02 5.780e+01 1.230e+01 2.290e+01 1.330e+01\n",
      " 1.348e+02 8.440e+01 4.620e+01 6.420e+01 8.680e+01 1.576e+02 1.668e+02\n",
      " 1.560e+02 1.144e+02 8.180e+01 2.250e+02 8.700e+00 9.140e+01 1.810e+01\n",
      " 4.920e+01 6.080e+01 9.720e+01 8.260e+01 7.860e+01 5.380e+01 7.260e+01\n",
      " 1.390e+02 5.880e+01 6.500e+01 7.900e+01 7.580e+01 5.520e+01 1.920e+02\n",
      " 8.080e+01 1.180e+02 9.640e+01 1.642e+02 6.940e+01 7.520e+01 5.540e+01\n",
      " 8.700e+01 9.300e+01 9.160e+01 8.420e+01 8.760e+01 7.800e+01 7.340e+01\n",
      " 1.022e+02 6.040e+01 8.940e+01 1.076e+02 8.380e+01 7.820e+01 8.800e+01\n",
      " 9.500e+01 7.040e+01 6.640e+01 8.220e+01 1.550e+02 6.000e+01 6.560e+01\n",
      " 6.300e+01 8.400e+01 8.740e+01 8.300e+01 7.360e+01 7.720e+01 7.940e+01\n",
      " 1.214e+02 6.060e+01 9.360e+01 1.684e+02 1.450e+02 9.400e+01 8.920e+01\n",
      " 6.820e+01 1.826e+02 1.106e+02 9.800e+01 2.784e+02 1.402e+02 6.200e+01\n",
      " 1.216e+02 7.180e+01 1.158e+02 7.920e+01 2.686e+02 1.830e+02 1.096e+02\n",
      " 1.282e+02 2.062e+02 1.366e+02 1.502e+02 1.616e+02 1.090e+02 1.152e+02\n",
      " 1.752e+02 2.472e+02 8.540e+01 1.052e+02 7.480e+01 1.150e+02 1.260e+02\n",
      " 8.460e+01 1.580e+02 7.780e+01 6.460e+01 1.182e+02 1.438e+02 1.186e+02\n",
      " 1.122e+02 1.782e+02 1.834e+02 1.082e+02 1.558e+02 1.112e+02 1.284e+02\n",
      " 8.020e+01 1.290e+02 1.050e+02 1.776e+02 8.620e+01 2.368e+02 9.340e+01\n",
      " 7.960e+01 2.068e+02 8.120e+01 9.260e+01 1.652e+02 1.704e+02 9.320e+01\n",
      " 9.820e+01 1.486e+02 7.020e+01 1.442e+02 1.646e+02 1.746e+02 8.780e+01\n",
      " 1.248e+02 1.208e+02 7.880e+01 7.660e+01 1.190e+01 9.500e+00 1.050e+01\n",
      " 7.100e+00 6.500e+00 6.100e+00 3.430e+01 3.900e+00 6.700e+00 1.270e+01\n",
      " 1.590e+01 1.450e+01 2.930e+01 2.390e+01 8.900e+00 9.100e+00 1.310e+01\n",
      " 1.090e+01 1.850e+01 6.540e+01 7.500e+00 4.730e+01 5.900e+00 1.970e+01\n",
      " 1.210e+01 1.150e+01 7.900e+00 2.530e+01 1.750e+01 7.300e+00 9.900e+00\n",
      " 1.550e+01 8.100e+01 9.580e+01 9.040e+01 1.412e+02 1.622e+02 1.364e+02\n",
      " 1.314e+02 1.326e+02 3.676e+02 1.846e+02 1.822e+02 1.452e+02 9.680e+01\n",
      " 7.460e+01 1.294e+02 1.228e+02 1.098e+02 1.456e+02 2.106e+02 1.176e+02\n",
      " 6.950e+01 1.670e+02 6.900e+01]\n",
      "==============================\n",
      "Nilai unik atribut EVAPORATION (358 nilai)\n",
      "[     nan 1.20e+01 1.48e+01 1.26e+01 1.08e+01 1.14e+01 1.12e+01 1.30e+01\n",
      " 9.80e+00 1.46e+01 1.10e+01 1.28e+01 1.38e+01 1.64e+01 1.74e+01 1.60e+01\n",
      " 1.36e+01 8.00e+00 8.20e+00 8.60e+00 1.42e+01 1.58e+01 1.62e+01 1.34e+01\n",
      " 1.44e+01 1.18e+01 1.56e+01 1.52e+01 1.16e+01 9.60e+00 6.60e+00 6.00e-01\n",
      " 6.00e+00 3.00e+00 2.00e+00 5.20e+00 9.00e+00 1.02e+01 1.00e+01 7.40e+00\n",
      " 8.40e+00 9.20e+00 9.40e+00 1.24e+01 1.04e+01 7.20e+00 6.80e+00 7.60e+00\n",
      " 4.40e+00 6.40e+00 7.80e+00 7.00e+00 8.80e+00 6.20e+00 5.80e+00 2.00e-01\n",
      " 2.40e+00 1.80e+00 2.20e+00 2.80e+00 5.00e+00 5.60e+00 4.80e+00 4.20e+00\n",
      " 4.00e+00 3.20e+00 4.60e+00 3.40e+00 3.60e+00 0.00e+00 1.40e+00 3.80e+00\n",
      " 8.00e-01 2.60e+00 1.60e+00 1.20e+00 1.00e+00 5.40e+00 1.06e+01 1.68e+01\n",
      " 1.70e+01 2.02e+01 1.40e+01 1.72e+01 1.22e+01 1.50e+01 1.82e+01 1.32e+01\n",
      " 4.10e+00 1.70e+00 4.00e-01 1.90e+00 6.48e+01 3.20e+01 2.62e+01 2.46e+01\n",
      " 2.33e+01 1.54e+01 3.26e+01 3.04e+01 3.44e+01 1.80e+01 4.94e+01 1.88e+01\n",
      " 1.90e+01 1.84e+01 8.10e+00 4.90e+00 2.52e+01 2.40e+01 2.24e+01 1.66e+01\n",
      " 4.88e+01 5.62e+01 3.70e+01 5.24e+01 1.76e+01 6.30e+00 2.00e+01 2.14e+01\n",
      " 2.50e+01 1.78e+01 2.56e+01 1.86e+01 2.16e+01 3.54e+01 2.30e+01 2.20e+01\n",
      " 3.08e+01 1.11e+01 1.98e+01 3.32e+01 8.62e+01 5.54e+01 6.58e+01 5.64e+01\n",
      " 3.12e+01 2.18e+01 5.70e+00 2.70e+00 1.30e+00 2.50e+00 3.30e+00 9.90e+00\n",
      " 2.30e+00 7.00e-01 2.10e+00 1.10e+00 2.90e+00 1.50e+00 3.10e+00 6.10e+00\n",
      " 1.96e+01 9.70e+00 1.05e+01 5.90e+00 9.30e+00 2.04e+01 1.21e+01 3.06e+01\n",
      " 2.42e+01 3.00e-01 4.72e+01 1.92e+01 3.84e+01 3.46e+01 2.36e+01 4.42e+01\n",
      " 3.22e+01 3.14e+01 3.42e+01 2.06e+01 2.68e+01 2.26e+01 2.38e+01 3.86e+01\n",
      " 2.64e+01 4.68e+01 4.24e+01 4.66e+01 6.02e+01 3.76e+01 3.64e+01 4.84e+01\n",
      " 4.36e+01 3.50e+01 5.04e+01 3.58e+01 5.40e+01 4.12e+01 3.28e+01 3.56e+01\n",
      " 3.10e+01 3.24e+01 1.94e+01 6.08e+01 2.74e+01 4.34e+01 2.70e+01 3.68e+01\n",
      " 2.54e+01 5.72e+01 2.86e+01 3.36e+01 3.74e+01 2.34e+01 4.30e+01 3.62e+01\n",
      " 3.16e+01 3.92e+01 2.58e+01 6.54e+01 4.04e+01 2.60e+01 2.12e+01 7.10e+00\n",
      " 7.48e+01 3.72e+01 2.88e+01 5.30e+00 4.70e+00 8.70e+00 3.90e+00 3.50e+00\n",
      " 9.50e+00 9.00e-01 3.02e+01 1.47e+01 1.31e+01 7.50e+00 8.30e+00 5.10e+00\n",
      " 3.70e+00 5.50e+00 1.81e+01 4.30e+00 2.10e+01 3.38e+01 4.50e+00 2.05e+01\n",
      " 1.19e+01 6.90e+00 7.70e+00 9.10e+00 1.09e+01 1.97e+01 1.01e+01 6.70e+00\n",
      " 5.00e-01 1.39e+01 1.25e+01 1.00e-01 1.45e+01 1.91e+01 1.71e+01 7.30e+00\n",
      " 2.51e+01 2.22e+01 2.72e+01 1.93e+01 6.50e+00 2.76e+01 1.15e+01 2.28e+01\n",
      " 2.84e+01 2.08e+01 3.94e+01 2.78e+01 2.82e+01 2.66e+01 3.30e+01 2.98e+01\n",
      " 2.32e+01 3.34e+01 2.80e+01 3.80e+01 4.00e+01 2.92e+01 2.94e+01 3.88e+01\n",
      " 6.44e+01 3.00e+01 2.44e+01 2.48e+01 5.92e+01 1.45e+02 4.70e+01 8.90e+00\n",
      " 1.35e+01 8.50e+00 1.13e+01 4.40e+01 7.90e+00 4.44e+01 2.21e+01 3.66e+01\n",
      " 4.06e+01 3.60e+01 3.40e+01 1.49e+01 4.26e+01 1.43e+01 1.03e+01 1.17e+01\n",
      " 1.07e+01 8.12e+01 6.30e+01 7.00e+01 5.48e+01 5.98e+01 7.22e+01 6.40e+01\n",
      " 5.96e+01 5.90e+01 4.23e+01 1.27e+01 1.77e+01 2.25e+01 1.53e+01 3.52e+01\n",
      " 3.45e+01 2.31e+01 4.22e+01 8.24e+01 4.20e+01 4.32e+01 6.20e+01 7.73e+01\n",
      " 1.33e+01 5.52e+01 5.80e+01 5.76e+01 5.56e+01 4.62e+01 5.50e+01 5.08e+01\n",
      " 5.10e+01 6.88e+01 5.16e+01 5.85e+01 5.58e+01 5.36e+01 2.55e+01 5.60e+01\n",
      " 4.80e+01 7.04e+01 5.94e+01 5.66e+01 1.41e+01 1.23e+01 1.51e+01 1.65e+01\n",
      " 6.72e+01 4.18e+01 4.08e+01 5.02e+01 4.16e+01 4.28e+01 3.96e+01]\n",
      "==============================\n",
      "Nilai unik atribut SUNSHINE (145 nilai)\n",
      "[ nan 12.3 13.  13.3 10.6 12.2  8.4  0.  12.6 13.2 12.7 12.1 10.3 13.1\n",
      " 12.9 11.3  6.9 10.9  3.7  5.9 10.5 12.4 13.4 13.6  7.4 10.   2.3  6.6\n",
      "  0.3 10.7 11.6 10.2  9.  12.   3.   7.9 11.5 11.2  4.8  5.8  6.  11.1\n",
      " 11.8 11.4 10.8  7.8 11.   5.5  4.7  4.2  4.4  6.2  9.8  9.9  4.3  8.\n",
      "  9.6 10.4  9.3  8.7  7.6  7.5 10.1  6.3  2.8  0.7  9.4  9.7  0.6  5.1\n",
      "  8.3  4.1  3.9  6.8  8.6  2.7  8.2  3.1  1.8  0.1  0.8  3.4  7.1  5.\n",
      "  5.7  6.1  7.   2.9  2.5  4.6  8.9  9.1  1.7  8.1  9.5  1.2  1.4  8.8\n",
      "  2.2  3.5  9.2  1.9 11.7 11.9  7.7  0.9 12.5  2.1 12.8 13.7  8.5  0.2\n",
      "  4.   2.4  5.2  0.5  6.4  4.5  1.1  2.   0.4  1.5  3.3  6.5  2.6  3.8\n",
      "  3.6  3.2  6.7  5.4  7.2  4.9  1.   1.6  5.3  7.3  5.6  1.3 13.8 13.5\n",
      " 14.  13.9 14.1 14.5 14.3 14.2]\n",
      "==============================\n",
      "Nilai unik atribut WINDGUSTSPEED (67 nilai)\n",
      "[ 44.  46.  24.  41.  56.  50.  35.  80.  28.  30.  31.  61.  nan  22.\n",
      "  63.  43.  26.  33.  57.  48.  39.  37.  52.  98.  54.  83.  59.  70.\n",
      "  69.  17.  20.  19.  15.  13.  11.  72.  85.  65.  78. 107.  74.  67.\n",
      "  94.  76.  81.  87.   9.   7.  89.  91.  93. 102. 100. 113. 117.  96.\n",
      " 111. 106. 135. 104. 120. 115. 126. 109. 122. 124. 130.   6.]\n",
      "==============================\n",
      "Nilai unik atribut WINDSPEED9AM (43 nilai)\n",
      "[ 20.   4.  19.  11.   7.   6.  15.  17.  28.  24.  nan   9.   0.  13.\n",
      "   2.  26.  30.  22.  35.  37.  31.  33.  48.  39.  44.  43.  41.  46.\n",
      "  56.  83.  74.  52.  65.  50. 130.  54.  61.  57.  59.  87.  67.  63.\n",
      "  69.  72.]\n",
      "==============================\n",
      "Nilai unik atribut WINDSPEED3PM (44 nilai)\n",
      "[24. 22. 26.  9. 20. 17. 28. 11.  6. 13. 30. 19. 31.  7. 15. 48.  4. 33.\n",
      "  0.  2. nan 37. 46. 39. 50. 35. 44. 41. 43. 56. 61. 54. 52. 83. 65. 78.\n",
      " 57. 63. 59. 74. 72. 69. 76. 87. 67.]\n",
      "==============================\n",
      "Nilai unik atribut HUMIDITY9AM (101 nilai)\n",
      "[ 71.  44.  38.  45.  82.  55.  49.  48.  42.  58.  89.  76.  65.  57.\n",
      "  50.  69.  80.  47.  56.  54.  41.  78.  46.  43.  33.  34.  36.  52.\n",
      "  51.  40.  35.  39.  60.  37.  27.  32.  53.  20.  66.  63.  62.  87.\n",
      "  61.  59.  92.  72.  67.  75.  88.  68.  73.  74.  83.  77.  70.  81.\n",
      "  86.  97.  99.  91.  85.  93.  84.  94.  79.  98.  96.  95.  90.  64.\n",
      "  29.  21. 100.  nan  24.  25.  31.  18.  23.  26.  28.  30.  19.  22.\n",
      "  17.  15.   9.  12.  13.  16.   6.  10.  14.  11.   7.   8.   5.   3.\n",
      "   2.   4.   0.   1.]\n",
      "==============================\n",
      "Nilai unik atribut HUMIDITY3PM (101 nilai)\n",
      "[ 22.  25.  30.  16.  33.  23.  19.   9.  27.  91.  93.  43.  32.  28.\n",
      "  82.  65.  26.  24.  17.  15.  70.  12.   8.  31.  20.  10.  21.  39.\n",
      "  13.  11.  69.  18.  14.  35.  90.  68.  74.  41.  34.  78.  49.  37.\n",
      "  42.  47.  52.  29.  86.  89.  62.  79.  48.  46.  38.  44.  51.  36.\n",
      "  45.  40.  53.  61.  59.  63.  54.  57.  50.  58.  75.  97.  80.  95.\n",
      "  56.  72.  60.  71.  73.  81.  76.  64.  87.  85.  67.  55.  77.  84.\n",
      "   7.  99.  92.  66.  83.  94.  96.  88.  nan 100.  98.   5.   6.   1.\n",
      "   4.   2.   3.   0.]\n",
      "==============================\n",
      "Nilai unik atribut PRESSURE9AM (546 nilai)\n",
      "[1007.7 1010.6 1007.6 1017.6 1010.8 1009.2 1009.6 1013.4 1008.9 1007.\n",
      " 1011.8 1010.5  994.3 1001.2 1009.7 1012.2 1005.8 1009.4 1019.2 1019.3\n",
      " 1013.6 1007.8 1011.  1012.9 1010.9 1006.8 1005.2 1004.8 1005.6 1006.1\n",
      " 1004.5 1014.4 1018.7 1015.1 1012.6 1011.9 1017.8 1009.9 1014.1 1015.7\n",
      " 1011.6 1008.4 1019.7 1015.8 1010.1 1005.3 1007.9 1005.4 1016.5 1017.7\n",
      " 1014.9 1014.6 1014.2 1012.5 1011.7 1008.8 1005.9 1008.  1008.2 1009.3\n",
      " 1012.8 1017.  1023.3 1022.5 1016.2 1017.2 1012.4 1015.6 1013.  1014.\n",
      " 1016.6 1007.5 1014.7 1014.5 1013.7 1015.2 1019.5 1021.3 1017.4 1012.7\n",
      " 1013.3 1016.3 1014.8 1019.1 1023.  1023.8 1022.4 1023.2 1022.6 1018.8\n",
      " 1019.8 1020.4 1021.8 1026.7 1027.1 1024.2 1021.5 1024.4 1024.1 1018.5\n",
      " 1022.8 1022.7 1023.6 1025.2 1026.  1004.  1013.8 1018.  1023.1 1023.4\n",
      " 1026.9 1028.7 1029.8 1031.4 1028.5 1026.2 1028.8 1025.1 1025.6 1022.3\n",
      " 1018.4 1015.3 1015.  1024.7 1022.2 1025.  1024.6 1021.4 1021.7 1030.3\n",
      " 1034.1 1031.9 1029.3 1023.5 1021.  1017.9 1011.1 1025.7 1018.3 1013.9\n",
      " 1029.7 1031.6 1030.8 1021.9 1020.7 1020.2 1015.5 1011.4 1006.5 1008.6\n",
      " 1019.9 1030.4 1032.  1020.5 1010.4 1006.6 1021.6 1009.5 1027.3 1026.8\n",
      " 1024.  1025.8 1027.9 1026.4 1018.6 1009.  1011.5 1021.1 1021.2 1018.2\n",
      " 1027.7 1012.  1004.1 1016.1 1016.9 1002.6 1018.9 1024.9 1005.  1020.\n",
      "  997.8 1009.8 1012.3 1020.6 1029.5 1001.9 1000.5 1008.5 1016.  1026.6\n",
      " 1022.9 1020.8 1019.6 1027.5 1025.4 1017.1 1029.1 1010.  1003.7 1010.7\n",
      " 1010.3 1022.  1015.9 1006.9 1019.4 1018.1 1013.5 1016.8 1017.5 1015.4\n",
      " 1006.7 1013.2 1016.4 1020.9 1017.3 1020.3 1023.9 1016.7 1008.7 1023.7\n",
      " 1036.3 1035.2 1030.  1025.5 1022.1 1026.5 1027.8 1005.7 1004.7 1031.8\n",
      " 1032.3 1027.4 1027.2 1034.5 1037.3 1036.9 1030.1 1024.3 1027.6 1030.5\n",
      " 1032.5 1030.9 1029.2 1032.7 1035.5 1032.1 1031.7 1035.9 1036.1 1024.5\n",
      " 1006.2 1003.1 1029.6 1028.9 1024.8 1026.1 1026.3 1028.2 1028.4 1025.3\n",
      " 1029.4  989.8 1004.6 1011.3 1014.3 1012.1 1009.1 1002.4  998.8 1002.3\n",
      " 1006.  1004.4 1007.4 1002.5 1019.  1020.1 1001.4 1031.5 1033.  1002.9\n",
      " 1025.9 1028.  1027.  1002.  1028.3 1031.  1035.7 1037.4 1038.9 1033.6\n",
      " 1036.6 1031.3 1010.2 1039.9 1013.1    nan  996.3 1032.4 1033.4 1011.2\n",
      " 1004.3 1007.2 1006.3  995.3 1000.9 1005.5 1030.2 1035.1 1033.8 1036.5\n",
      " 1034.4 1003.3 1031.1 1031.2 1029.  1028.6 1033.1 1033.2 1007.3 1000.8\n",
      "  999.9 1030.7 1007.1 1028.1 1033.7 1033.3 1008.1 1002.2 1003.  1006.4\n",
      " 1008.3  998.9 1000.7  998.4 1033.5 1004.9 1003.2 1034.  1035.6 1035.\n",
      " 1032.2 1032.6 1030.6 1000.4 1029.9 1037.8 1034.3 1034.7 1035.3 1036.\n",
      " 1003.9 1032.8 1004.2 1002.8  996.  1003.4 1037.5 1038.2 1034.8 1000.1\n",
      " 1032.9 1033.9 1003.6  993.7  992.9 1000.3 1001.3  999.4 1005.1  996.6\n",
      " 1036.8  997.6 1001.7 1001.  1036.2 1035.4 1037.6 1038.  1003.5  999.1\n",
      " 1001.5 1038.6  997.4 1034.2 1003.8  997.3  999.3  996.8 1037.  1034.9\n",
      " 1039.2  998.5  998.6  991.7 1001.1 1002.1 1035.8 1002.7  998.3  999.7\n",
      "  999.  1037.1 1001.6  996.5  997.2  999.6 1038.3 1038.4 1000.6  999.2\n",
      "  980.5 1000.2  994.9  999.8 1001.8  994.6 1037.9 1038.7  998.   997.\n",
      " 1034.6 1038.8 1039.1  990.2  986.7  995.  1036.7  996.7  999.5 1039.\n",
      "  998.1 1038.1  997.7  991.5 1039.6  998.7 1000.  1037.7  994.5  994.8\n",
      " 1037.2  996.4  994.   996.1  994.7  997.1 1036.4  998.2  987.4  993.9\n",
      "  996.9 1039.3 1039.5  995.2 1040.1 1040.2 1040.6 1040.3  995.7  995.4\n",
      "  992.8  996.2  994.2 1039.4  995.9  995.8  997.9  990.5  993.3  989.4\n",
      "  992.   995.1  992.5  989.5  991.2  991.4  992.1  997.5  993.   992.7\n",
      "  989.3  991.6  993.8  993.4  995.5  989.7  993.6  988.9  992.4  991.8\n",
      "  993.5  994.1  991.3 1038.5  986.9  990.3  995.6  993.2  990.9  994.4\n",
      "  990.8  991.1  992.6  986.2  982.3  989.6  985.1  982.   989.2 1040.9\n",
      "  992.3 1041.  1040.4  989.   988.3  986.3  988.   984.6  992.2  987.2\n",
      "  982.9  988.5  989.1  988.8  987.   993.1 1040.   991.9  983.7  985.8\n",
      "  985.9  987.3  991.   987.1  990.4  986.6  988.1  988.2  989.9  982.2\n",
      "  984.4  983.9  985.  1040.5 1039.7  987.9  990.6]\n",
      "==============================\n",
      "Nilai unik atribut PRESSURE3PM (549 nilai)\n",
      "[1007.1   1007.8   1008.7   1012.8   1006.    1005.4   1008.2   1010.1\n",
      " 1003.6   1005.7   1004.2    993.    1001.8   1010.3   1010.4   1002.2\n",
      " 1009.7   1017.1   1014.8   1008.1   1007.6   1001.7   1003.4   1005.1\n",
      " 1003.2   1013.1   1009.2   1006.7   1002.7   1010.9   1013.7   1006.8\n",
      " 1012.1   1006.9   1012.7   1017.4   1016.2   1010.6   1004.8   1005.9\n",
      "  997.8   1003.9   1014.6   1014.1   1011.6   1011.8   1010.2   1010.5\n",
      " 1007.4   1004.7   1002.6   1005.    1003.8   1006.5   1008.5   1011.1\n",
      " 1017.3   1019.7   1016.4   1013.8   1013.5   1007.5   1004.5   1010.8\n",
      " 1012.4   1013.4   1015.    1012.6   1004.6   1009.    1012.    1014.7\n",
      " 1015.9   1018.    1018.9   1008.    1013.2   1013.9   1013.6   1014.4\n",
      " 1019.2   1017.2   1020.7   1020.6   1019.1   1019.5   1019.4   1018.4\n",
      " 1012.9   1019.3   1016.5   1019.6   1023.5   1023.4   1017.7   1020.3\n",
      " 1020.8   1018.7   1009.8   1016.8   1020.    1020.9   1021.6   1015.7\n",
      " 1002.4   1000.9   1003.3   1018.3   1021.5   1023.2   1024.    1025.9\n",
      " 1027.3   1028.1   1024.6   1023.6   1025.8   1021.8   1022.3   1022.2\n",
      " 1018.5   1011.    1021.2   1019.9   1020.5   1021.4   1022.1   1028.5\n",
      " 1029.9   1029.2   1026.2   1020.4   1017.5   1015.1   1006.3   1008.3\n",
      " 1023.    1013.    1009.3   1027.7   1028.6   1027.1   1018.6   1005.5\n",
      " 1006.6   1009.4   1001.    1005.2   1009.6   1014.9   1019.    1023.8\n",
      " 1015.6   1007.7   1005.8   1009.9   1014.5   1019.8   1006.2   1025.4\n",
      " 1022.7   1023.1   1025.3   1024.8   1022.9   1020.2   1016.7   1008.6\n",
      " 1010.    1015.3   1006.4   1027.2   1022.5   1014.3   1013.3    996.9\n",
      " 1015.2   1021.7   1012.3   1017.9   1011.4   1011.3   1017.6   1018.2\n",
      " 1015.4   1012.2   1011.9    999.2   1002.9   1008.4   1008.8   1004.9\n",
      " 1025.7   1016.9    999.4    997.6   1024.7   1023.7   1022.    1015.8\n",
      " 1017.8   1011.2   1002.3   1003.5   1016.    1016.3   1016.1   1014.2\n",
      " 1007.3   1017.    1012.5   1011.5   1009.1   1004.1   1007.    1003.7\n",
      " 1007.9   1011.7   1021.3   1030.2   1033.6   1031.4   1026.    1021.\n",
      " 1023.3   1018.8   1018.1   1021.1   1020.1   1024.4   1021.9   1014.\n",
      " 1024.1   1024.3   1015.5   1002.8   1030.7   1032.    1028.3   1026.7\n",
      " 1033.8   1035.2   1032.9   1029.8   1029.    1022.8   1025.1   1026.6\n",
      " 1008.9   1026.3   1028.9   1029.1   1034.1   1031.5   1000.1   1004.4\n",
      " 1025.2    999.    1022.6   1025.    1023.9    982.9   1007.2   1002.1\n",
      "  994.3   1004.3   1000.5   1010.7   1009.5   1006.1   1001.5   1016.6\n",
      " 1002.5   1000.3   1005.3   1030.5   1028.8   1024.9   1024.5   1027.8\n",
      " 1028.7   1032.6   1035.1   1034.2   1029.7   1033.3   1027.6   1030.4\n",
      " 1034.6   1036.         nan  996.2   1030.9   1026.1   1000.7    995.4\n",
      " 1002.     995.7   1001.9   1031.    1031.1   1031.9   1032.5   1025.5\n",
      " 1028.4   1033.2   1024.2   1030.3   1030.    1001.3   1000.8   1001.6\n",
      " 1026.9    997.2    998.5   1026.8   1027.    1027.9   1028.2   1029.3\n",
      " 1022.4   1027.4   1029.4    999.6   1001.4    999.1    994.8   1001.2\n",
      "  998.4   1025.6   1026.5   1003.     998.9    998.8   1026.4   1027.5\n",
      " 1030.1   1032.3   1032.8   1005.6    998.7   1000.2   1033.5   1032.2\n",
      " 1030.6   1031.7   1028.    1032.1   1031.2   1029.5   1004.    1036.1\n",
      "  999.5    993.1    998.1    997.5   1000.     995.9   1034.3   1033.7\n",
      " 1031.3   1032.4    998.    1000.6    998.2   1001.1    999.3   1003.1\n",
      " 1034.9   1036.2   1032.7   1031.8    989.1    995.1   1036.4   1035.\n",
      " 1034.8   1036.8    996.4   1031.6    997.7    997.9    996.7    999.8\n",
      "  999.7    995.3    994.5    996.5    998.3   1030.8    993.8    997.4\n",
      "  995.8   1029.6   1034.     993.7    999.9    997.1   1000.4   1034.7\n",
      "  991.6   1034.4   1033.4   1035.9    996.8    997.    1035.6    995.5\n",
      " 1034.5   1035.7    995.6    994.9    996.1    979.     996.     995.2\n",
      " 1033.     989.    1036.3   1035.5    993.4    994.     996.3    998.6\n",
      " 1026.66  1009.555 1016.777  991.4    991.     990.3    989.8   1036.7\n",
      "  994.2    989.3    995.    1037.    1035.4    993.9    993.6    984.2\n",
      "  994.7    997.3    994.4    992.8   1033.9    990.7   1033.1    987.4\n",
      " 1036.9   1035.8   1037.8    993.5    993.3    990.2    993.2   1037.3\n",
      "  985.5   1037.9    996.6    994.1    991.9    992.6    985.     994.6\n",
      " 1037.5   1037.7    990.9    988.7    992.5    989.9    987.3    992.\n",
      "  990.4    988.6    992.7    992.3    987.1    991.8    991.1    988.8\n",
      "  991.5    992.9    991.7    989.4    992.4    992.1   1035.3    988.2\n",
      "  990.8    990.6    988.3    987.7    982.6    986.5    991.3   1036.6\n",
      " 1037.1    985.6    992.2    987.8    986.    1036.5    985.2    986.4\n",
      "  986.6    988.9    984.9   1038.    1038.2    986.9    989.6    989.7\n",
      "  989.2    986.1    985.1    984.     985.3    981.2    988.4   1037.2\n",
      " 1037.6    987.6    980.2    986.2    987.    1038.5   1038.9    988.1\n",
      "  990.1    988.5    990.     984.5    987.2    985.4    981.4    984.4\n",
      "  991.2    982.2    988.     977.1    978.2    983.2    981.9    983.3\n",
      "  990.5   1039.6    986.8   1038.4    985.8    989.5  ]\n",
      "==============================\n"
     ]
    },
    {
     "name": "stdout",
     "output_type": "stream",
     "text": [
      "Nilai unik atribut CLOUD9AM (10 nilai)\n",
      "[ 8. nan  7.  1.  0.  5.  4.  2.  6.  3.  9.]\n",
      "==============================\n",
      "Nilai unik atribut CLOUD3PM (10 nilai)\n",
      "[nan  2.  8.  7.  1.  5.  4.  6.  3.  0.  9.]\n",
      "==============================\n",
      "Nilai unik atribut TEMP9AM (441 nilai)\n",
      "[16.9 17.2 21.  18.1 17.8 20.6 16.3 18.3 20.1 20.4 15.9 17.4 15.8 17.3\n",
      " 18.  15.5 19.1 24.5 23.8 20.9 21.5 23.2 26.6 24.6 21.6 12.5 19.7 14.9\n",
      " 17.1 20.7 22.4 23.1 25.2 17.9 20.2 22.8 24.2 24.3 25.6 27.6 16.  22.\n",
      " 26.8 27.3 26.1 23.3 21.2 23.4 25.8 28.2 29.  29.2 29.9 32.4 28.8 27.2\n",
      " 25.5 26.5 28.7 29.6 34.5 18.7 16.7 17.  19.2 21.4 22.1 19.3 15.  20.\n",
      " 22.2 23.  15.6 13.9 12.6 13.3 17.6 18.6 19.  19.9 12.7 12.2 12.1 14.7\n",
      " 18.8 15.4 16.2 16.5 14.  16.6 18.4 12.9 13.8 15.1 16.4 16.1 20.5  9.6\n",
      " 12.4 14.1 11.2  9.5  7.6 10.1  8.2  7.9  7.2 10.6 10.3 10.   8.3 11.\n",
      "  9.4 11.7  8.5  9.1  7.5 13.   7.   8.8  7.4 11.9 11.6 13.6  7.1 10.2\n",
      "  8.   9.2 11.3  4.7  6.8  4.9  2.2  1.9  5.9  6.5  5.4  6.6  5.6  6.9\n",
      "  8.4  9.8 13.5  7.8  2.3  2.4  3.3  3.8  4.8  8.1  9.   4.5  3.2  3.7\n",
      "  2.5  4.4  4.2  9.3  8.9 10.5  9.9  5.7  2.  14.8  6.7  6.   5.5 11.1\n",
      "  5.8 10.8 13.2  7.7  9.7  8.6  8.7 10.9 14.3 11.5 13.1 15.2 11.8 13.4\n",
      " 14.4 23.9 17.5 24.7 21.7 24.1 19.5 27.8 16.8 20.3 18.9 15.7 12.8 21.8\n",
      " 20.8 32.1 24.4 26.  28.1 21.3 26.4 29.1 29.4 25.1 27.7 18.5 25.  22.9\n",
      " 23.5 26.3 22.6 25.9 26.9 19.4 19.6 22.3 19.8 14.2 17.7 18.2 14.6 15.3\n",
      " 10.4 10.7  6.4  6.3  5.1  6.2  5.3  4.1  3.4  6.1  2.8  3.1  3.   5.\n",
      "  2.9  5.2  4.   4.6  4.3  7.3 11.4 13.7 24.  22.5 21.9 26.7 24.9 25.3\n",
      " 21.1 25.4 24.8 14.5  3.5  3.6  3.9  2.6  nan 12.  22.7  0.3 27.5 29.5\n",
      " 23.6 30.7 29.7 27.  23.7 12.3 28.6 31.8 28.  30.8 28.4 25.7 27.4 26.2\n",
      " 33.7 27.9 30.2 28.3  2.7 29.3 29.8  1.6 30.4 37.6 34.2 31.3 33.6 31.5\n",
      " 31.4 28.9 30.1 32.  32.6 35.6 31.6 31.2 30.  34.3 31.1 37.3 27.1 34.4\n",
      " 33.  33.9 32.9 34.1 28.5 35.7 31.  30.3 32.3 35.1 34.8 34.  37.7 30.9\n",
      " 32.2 33.4 33.2 32.7 30.6 31.7 35.2 30.5 33.5 36.8 34.9 33.1 36.3 32.5\n",
      " 31.9 32.8 35.5 36.4 37.5 35.9  0.8  0.9 36.5 37.2 33.3  0.6  1.   1.7\n",
      "  2.1  1.2  1.8  0.   1.3  1.5  0.5  0.4  0.2  1.4  0.1 -0.9  0.7 -0.7\n",
      " -0.2 -0.3 -1.1  1.1 -1.  -1.2 -1.3 -0.5 -0.6 -0.4 -0.8 -3.1 -0.1 -1.4\n",
      " -1.7 -2.3 -2.8 -3.4 -5.9 -2.5 -4.1 -1.6 -2.2 -2.4 -2.9 -2.1 -3.2 -2.\n",
      " -1.8 -4.2 -3.3 -4.3 -3.6 -3.7 -4.8 -5.5 -4.  -1.9 -2.7 -4.9 -5.2 -5.3\n",
      " -1.5 -3.9 -3.  -3.8 -4.4 -2.6 -6.2 -3.5 -4.5 -5.6 -7.  -7.2 36.  35.4\n",
      " 34.6 33.8 36.9 35.3 36.1 38.3 37.4 34.7 38.6 35.8 37.9 35.  40.2 37.\n",
      " 39.4 39.  38.2 36.2 38.9 36.6 39.1 38. ]\n",
      "==============================\n",
      "Nilai unik atribut TEMP3PM (502 nilai)\n",
      "[21.8 24.3 23.2 26.5 29.7 28.9 24.6 25.5 30.2 28.2 28.8 17.  15.8 19.8\n",
      " 23.5 26.2 18.1 21.5 21.  27.3 31.6 30.8 29.  31.2 33.  32.1 26.1 18.2\n",
      " 22.7 25.7 22.1 33.9 34.4 36.8 38.4 27.6 26.6 29.3 30.  33.2 35.7 41.5\n",
      " 27.1 25.8 30.5 37.7 36.1 33.1 36.5 36.2 39.2 40.1 41.2 42.  41.9 37.1\n",
      " 35.2 39.7 41.6 43.4 38.5 29.4 24.9 17.3 28.5 29.2 29.5 27.  30.7 32.7\n",
      " 26.8 29.8 31.3 33.4 28.6 33.6 28.1 21.9 21.4 22.  29.6 18.8 23.8 19.7\n",
      " 18.3 20.5 23.9 27.2 32.6 33.5 31.4 19.6 27.7 29.9 30.9 27.4 20.3 21.2\n",
      " 20.9 21.6 25.  24.4 23.1 18.9 19.4 22.9 23.6 21.3 22.3 22.6 15.1 14.5\n",
      " 11.6  9.4 14.  12.1 16.1 16.3 19.1 18.5 18.4 19.2 20.2 17.7 18.  14.6\n",
      " 15.3 15.9 14.7 18.7 21.7 20.8 19.5 17.4 15.6 16.7 16.8 13.4 13.  16.5\n",
      " 10.2 11.5 11.4  7.9  9.7  8.8 15.5 13.9 15.4 14.9 16.4 13.6 15.2 13.7\n",
      " 11.3 12.3 13.1 11.7 12.6 12.  12.4 14.3 13.2 10.1 12.5 12.8 14.2 11.2\n",
      " 13.5 17.6 12.9 10.8  9.6  7.3 12.7 13.3 16.6 11.1 14.4 16.2 17.5 10.7\n",
      " 16.  24.  17.1 20.7 17.2 20.6 14.8 10.  15.7 17.8 19.  14.1 10.9 19.3\n",
      " 25.3 25.4 24.8 23.4 28.4 30.3 31.1 32.8 33.8 34.9 34.6 31.7 35.4 39.\n",
      " 36.4 25.6 32.  25.2 24.7 28.7 30.6 26.  32.5 36.9 30.4 35.9 37.5 27.5\n",
      " 34.1 35.1 28.  31.8 35.3 38.6 40.9 41.1 19.9 36.  24.1 34.3 39.1 34.7\n",
      " 34.8 30.1 32.9 26.4 24.2 20.1 21.1 22.8 31.5 26.9 29.1 28.3 25.1 23.\n",
      " 22.4 27.9 18.6 16.9 13.8 15.   8.9 11.  11.8  8.2  9.1 10.4 12.2  9.2\n",
      "  8.7 11.9 22.5 24.5 36.7 37.3 38.8 26.7  8.6 20.4  9.  10.3 10.6  8.\n",
      "  8.1 10.5  9.8  9.5  9.9 17.9  nan 22.2 23.3 23.7 26.3 25.9 35.  34.2\n",
      " 34.5 32.4 27.8 20.   7.  35.8 39.3 42.4 40.7 38.2 40.6 35.6 34.  36.3\n",
      " 32.3  9.3  8.3 31.9 41.7 38.9 31.  37.2 40.8 40.2 38.3  8.4  8.5  6.7\n",
      " 32.2 37.   7.6  6.4  7.7 33.3 39.5 37.6 42.3 33.7 35.5  7.5  7.4 38.\n",
      " 39.8 37.8 39.6 40.3 36.6 42.2 37.9 43.7 38.7 41.  43.5 43.3 38.1 43.\n",
      " 41.4 40.  40.4 37.4 39.9 43.2 40.5 44.8 42.9 42.6 42.1 42.7 43.1 39.4\n",
      "  6.9 44.  45.2 45.8 41.3 42.8 46.7 45.3 44.1 42.5 43.8 46.2 45.9 44.7\n",
      " 44.9 41.8  6.8  6.   6.6 44.2 43.9  7.1  7.8  7.2  5.7  5.1  6.2  3.7\n",
      "  6.5  6.1  4.3  5.4  5.3  4.9  5.6  2.3  5.5  6.3  5.9  5.8  3.4  3.6\n",
      " -1.9 -1.3  1.4  4.4  4.5  2.6  0.8  4.8  1.8  2.4  2.7  4.   5.  -0.3\n",
      " -2.9 -5.1 -0.4  0.9  2.1  2.9  1.2 -0.6  1.9  5.2 -0.7 -1.  -1.8 -0.1\n",
      "  0.4 -1.6 -0.2  1.6  1.3 -1.2  2.   2.8  0.7 -0.9  0.3 -1.1  1.1  1.\n",
      "  0.  -2.8 -1.4  0.2 -3.1 -2.6  3.   0.6  4.6  3.2  4.2  3.5  3.8  4.1\n",
      " -1.7 -1.5  3.3  2.2  1.7 -2.  -2.2  2.5 -2.3  3.9  3.1  0.1 -3.7  4.7\n",
      "  1.5 -3.9 -0.5 -3.3 -2.7 -3.5 -2.1  0.5 -2.5 -3.2 -4.1 -3.4 -0.8 -3.\n",
      " -4.4 -2.4 -4.  -4.2 -5.4 -3.8 44.4 46.1 45.4 43.6 44.5 44.3 45. ]\n",
      "==============================\n"
     ]
    }
   ],
   "source": [
    "# mencetak nilai unik yang terdapat pada setiap atribut yang bertipe numerical\n",
    "for num_col in numerical_columns:\n",
    "    print(\"Nilai unik atribut {} ({} nilai)\".format(num_col.upper(),rainAus_df[num_col].nunique()))\n",
    "    print(rainAus_df[num_col].unique())\n",
    "    print(\"=\"*30)"
   ]
  },
  {
   "cell_type": "markdown",
   "metadata": {},
   "source": [
    "### Merangkum total *missing values* pada atribut categorical"
   ]
  },
  {
   "cell_type": "code",
   "execution_count": 99,
   "metadata": {},
   "outputs": [
    {
     "data": {
      "text/plain": [
       "<AxesSubplot:>"
      ]
     },
     "execution_count": 99,
     "metadata": {},
     "output_type": "execute_result"
    },
    {
     "data": {
      "image/png": "[encoded data removed]",
      "text/plain": [
       "<Figure size 576x504 with 1 Axes>"
      ]
     },
     "metadata": {
      "needs_background": "light"
     },
     "output_type": "display_data"
    }
   ],
   "source": [
    "categorical_missing_values =  rainAus_df[categorical_columns].isnull().sum().sort_values(ascending=False)\n",
    "\n",
    "# bar plot untuk menunjukkan besaran missing values pada atribut categorical\n",
    "plt.figure(figsize=(8,7))\n",
    "categorical_missing_values.plot(kind='bar')"
   ]
  },
  {
   "cell_type": "markdown",
   "metadata": {},
   "source": [
    "Missing values untuk atribut kategorikal akan ditangani dengan cara mengisi nilai *nan* dengan **modus** dari suatu atribut. Label kelas **RainTomorrow** ternyata mengandung cukup banyak *missing values*. Untuk label kelas, baris data yang mengandung *missing values* akan **dihapus**. Hal ini karena kita tidak memiliki pengetahuan tentang ilmu astronomi dan ilmu hujan, sehingga kita tidak bisa menentukan label kelas yang hilang secara manual dan mengisinya."
   ]
  },
  {
   "cell_type": "markdown",
   "metadata": {},
   "source": [
    "### Merangkum total *missing values* pada atribut numerical"
   ]
  },
  {
   "cell_type": "code",
   "execution_count": 100,
   "metadata": {},
   "outputs": [
    {
     "data": {
      "text/plain": [
       "<AxesSubplot:>"
      ]
     },
     "execution_count": 100,
     "metadata": {},
     "output_type": "execute_result"
    },
    {
     "data": {
      "image/png": "[encoded data removed]",
      "text/plain": [
       "<Figure size 576x504 with 1 Axes>"
      ]
     },
     "metadata": {
      "needs_background": "light"
     },
     "output_type": "display_data"
    }
   ],
   "source": [
    "numerical_missing_values = rainAus_df[numerical_columns].isnull().sum().sort_values(ascending=False)\n",
    "\n",
    "# bar plot untuk menunjukkan besaran missing values pada atribut categorical\n",
    "plt.figure(figsize=(8,7))\n",
    "numerical_missing_values.plot(kind='bar')"
   ]
  },
  {
   "cell_type": "markdown",
   "metadata": {},
   "source": [
    "Missing values untuk atribut numerikal akan ditangani dengan cara mengisi nilai *nan* dengan **median** dari suatu atribut. Nilai **median** digunakan karena relatif tidak sensitif dibandingkan dengan penggunaan nilai **mean**"
   ]
  },
  {
   "cell_type": "markdown",
   "metadata": {},
   "source": [
    "## Data Cleaning"
   ]
  },
  {
   "cell_type": "markdown",
   "metadata": {},
   "source": [
    "### Merename nama kolom"
   ]
  },
  {
   "cell_type": "code",
   "execution_count": 101,
   "metadata": {},
   "outputs": [],
   "source": [
    "# rename kolom dari datasets\n",
    "rainAus_df.rename(\n",
    "    columns={\n",
    "        'Date':'Tanggal',\n",
    "        'Location':'Kota',\n",
    "        'MinTemp':'Suhu Minimum',\n",
    "        'MaxTemp':'Suhu Maximum',\n",
    "        'Rainfall':'Curah Hujan',\n",
    "        'Evaporation':'Penguapan',\n",
    "        'Sunshine':'Jam Cerah',\n",
    "        'WindGustDir':'Arah Angin 24 jam',\n",
    "        'WindGustSpeed':'Kecepatan Angin 24 jam',\n",
    "        'WindDir9am':'Arah Angin 9 Pagi',\n",
    "        'WindDir3pm':'Arah Angin 3 Sore',\n",
    "        'WindSpeed9am':'Kecepatan Angin 9 Pagi',\n",
    "        'WindSpeed3pm':'Kecepatan Angin 3 Sore',\n",
    "        'Humidity9am':'Kelembaban 9 Pagi',\n",
    "        'Humidity3pm':'Kelembaban 3 Sore',\n",
    "        'Pressure9am':'Tekanan Udara 9 Pagi',\n",
    "        'Pressure3pm':'Tekanan Udara 3 Sore',\n",
    "        'Cloud9am':'Awan 9 Pagi',\n",
    "        'Cloud3pm':'Awan 3 Sore',\n",
    "        'Temp9am':'Suhu Celcius 9 Pagi',\n",
    "        'Temp3pm':'Suhu Celcius 3 Sore',\n",
    "        'RainToday':'Hari ini Hujan',\n",
    "        'RainTomorrow':'Hari besok Hujan',\n",
    "    },\n",
    "    inplace=True,\n",
    ")"
   ]
  },
  {
   "cell_type": "code",
   "execution_count": 102,
   "metadata": {},
   "outputs": [],
   "source": [
    "# memperbarui daftar atribut numerik dan daftar atribut kategorikal\n",
    "numerical_columns = rainAus_df.select_dtypes(include=['float64','int64']).columns.values\n",
    "categorical_columns = rainAus_df.select_dtypes(include=['object']).columns.values"
   ]
  },
  {
   "cell_type": "code",
   "execution_count": 103,
   "metadata": {},
   "outputs": [
    {
     "data": {
      "text/html": [
       "<div>\n",
       "<style scoped>\n",
       "    .dataframe tbody tr th:only-of-type {\n",
       "        vertical-align: middle;\n",
       "    }\n",
       "\n",
       "    .dataframe tbody tr th {\n",
       "        vertical-align: top;\n",
       "    }\n",
       "\n",
       "    .dataframe thead th {\n",
       "        text-align: right;\n",
       "    }\n",
       "</style>\n",
       "<table border=\"1\" class=\"dataframe\">\n",
       "  <thead>\n",
       "    <tr style=\"text-align: right;\">\n",
       "      <th></th>\n",
       "      <th>Tanggal</th>\n",
       "      <th>Kota</th>\n",
       "      <th>Suhu Minimum</th>\n",
       "      <th>Suhu Maximum</th>\n",
       "      <th>Curah Hujan</th>\n",
       "      <th>Penguapan</th>\n",
       "      <th>Jam Cerah</th>\n",
       "      <th>Arah Angin 24 jam</th>\n",
       "      <th>Kecepatan Angin 24 jam</th>\n",
       "      <th>Arah Angin 9 Pagi</th>\n",
       "      <th>...</th>\n",
       "      <th>Kelembaban 9 Pagi</th>\n",
       "      <th>Kelembaban 3 Sore</th>\n",
       "      <th>Tekanan Udara 9 Pagi</th>\n",
       "      <th>Tekanan Udara 3 Sore</th>\n",
       "      <th>Awan 9 Pagi</th>\n",
       "      <th>Awan 3 Sore</th>\n",
       "      <th>Suhu Celcius 9 Pagi</th>\n",
       "      <th>Suhu Celcius 3 Sore</th>\n",
       "      <th>Hari ini Hujan</th>\n",
       "      <th>Hari besok Hujan</th>\n",
       "    </tr>\n",
       "  </thead>\n",
       "  <tbody>\n",
       "    <tr>\n",
       "      <td>0</td>\n",
       "      <td>2008-12-01</td>\n",
       "      <td>Albury</td>\n",
       "      <td>13.4</td>\n",
       "      <td>22.9</td>\n",
       "      <td>0.6</td>\n",
       "      <td>NaN</td>\n",
       "      <td>NaN</td>\n",
       "      <td>W</td>\n",
       "      <td>44.0</td>\n",
       "      <td>W</td>\n",
       "      <td>...</td>\n",
       "      <td>71.0</td>\n",
       "      <td>22.0</td>\n",
       "      <td>1007.7</td>\n",
       "      <td>1007.1</td>\n",
       "      <td>8.0</td>\n",
       "      <td>NaN</td>\n",
       "      <td>16.9</td>\n",
       "      <td>21.8</td>\n",
       "      <td>No</td>\n",
       "      <td>No</td>\n",
       "    </tr>\n",
       "    <tr>\n",
       "      <td>1</td>\n",
       "      <td>2008-12-02</td>\n",
       "      <td>Albury</td>\n",
       "      <td>7.4</td>\n",
       "      <td>25.1</td>\n",
       "      <td>0.0</td>\n",
       "      <td>NaN</td>\n",
       "      <td>NaN</td>\n",
       "      <td>WNW</td>\n",
       "      <td>44.0</td>\n",
       "      <td>NNW</td>\n",
       "      <td>...</td>\n",
       "      <td>44.0</td>\n",
       "      <td>25.0</td>\n",
       "      <td>1010.6</td>\n",
       "      <td>1007.8</td>\n",
       "      <td>NaN</td>\n",
       "      <td>NaN</td>\n",
       "      <td>17.2</td>\n",
       "      <td>24.3</td>\n",
       "      <td>No</td>\n",
       "      <td>No</td>\n",
       "    </tr>\n",
       "    <tr>\n",
       "      <td>2</td>\n",
       "      <td>2008-12-03</td>\n",
       "      <td>Albury</td>\n",
       "      <td>12.9</td>\n",
       "      <td>25.7</td>\n",
       "      <td>0.0</td>\n",
       "      <td>NaN</td>\n",
       "      <td>NaN</td>\n",
       "      <td>WSW</td>\n",
       "      <td>46.0</td>\n",
       "      <td>W</td>\n",
       "      <td>...</td>\n",
       "      <td>38.0</td>\n",
       "      <td>30.0</td>\n",
       "      <td>1007.6</td>\n",
       "      <td>1008.7</td>\n",
       "      <td>NaN</td>\n",
       "      <td>2.0</td>\n",
       "      <td>21.0</td>\n",
       "      <td>23.2</td>\n",
       "      <td>No</td>\n",
       "      <td>No</td>\n",
       "    </tr>\n",
       "    <tr>\n",
       "      <td>3</td>\n",
       "      <td>2008-12-04</td>\n",
       "      <td>Albury</td>\n",
       "      <td>9.2</td>\n",
       "      <td>28.0</td>\n",
       "      <td>0.0</td>\n",
       "      <td>NaN</td>\n",
       "      <td>NaN</td>\n",
       "      <td>NE</td>\n",
       "      <td>24.0</td>\n",
       "      <td>SE</td>\n",
       "      <td>...</td>\n",
       "      <td>45.0</td>\n",
       "      <td>16.0</td>\n",
       "      <td>1017.6</td>\n",
       "      <td>1012.8</td>\n",
       "      <td>NaN</td>\n",
       "      <td>NaN</td>\n",
       "      <td>18.1</td>\n",
       "      <td>26.5</td>\n",
       "      <td>No</td>\n",
       "      <td>No</td>\n",
       "    </tr>\n",
       "    <tr>\n",
       "      <td>4</td>\n",
       "      <td>2008-12-05</td>\n",
       "      <td>Albury</td>\n",
       "      <td>17.5</td>\n",
       "      <td>32.3</td>\n",
       "      <td>1.0</td>\n",
       "      <td>NaN</td>\n",
       "      <td>NaN</td>\n",
       "      <td>W</td>\n",
       "      <td>41.0</td>\n",
       "      <td>ENE</td>\n",
       "      <td>...</td>\n",
       "      <td>82.0</td>\n",
       "      <td>33.0</td>\n",
       "      <td>1010.8</td>\n",
       "      <td>1006.0</td>\n",
       "      <td>7.0</td>\n",
       "      <td>8.0</td>\n",
       "      <td>17.8</td>\n",
       "      <td>29.7</td>\n",
       "      <td>No</td>\n",
       "      <td>No</td>\n",
       "    </tr>\n",
       "  </tbody>\n",
       "</table>\n",
       "<p>5 rows × 23 columns</p>\n",
       "</div>"
      ],
      "text/plain": [
       "      Tanggal    Kota  Suhu Minimum  Suhu Maximum  Curah Hujan  Penguapan  \\\n",
       "0  2008-12-01  Albury          13.4          22.9          0.6        NaN   \n",
       "1  2008-12-02  Albury           7.4          25.1          0.0        NaN   \n",
       "2  2008-12-03  Albury          12.9          25.7          0.0        NaN   \n",
       "3  2008-12-04  Albury           9.2          28.0          0.0        NaN   \n",
       "4  2008-12-05  Albury          17.5          32.3          1.0        NaN   \n",
       "\n",
       "   Jam Cerah Arah Angin 24 jam  Kecepatan Angin 24 jam Arah Angin 9 Pagi  ...  \\\n",
       "0        NaN                 W                    44.0                 W  ...   \n",
       "1        NaN               WNW                    44.0               NNW  ...   \n",
       "2        NaN               WSW                    46.0                 W  ...   \n",
       "3        NaN                NE                    24.0                SE  ...   \n",
       "4        NaN                 W                    41.0               ENE  ...   \n",
       "\n",
       "  Kelembaban 9 Pagi  Kelembaban 3 Sore  Tekanan Udara 9 Pagi  \\\n",
       "0              71.0               22.0                1007.7   \n",
       "1              44.0               25.0                1010.6   \n",
       "2              38.0               30.0                1007.6   \n",
       "3              45.0               16.0                1017.6   \n",
       "4              82.0               33.0                1010.8   \n",
       "\n",
       "   Tekanan Udara 3 Sore  Awan 9 Pagi  Awan 3 Sore  Suhu Celcius 9 Pagi  \\\n",
       "0                1007.1          8.0          NaN                 16.9   \n",
       "1                1007.8          NaN          NaN                 17.2   \n",
       "2                1008.7          NaN          2.0                 21.0   \n",
       "3                1012.8          NaN          NaN                 18.1   \n",
       "4                1006.0          7.0          8.0                 17.8   \n",
       "\n",
       "   Suhu Celcius 3 Sore  Hari ini Hujan  Hari besok Hujan  \n",
       "0                 21.8              No                No  \n",
       "1                 24.3              No                No  \n",
       "2                 23.2              No                No  \n",
       "3                 26.5              No                No  \n",
       "4                 29.7              No                No  \n",
       "\n",
       "[5 rows x 23 columns]"
      ]
     },
     "execution_count": 103,
     "metadata": {},
     "output_type": "execute_result"
    }
   ],
   "source": [
    "# menampilkan 5 data teratas setelah nama kolom direname\n",
    "rainAus_df.head()"
   ]
  },
  {
   "cell_type": "markdown",
   "metadata": {},
   "source": [
    "### Mengisi *missing values* pada atribut kategorikal \n",
    "***\n",
    "fillna with **modus**"
   ]
  },
  {
   "cell_type": "code",
   "execution_count": 104,
   "metadata": {},
   "outputs": [],
   "source": [
    "for cat_col in categorical_columns:\n",
    "    rainAus_df[cat_col].fillna(rainAus_df[cat_col].mode()[0],inplace=True)"
   ]
  },
  {
   "cell_type": "markdown",
   "metadata": {},
   "source": [
    "### Mengisi *missing values* pada atribut numerikal "
   ]
  },
  {
   "cell_type": "code",
   "execution_count": 105,
   "metadata": {},
   "outputs": [],
   "source": [
    "for num_col in numerical_columns:\n",
    "    rainAus_df[num_col].fillna(rainAus_df[num_col].median(),inplace=True)    "
   ]
  },
  {
   "cell_type": "markdown",
   "metadata": {},
   "source": [
    "### Mengecek rangkuman total missing values untuk setiap kolom"
   ]
  },
  {
   "cell_type": "code",
   "execution_count": 106,
   "metadata": {},
   "outputs": [
    {
     "data": {
      "text/plain": [
       "Tanggal                   0\n",
       "Kota                      0\n",
       "Suhu Minimum              0\n",
       "Suhu Maximum              0\n",
       "Curah Hujan               0\n",
       "Penguapan                 0\n",
       "Jam Cerah                 0\n",
       "Arah Angin 24 jam         0\n",
       "Kecepatan Angin 24 jam    0\n",
       "Arah Angin 9 Pagi         0\n",
       "Arah Angin 3 Sore         0\n",
       "Kecepatan Angin 9 Pagi    0\n",
       "Kecepatan Angin 3 Sore    0\n",
       "Kelembaban 9 Pagi         0\n",
       "Kelembaban 3 Sore         0\n",
       "Tekanan Udara 9 Pagi      0\n",
       "Tekanan Udara 3 Sore      0\n",
       "Awan 9 Pagi               0\n",
       "Awan 3 Sore               0\n",
       "Suhu Celcius 9 Pagi       0\n",
       "Suhu Celcius 3 Sore       0\n",
       "Hari ini Hujan            0\n",
       "Hari besok Hujan          0\n",
       "dtype: int64"
      ]
     },
     "execution_count": 106,
     "metadata": {},
     "output_type": "execute_result"
    }
   ],
   "source": [
    "rainAus_df.isnull().sum()"
   ]
  },
  {
   "cell_type": "code",
   "execution_count": 107,
   "metadata": {},
   "outputs": [
    {
     "data": {
      "text/html": [
       "<div>\n",
       "<style scoped>\n",
       "    .dataframe tbody tr th:only-of-type {\n",
       "        vertical-align: middle;\n",
       "    }\n",
       "\n",
       "    .dataframe tbody tr th {\n",
       "        vertical-align: top;\n",
       "    }\n",
       "\n",
       "    .dataframe thead th {\n",
       "        text-align: right;\n",
       "    }\n",
       "</style>\n",
       "<table border=\"1\" class=\"dataframe\">\n",
       "  <thead>\n",
       "    <tr style=\"text-align: right;\">\n",
       "      <th></th>\n",
       "      <th>Tanggal</th>\n",
       "      <th>Kota</th>\n",
       "      <th>Suhu Minimum</th>\n",
       "      <th>Suhu Maximum</th>\n",
       "      <th>Curah Hujan</th>\n",
       "      <th>Penguapan</th>\n",
       "      <th>Jam Cerah</th>\n",
       "      <th>Arah Angin 24 jam</th>\n",
       "      <th>Kecepatan Angin 24 jam</th>\n",
       "      <th>Arah Angin 9 Pagi</th>\n",
       "      <th>...</th>\n",
       "      <th>Kelembaban 9 Pagi</th>\n",
       "      <th>Kelembaban 3 Sore</th>\n",
       "      <th>Tekanan Udara 9 Pagi</th>\n",
       "      <th>Tekanan Udara 3 Sore</th>\n",
       "      <th>Awan 9 Pagi</th>\n",
       "      <th>Awan 3 Sore</th>\n",
       "      <th>Suhu Celcius 9 Pagi</th>\n",
       "      <th>Suhu Celcius 3 Sore</th>\n",
       "      <th>Hari ini Hujan</th>\n",
       "      <th>Hari besok Hujan</th>\n",
       "    </tr>\n",
       "  </thead>\n",
       "  <tbody>\n",
       "    <tr>\n",
       "      <td>0</td>\n",
       "      <td>2008-12-01</td>\n",
       "      <td>Albury</td>\n",
       "      <td>13.4</td>\n",
       "      <td>22.9</td>\n",
       "      <td>0.6</td>\n",
       "      <td>4.8</td>\n",
       "      <td>8.4</td>\n",
       "      <td>W</td>\n",
       "      <td>44.0</td>\n",
       "      <td>W</td>\n",
       "      <td>...</td>\n",
       "      <td>71.0</td>\n",
       "      <td>22.0</td>\n",
       "      <td>1007.7</td>\n",
       "      <td>1007.1</td>\n",
       "      <td>8.0</td>\n",
       "      <td>5.0</td>\n",
       "      <td>16.9</td>\n",
       "      <td>21.8</td>\n",
       "      <td>No</td>\n",
       "      <td>No</td>\n",
       "    </tr>\n",
       "    <tr>\n",
       "      <td>1</td>\n",
       "      <td>2008-12-02</td>\n",
       "      <td>Albury</td>\n",
       "      <td>7.4</td>\n",
       "      <td>25.1</td>\n",
       "      <td>0.0</td>\n",
       "      <td>4.8</td>\n",
       "      <td>8.4</td>\n",
       "      <td>WNW</td>\n",
       "      <td>44.0</td>\n",
       "      <td>NNW</td>\n",
       "      <td>...</td>\n",
       "      <td>44.0</td>\n",
       "      <td>25.0</td>\n",
       "      <td>1010.6</td>\n",
       "      <td>1007.8</td>\n",
       "      <td>5.0</td>\n",
       "      <td>5.0</td>\n",
       "      <td>17.2</td>\n",
       "      <td>24.3</td>\n",
       "      <td>No</td>\n",
       "      <td>No</td>\n",
       "    </tr>\n",
       "    <tr>\n",
       "      <td>2</td>\n",
       "      <td>2008-12-03</td>\n",
       "      <td>Albury</td>\n",
       "      <td>12.9</td>\n",
       "      <td>25.7</td>\n",
       "      <td>0.0</td>\n",
       "      <td>4.8</td>\n",
       "      <td>8.4</td>\n",
       "      <td>WSW</td>\n",
       "      <td>46.0</td>\n",
       "      <td>W</td>\n",
       "      <td>...</td>\n",
       "      <td>38.0</td>\n",
       "      <td>30.0</td>\n",
       "      <td>1007.6</td>\n",
       "      <td>1008.7</td>\n",
       "      <td>5.0</td>\n",
       "      <td>2.0</td>\n",
       "      <td>21.0</td>\n",
       "      <td>23.2</td>\n",
       "      <td>No</td>\n",
       "      <td>No</td>\n",
       "    </tr>\n",
       "    <tr>\n",
       "      <td>3</td>\n",
       "      <td>2008-12-04</td>\n",
       "      <td>Albury</td>\n",
       "      <td>9.2</td>\n",
       "      <td>28.0</td>\n",
       "      <td>0.0</td>\n",
       "      <td>4.8</td>\n",
       "      <td>8.4</td>\n",
       "      <td>NE</td>\n",
       "      <td>24.0</td>\n",
       "      <td>SE</td>\n",
       "      <td>...</td>\n",
       "      <td>45.0</td>\n",
       "      <td>16.0</td>\n",
       "      <td>1017.6</td>\n",
       "      <td>1012.8</td>\n",
       "      <td>5.0</td>\n",
       "      <td>5.0</td>\n",
       "      <td>18.1</td>\n",
       "      <td>26.5</td>\n",
       "      <td>No</td>\n",
       "      <td>No</td>\n",
       "    </tr>\n",
       "    <tr>\n",
       "      <td>4</td>\n",
       "      <td>2008-12-05</td>\n",
       "      <td>Albury</td>\n",
       "      <td>17.5</td>\n",
       "      <td>32.3</td>\n",
       "      <td>1.0</td>\n",
       "      <td>4.8</td>\n",
       "      <td>8.4</td>\n",
       "      <td>W</td>\n",
       "      <td>41.0</td>\n",
       "      <td>ENE</td>\n",
       "      <td>...</td>\n",
       "      <td>82.0</td>\n",
       "      <td>33.0</td>\n",
       "      <td>1010.8</td>\n",
       "      <td>1006.0</td>\n",
       "      <td>7.0</td>\n",
       "      <td>8.0</td>\n",
       "      <td>17.8</td>\n",
       "      <td>29.7</td>\n",
       "      <td>No</td>\n",
       "      <td>No</td>\n",
       "    </tr>\n",
       "  </tbody>\n",
       "</table>\n",
       "<p>5 rows × 23 columns</p>\n",
       "</div>"
      ],
      "text/plain": [
       "      Tanggal    Kota  Suhu Minimum  Suhu Maximum  Curah Hujan  Penguapan  \\\n",
       "0  2008-12-01  Albury          13.4          22.9          0.6        4.8   \n",
       "1  2008-12-02  Albury           7.4          25.1          0.0        4.8   \n",
       "2  2008-12-03  Albury          12.9          25.7          0.0        4.8   \n",
       "3  2008-12-04  Albury           9.2          28.0          0.0        4.8   \n",
       "4  2008-12-05  Albury          17.5          32.3          1.0        4.8   \n",
       "\n",
       "   Jam Cerah Arah Angin 24 jam  Kecepatan Angin 24 jam Arah Angin 9 Pagi  ...  \\\n",
       "0        8.4                 W                    44.0                 W  ...   \n",
       "1        8.4               WNW                    44.0               NNW  ...   \n",
       "2        8.4               WSW                    46.0                 W  ...   \n",
       "3        8.4                NE                    24.0                SE  ...   \n",
       "4        8.4                 W                    41.0               ENE  ...   \n",
       "\n",
       "  Kelembaban 9 Pagi  Kelembaban 3 Sore  Tekanan Udara 9 Pagi  \\\n",
       "0              71.0               22.0                1007.7   \n",
       "1              44.0               25.0                1010.6   \n",
       "2              38.0               30.0                1007.6   \n",
       "3              45.0               16.0                1017.6   \n",
       "4              82.0               33.0                1010.8   \n",
       "\n",
       "   Tekanan Udara 3 Sore  Awan 9 Pagi  Awan 3 Sore  Suhu Celcius 9 Pagi  \\\n",
       "0                1007.1          8.0          5.0                 16.9   \n",
       "1                1007.8          5.0          5.0                 17.2   \n",
       "2                1008.7          5.0          2.0                 21.0   \n",
       "3                1012.8          5.0          5.0                 18.1   \n",
       "4                1006.0          7.0          8.0                 17.8   \n",
       "\n",
       "   Suhu Celcius 3 Sore  Hari ini Hujan  Hari besok Hujan  \n",
       "0                 21.8              No                No  \n",
       "1                 24.3              No                No  \n",
       "2                 23.2              No                No  \n",
       "3                 26.5              No                No  \n",
       "4                 29.7              No                No  \n",
       "\n",
       "[5 rows x 23 columns]"
      ]
     },
     "execution_count": 107,
     "metadata": {},
     "output_type": "execute_result"
    }
   ],
   "source": [
    "# menampilkan 5 data teratas setelah penanganan missing values\n",
    "rainAus_df.head()"
   ]
  },
  {
   "cell_type": "markdown",
   "metadata": {},
   "source": [
    "*Missing values* pada dataset sudah berhasil ditangani untuk atribut kategorikal dan numerikal"
   ]
  },
  {
   "cell_type": "markdown",
   "metadata": {},
   "source": [
    "### Menghapus kolom yang tidak dipakai\n",
    "***\n",
    "Kolom **Tanggal** akan diubah menjadi tipe *datetime*, lalu akan di-*breakdown* menjadi **Tahun, Bulan, Hari**. Selanjutnya kolom **Tanggal** akan dihapus"
   ]
  },
  {
   "cell_type": "code",
   "execution_count": 108,
   "metadata": {},
   "outputs": [],
   "source": [
    "# mengubah tipe data menjadi datetime\n",
    "rainAus_df['Tanggal'] = pd.to_datetime(rainAus_df['Tanggal'])\n",
    "\n",
    "# ambil Tahun,Bulan,Hari dan jadikan atribut\n",
    "rainAus_df['Tahun'] = rainAus_df['Tanggal'].dt.year\n",
    "rainAus_df['Bulan'] = rainAus_df['Tanggal'].dt.month_name()\n",
    "rainAus_df['Hari'] = rainAus_df['Tanggal'].dt.day_name()\n",
    "\n",
    "# drop kolom \"Tanggal\"\n",
    "rainAus_df.drop('Tanggal', axis=1,inplace=True)"
   ]
  },
  {
   "cell_type": "code",
   "execution_count": 109,
   "metadata": {},
   "outputs": [
    {
     "data": {
      "text/html": [
       "<div>\n",
       "<style scoped>\n",
       "    .dataframe tbody tr th:only-of-type {\n",
       "        vertical-align: middle;\n",
       "    }\n",
       "\n",
       "    .dataframe tbody tr th {\n",
       "        vertical-align: top;\n",
       "    }\n",
       "\n",
       "    .dataframe thead th {\n",
       "        text-align: right;\n",
       "    }\n",
       "</style>\n",
       "<table border=\"1\" class=\"dataframe\">\n",
       "  <thead>\n",
       "    <tr style=\"text-align: right;\">\n",
       "      <th></th>\n",
       "      <th>Kota</th>\n",
       "      <th>Suhu Minimum</th>\n",
       "      <th>Suhu Maximum</th>\n",
       "      <th>Curah Hujan</th>\n",
       "      <th>Penguapan</th>\n",
       "      <th>Jam Cerah</th>\n",
       "      <th>Arah Angin 24 jam</th>\n",
       "      <th>Kecepatan Angin 24 jam</th>\n",
       "      <th>Arah Angin 9 Pagi</th>\n",
       "      <th>Arah Angin 3 Sore</th>\n",
       "      <th>...</th>\n",
       "      <th>Tekanan Udara 3 Sore</th>\n",
       "      <th>Awan 9 Pagi</th>\n",
       "      <th>Awan 3 Sore</th>\n",
       "      <th>Suhu Celcius 9 Pagi</th>\n",
       "      <th>Suhu Celcius 3 Sore</th>\n",
       "      <th>Hari ini Hujan</th>\n",
       "      <th>Hari besok Hujan</th>\n",
       "      <th>Tahun</th>\n",
       "      <th>Bulan</th>\n",
       "      <th>Hari</th>\n",
       "    </tr>\n",
       "  </thead>\n",
       "  <tbody>\n",
       "    <tr>\n",
       "      <td>0</td>\n",
       "      <td>Albury</td>\n",
       "      <td>13.4</td>\n",
       "      <td>22.9</td>\n",
       "      <td>0.6</td>\n",
       "      <td>4.8</td>\n",
       "      <td>8.4</td>\n",
       "      <td>W</td>\n",
       "      <td>44.0</td>\n",
       "      <td>W</td>\n",
       "      <td>WNW</td>\n",
       "      <td>...</td>\n",
       "      <td>1007.1</td>\n",
       "      <td>8.0</td>\n",
       "      <td>5.0</td>\n",
       "      <td>16.9</td>\n",
       "      <td>21.8</td>\n",
       "      <td>No</td>\n",
       "      <td>No</td>\n",
       "      <td>2008</td>\n",
       "      <td>December</td>\n",
       "      <td>Monday</td>\n",
       "    </tr>\n",
       "    <tr>\n",
       "      <td>1</td>\n",
       "      <td>Albury</td>\n",
       "      <td>7.4</td>\n",
       "      <td>25.1</td>\n",
       "      <td>0.0</td>\n",
       "      <td>4.8</td>\n",
       "      <td>8.4</td>\n",
       "      <td>WNW</td>\n",
       "      <td>44.0</td>\n",
       "      <td>NNW</td>\n",
       "      <td>WSW</td>\n",
       "      <td>...</td>\n",
       "      <td>1007.8</td>\n",
       "      <td>5.0</td>\n",
       "      <td>5.0</td>\n",
       "      <td>17.2</td>\n",
       "      <td>24.3</td>\n",
       "      <td>No</td>\n",
       "      <td>No</td>\n",
       "      <td>2008</td>\n",
       "      <td>December</td>\n",
       "      <td>Tuesday</td>\n",
       "    </tr>\n",
       "    <tr>\n",
       "      <td>2</td>\n",
       "      <td>Albury</td>\n",
       "      <td>12.9</td>\n",
       "      <td>25.7</td>\n",
       "      <td>0.0</td>\n",
       "      <td>4.8</td>\n",
       "      <td>8.4</td>\n",
       "      <td>WSW</td>\n",
       "      <td>46.0</td>\n",
       "      <td>W</td>\n",
       "      <td>WSW</td>\n",
       "      <td>...</td>\n",
       "      <td>1008.7</td>\n",
       "      <td>5.0</td>\n",
       "      <td>2.0</td>\n",
       "      <td>21.0</td>\n",
       "      <td>23.2</td>\n",
       "      <td>No</td>\n",
       "      <td>No</td>\n",
       "      <td>2008</td>\n",
       "      <td>December</td>\n",
       "      <td>Wednesday</td>\n",
       "    </tr>\n",
       "    <tr>\n",
       "      <td>3</td>\n",
       "      <td>Albury</td>\n",
       "      <td>9.2</td>\n",
       "      <td>28.0</td>\n",
       "      <td>0.0</td>\n",
       "      <td>4.8</td>\n",
       "      <td>8.4</td>\n",
       "      <td>NE</td>\n",
       "      <td>24.0</td>\n",
       "      <td>SE</td>\n",
       "      <td>E</td>\n",
       "      <td>...</td>\n",
       "      <td>1012.8</td>\n",
       "      <td>5.0</td>\n",
       "      <td>5.0</td>\n",
       "      <td>18.1</td>\n",
       "      <td>26.5</td>\n",
       "      <td>No</td>\n",
       "      <td>No</td>\n",
       "      <td>2008</td>\n",
       "      <td>December</td>\n",
       "      <td>Thursday</td>\n",
       "    </tr>\n",
       "    <tr>\n",
       "      <td>4</td>\n",
       "      <td>Albury</td>\n",
       "      <td>17.5</td>\n",
       "      <td>32.3</td>\n",
       "      <td>1.0</td>\n",
       "      <td>4.8</td>\n",
       "      <td>8.4</td>\n",
       "      <td>W</td>\n",
       "      <td>41.0</td>\n",
       "      <td>ENE</td>\n",
       "      <td>NW</td>\n",
       "      <td>...</td>\n",
       "      <td>1006.0</td>\n",
       "      <td>7.0</td>\n",
       "      <td>8.0</td>\n",
       "      <td>17.8</td>\n",
       "      <td>29.7</td>\n",
       "      <td>No</td>\n",
       "      <td>No</td>\n",
       "      <td>2008</td>\n",
       "      <td>December</td>\n",
       "      <td>Friday</td>\n",
       "    </tr>\n",
       "  </tbody>\n",
       "</table>\n",
       "<p>5 rows × 25 columns</p>\n",
       "</div>"
      ],
      "text/plain": [
       "     Kota  Suhu Minimum  Suhu Maximum  Curah Hujan  Penguapan  Jam Cerah  \\\n",
       "0  Albury          13.4          22.9          0.6        4.8        8.4   \n",
       "1  Albury           7.4          25.1          0.0        4.8        8.4   \n",
       "2  Albury          12.9          25.7          0.0        4.8        8.4   \n",
       "3  Albury           9.2          28.0          0.0        4.8        8.4   \n",
       "4  Albury          17.5          32.3          1.0        4.8        8.4   \n",
       "\n",
       "  Arah Angin 24 jam  Kecepatan Angin 24 jam Arah Angin 9 Pagi  \\\n",
       "0                 W                    44.0                 W   \n",
       "1               WNW                    44.0               NNW   \n",
       "2               WSW                    46.0                 W   \n",
       "3                NE                    24.0                SE   \n",
       "4                 W                    41.0               ENE   \n",
       "\n",
       "  Arah Angin 3 Sore  ...  Tekanan Udara 3 Sore  Awan 9 Pagi  Awan 3 Sore  \\\n",
       "0               WNW  ...                1007.1          8.0          5.0   \n",
       "1               WSW  ...                1007.8          5.0          5.0   \n",
       "2               WSW  ...                1008.7          5.0          2.0   \n",
       "3                 E  ...                1012.8          5.0          5.0   \n",
       "4                NW  ...                1006.0          7.0          8.0   \n",
       "\n",
       "   Suhu Celcius 9 Pagi  Suhu Celcius 3 Sore  Hari ini Hujan  Hari besok Hujan  \\\n",
       "0                 16.9                 21.8              No                No   \n",
       "1                 17.2                 24.3              No                No   \n",
       "2                 21.0                 23.2              No                No   \n",
       "3                 18.1                 26.5              No                No   \n",
       "4                 17.8                 29.7              No                No   \n",
       "\n",
       "   Tahun     Bulan       Hari  \n",
       "0   2008  December     Monday  \n",
       "1   2008  December    Tuesday  \n",
       "2   2008  December  Wednesday  \n",
       "3   2008  December   Thursday  \n",
       "4   2008  December     Friday  \n",
       "\n",
       "[5 rows x 25 columns]"
      ]
     },
     "execution_count": 109,
     "metadata": {},
     "output_type": "execute_result"
    }
   ],
   "source": [
    "rainAus_df.head()"
   ]
  },
  {
   "cell_type": "code",
   "execution_count": 110,
   "metadata": {},
   "outputs": [],
   "source": [
    "# memperbarui daftar atribut numerik \n",
    "numerical_columns = rainAus_df.select_dtypes(include=['float64','int64']).columns.values\n",
    "diskrit_columns = ['Awan 9 Pagi','Awan 3 Sore','Tahun']\n",
    "continuous_columns = [col for col in numerical_columns if col not in diskrit_columns]\n",
    "\n",
    "# Memperbarui daftar atribut kategorikal\n",
    "categorical_columns = rainAus_df.select_dtypes(include=['object']).columns.values"
   ]
  },
  {
   "cell_type": "markdown",
   "metadata": {},
   "source": [
    "## Explorasi Data"
   ]
  },
  {
   "cell_type": "markdown",
   "metadata": {},
   "source": [
    "### Melakukan Data Query, Grouping, dan Visualisasi"
   ]
  },
  {
   "cell_type": "markdown",
   "metadata": {},
   "source": [
    "#### Persentase \"Hari besok Hujan\" berdasarkan Kota"
   ]
  },
  {
   "cell_type": "code",
   "execution_count": 111,
   "metadata": {},
   "outputs": [
    {
     "data": {
      "image/png": "[encoded data removed]",
      "text/plain": [
       "<Figure size 648x1368 with 1 Axes>"
      ]
     },
     "metadata": {
      "needs_background": "light"
     },
     "output_type": "display_data"
    }
   ],
   "source": [
    "# Target 'No' berdasarkan kota\n",
    "kota_no = rainAus_df[\n",
    "    (rainAus_df['Hari besok Hujan']==\"No\")\n",
    "].groupby('Kota').count()['Hari besok Hujan'].values\n",
    "\n",
    "# Target 'Yes' berdasarkan kota\n",
    "kota_yes = rainAus_df[\n",
    "    (rainAus_df['Hari besok Hujan']==\"Yes\")\n",
    "].groupby('Kota').count()['Hari besok Hujan'].values\n",
    "\n",
    "# Visualize\n",
    "sumbu_y_ticks = list(rainAus_df['Kota'].unique())\n",
    "sumbu_y_axis = np.arange(0,len(sumbu_y_ticks),1)\n",
    "\n",
    "plt.figure(figsize=(9,19))\n",
    "plt.barh(sumbu_y_axis-0.2, kota_no,0.4,label='No')\n",
    "plt.barh(sumbu_y_axis + 0.2, kota_yes, 0.4, label = 'yes')\n",
    "plt.yticks(sumbu_y_axis,sumbu_y_ticks, )\n",
    "plt.ylabel(\"Kota di Australia\", fontsize=14)\n",
    "plt.xlabel(\"Jumlah kejadian Hari besok Hujan\", fontsize=14)\n",
    "plt.title(\"\")\n",
    "plt.legend()\n",
    "plt.show()"
   ]
  },
  {
   "cell_type": "markdown",
   "metadata": {},
   "source": [
    "#### Menampilkan histogram untuk setiap atribut bertipe continous\n",
    "***\n",
    "- Untuk mengetahui distribusi data\n",
    "- Untuk mengetahui ada atau tidaknya outliers"
   ]
  },
  {
   "cell_type": "code",
   "execution_count": 112,
   "metadata": {},
   "outputs": [
    {
     "data": {
      "image/png": "[encoded data removed]",
      "text/plain": [
       "<Figure size 864x2016 with 14 Axes>"
      ]
     },
     "metadata": {
      "needs_background": "light"
     },
     "output_type": "display_data"
    }
   ],
   "source": [
    "n_rows = int(len(numerical_columns)/2)+1\n",
    "n_cols = 2\n",
    "\n",
    "fig = plt.figure(figsize=(12,28))\n",
    "axs = []\n",
    "\n",
    "\n",
    "number_plot=1\n",
    "for num_col in continuous_columns: \n",
    "    axs.append(fig.add_subplot(n_rows,n_cols,number_plot))\n",
    "    sns.histplot(rainAus_df[num_col],kde=True,ax=axs[number_plot-1])\n",
    "   \n",
    "    axs[number_plot-1].set_xlabel(num_col, fontsize=12)\n",
    "    axs[number_plot-1].set_ylabel(\"Jumlah\", fontsize=12)\n",
    "    axs[number_plot-1].set_title(\"Distribusi Frekuensi Atribut ({})\".format(num_col), fontsize=12)    \n",
    "    \n",
    "    \n",
    "    number_plot+=1\n",
    "\n",
    "fig.tight_layout()"
   ]
  },
  {
   "cell_type": "markdown",
   "metadata": {},
   "source": [
    "**ANALISIS** <br>\n",
    "Masih ada beberapa atribut yang distribusinya tidak normal dan cenderung skew. <br>\n",
    "**Perlu dilakukan analisis outliers dan penanganan outliers di preprocessing**"
   ]
  },
  {
   "cell_type": "markdown",
   "metadata": {},
   "source": [
    "#### Apakah ada hubungan \"Hari ini Hujan\" dengan \"Hari besok Hujan\"?"
   ]
  },
  {
   "cell_type": "code",
   "execution_count": 113,
   "metadata": {},
   "outputs": [
    {
     "name": "stderr",
     "output_type": "stream",
     "text": [
      "C:\\Users\\naufa\\Anaconda3\\lib\\site-packages\\pandas\\plotting\\_matplotlib\\tools.py:307: MatplotlibDeprecationWarning: \n",
      "The rowNum attribute was deprecated in Matplotlib 3.2 and will be removed two minor releases later. Use ax.get_subplotspec().rowspan.start instead.\n",
      "  layout[ax.rowNum, ax.colNum] = ax.get_visible()\n",
      "C:\\Users\\naufa\\Anaconda3\\lib\\site-packages\\pandas\\plotting\\_matplotlib\\tools.py:307: MatplotlibDeprecationWarning: \n",
      "The colNum attribute was deprecated in Matplotlib 3.2 and will be removed two minor releases later. Use ax.get_subplotspec().colspan.start instead.\n",
      "  layout[ax.rowNum, ax.colNum] = ax.get_visible()\n",
      "C:\\Users\\naufa\\Anaconda3\\lib\\site-packages\\pandas\\plotting\\_matplotlib\\tools.py:313: MatplotlibDeprecationWarning: \n",
      "The rowNum attribute was deprecated in Matplotlib 3.2 and will be removed two minor releases later. Use ax.get_subplotspec().rowspan.start instead.\n",
      "  if not layout[ax.rowNum + 1, ax.colNum]:\n",
      "C:\\Users\\naufa\\Anaconda3\\lib\\site-packages\\pandas\\plotting\\_matplotlib\\tools.py:313: MatplotlibDeprecationWarning: \n",
      "The colNum attribute was deprecated in Matplotlib 3.2 and will be removed two minor releases later. Use ax.get_subplotspec().colspan.start instead.\n",
      "  if not layout[ax.rowNum + 1, ax.colNum]:\n"
     ]
    },
    {
     "data": {
      "text/plain": [
       "Text(0, 0.5, 'Jumlah Kejadian')"
      ]
     },
     "execution_count": 113,
     "metadata": {},
     "output_type": "execute_result"
    },
    {
     "data": {
      "image/png": "[encoded data removed]",
      "text/plain": [
       "<Figure size 1008x576 with 2 Axes>"
      ]
     },
     "metadata": {
      "needs_background": "light"
     },
     "output_type": "display_data"
    }
   ],
   "source": [
    "fig,ax = plt.subplots(1,2, figsize=(14,8))\n",
    "\n",
    "# persentase 'Hari ini Hujan' dalam pie chart\n",
    "rainAus_df['Hari ini Hujan'].value_counts().plot(\n",
    "    kind='pie', \n",
    "    ax=ax[0], \n",
    "    autopct='%.1f%%',\n",
    "    explode=[0,0.1], \n",
    "    cmap='coolwarm',\n",
    "    shadow=True\n",
    ")\n",
    "ax[0].set_title('Persentase jumlah kejadian Hari ini Hujan')\n",
    "\n",
    "# \n",
    "sns.countplot(\n",
    "    x='Hari ini Hujan',\n",
    "    hue='Hari besok Hujan',\n",
    "    data=rainAus_df\n",
    ")\n",
    "ax[1].set_title('Pengaruh Hari ini Hujan dengan Hari besok Hujan')\n",
    "ax[1].set_ylabel('Jumlah Kejadian')"
   ]
  },
  {
   "cell_type": "code",
   "execution_count": 114,
   "metadata": {},
   "outputs": [],
   "source": [
    "# n_rows = 2\n",
    "# n_cols = 2\n",
    "\n",
    "# fig = plt.figure(figsize=(12,16))\n",
    "# ax0 = fig.add_subplot(n_rows, n_cols, 1)\n",
    "# ax1 = fig.add_subplot(n_rows, n_cols, 2)\n",
    "# ax2 = fig.add_subplot(n_rows, n_cols, 3)\n",
    "# ax3 = fig.add_subplot(n_rows, n_cols, 4)\n",
    "\n",
    "\n",
    "# # plotting \"Hari ini Hujan\" (bar chart)\n",
    "# rainAus_df['Hari ini Hujan'].value_counts().plot(kind='bar', ax=ax0, cmap='Dark2')\n",
    "# ax0.set_xlabel('Hari ini Hujan')\n",
    "# ax0.set_ylabel('Jumlah kejadian')\n",
    "# ax0.set_title('Proporsi jumlah kejadian Hari ini Hujan')\n",
    "\n",
    "# # Plotting \"Hari ini Hujan\" (area chart)\n",
    "# rainAus_df['Hari ini Hujan'].value_counts().plot(kind='pie', ax=ax1, autopct='%.1f%%', explode=[0,0.05], cmap='Dark2')\n",
    "# ax1.set_xlabel('Hari ini Hujan')\n",
    "# ax1.set_ylabel('Jumlah kejadian')\n",
    "# ax1.set_title('Persentase jumlah kejadian Hari ini Hujan')\n",
    "\n",
    "\n",
    "# # plotting \"Hari besok Hujan\" (bar chart)\n",
    "# rainAus_df['Hari besok Hujan'].value_counts().plot(kind='bar', ax=ax2, cmap='coolwarm')\n",
    "# ax2.set_xlabel('Hari besok Hujan')\n",
    "# ax2.set_ylabel('Jumlah kejadian')\n",
    "# ax2.set_title('Proporsi jumlah kejadian Hari besok Hujan')\n",
    "\n",
    "# # Plotting \"Hari besok Hujan\" (area chart)\n",
    "# rainAus_df['Hari besok Hujan'].value_counts().plot(kind='pie', ax=ax3, autopct='%.1f%%', explode=[0,0.05], cmap='coolwarm')\n",
    "# ax3.set_xlabel('Hari besok Hujan')\n",
    "# ax3.set_ylabel('Jumlah kejadian')\n",
    "# ax3.set_title('Persentase jumlah kejadian Hari besok Hujan')\n"
   ]
  },
  {
   "cell_type": "markdown",
   "metadata": {},
   "source": [
    "**ANALISIS** <br>\n",
    "- Ada 78,1% \"Hari ini Hujan\" berlabel \"No\n",
    "- Kalau \"Hari ini Hujan\" dengan label 'No' maka kemungkinan besar 'Hari besok Hujan' berlabel 'No'. \n",
    "- Jumlah kejadian untuk setiap pasangan lainnya adalah seimbang. "
   ]
  },
  {
   "cell_type": "markdown",
   "metadata": {},
   "source": [
    "#### Memvisualisasikan outliers pada continous column dengan BoxPlot"
   ]
  },
  {
   "cell_type": "code",
   "execution_count": 115,
   "metadata": {},
   "outputs": [
    {
     "data": {
      "image/png": "[encoded data removed]",
      "text/plain": [
       "<Figure size 1152x3024 with 14 Axes>"
      ]
     },
     "metadata": {
      "needs_background": "light"
     },
     "output_type": "display_data"
    }
   ],
   "source": [
    "n_rows = int(len(continuous_columns)/2)+1\n",
    "n_cols = 2\n",
    "\n",
    "fig = plt.figure(figsize=(16,42))\n",
    "axs = []\n",
    "number_plot=1\n",
    "\n",
    "for con_col in continuous_columns:\n",
    "    axs.append(fig.add_subplot(n_rows,n_cols,number_plot))\n",
    "    sns.boxplot(x=con_col,data=rainAus_df,ax=axs[number_plot-1])\n",
    "   \n",
    "    axs[number_plot-1].set_xlabel(con_col, fontsize=12)\n",
    "    axs[number_plot-1].set_title(\"Boxplot Atribut ({})\".format(con_col), fontsize=12)    \n",
    "    \n",
    "    number_plot+=1\n",
    "\n",
    "fig.tight_layout(h_pad=1.5,w_pad=0.5)"
   ]
  },
  {
   "cell_type": "markdown",
   "metadata": {},
   "source": [
    "**ANALISIS** <br>\n",
    "- Seluruh atribut continous (kecuali 'Kelembaban 3 Sore') memiliki outliers yang cukup signifikan\n",
    "- Perlu penanganan lebih lanjut di **preprocessing** untuk outliers ini, identifikasi juga apakah masih terselip invalid values atau tidak"
   ]
  },
  {
   "cell_type": "markdown",
   "metadata": {},
   "source": [
    "### Melihat Pengaruh atribut ke target"
   ]
  },
  {
   "cell_type": "markdown",
   "metadata": {},
   "source": [
    "#### Pengaruh atribut numerikal ke target kategorikal\n",
    "***\n",
    "Untuk melihat pengaruh ini akan dihitung ANOVA F-Score dari setiap atribut terhadap kelas target"
   ]
  },
  {
   "cell_type": "code",
   "execution_count": 116,
   "metadata": {},
   "outputs": [],
   "source": [
    "# Menyiapkan data hanya untuk tipe numerikal\n",
    "X_numerical = rainAus_df.loc[:,numerical_columns]\n",
    "y_numerical= rainAus_df['Hari besok Hujan'].replace({'Yes':1,'No':0})"
   ]
  },
  {
   "cell_type": "code",
   "execution_count": 117,
   "metadata": {},
   "outputs": [],
   "source": [
    "# instansiasi objek untuk anova\n",
    "anova_fs = SelectKBest(score_func=f_classif,k='all')"
   ]
  },
  {
   "cell_type": "code",
   "execution_count": 118,
   "metadata": {},
   "outputs": [
    {
     "data": {
      "text/plain": [
       "SelectKBest(k='all')"
      ]
     },
     "execution_count": 118,
     "metadata": {},
     "output_type": "execute_result"
    }
   ],
   "source": [
    "# fitting ke data\n",
    "anova_fs.fit(X_numerical,y_numerical)"
   ]
  },
  {
   "cell_type": "code",
   "execution_count": 119,
   "metadata": {},
   "outputs": [
    {
     "data": {
      "text/plain": [
       "Text(0.5, 1.0, 'F-Score setiap atribut numerik terhadap Target')"
      ]
     },
     "execution_count": 119,
     "metadata": {},
     "output_type": "execute_result"
    },
    {
     "data": {
      "image/png": "[encoded data removed]",
      "text/plain": [
       "<Figure size 864x720 with 1 Axes>"
      ]
     },
     "metadata": {
      "needs_background": "light"
     },
     "output_type": "display_data"
    }
   ],
   "source": [
    "# Plotting score setiap atribut\n",
    "plt.figure(figsize=(12,10))\n",
    "plt.barh([num_col for num_col in numerical_columns], anova_fs.scores_)\n",
    "plt.ylabel('Daftar Atribut Numerik', fontsize=12)\n",
    "plt.xlabel('Nilai F-Score', fontsize=12)\n",
    "plt.title('F-Score setiap atribut numerik terhadap Target',fontsize=12)"
   ]
  },
  {
   "cell_type": "markdown",
   "metadata": {},
   "source": [
    "**ANALISIS** <br>\n",
    "Hasil ini bisa menjadi dasar dalam pengambilan keputusan pada langkah **Data Preprocessing** khususnya pada **Feature Engineering**. <br>\n",
    "Interpretasi hasil gambar di atas: <br>\n",
    "1. Semakin besar nilai F-score semakin besar hubungan atau korelasi atribut tersebut dengan kelas target\n",
    "2. Semakin kecil nilai F-Score semakin kecil hubungan atau korelasi atribut tersebut dengan kelas target"
   ]
  },
  {
   "cell_type": "markdown",
   "metadata": {},
   "source": [
    "#### Pengaruh atribut kategorikal ke target kategorikal\n",
    "***\n",
    "Untuk melihat pengaruh ini bisa menggunakan Chi-Squared atau Mutual Information dari setiap atribut terhadap kelas target"
   ]
  },
  {
   "cell_type": "code",
   "execution_count": 120,
   "metadata": {},
   "outputs": [],
   "source": [
    "# remove atribut 'Hari besok Hujan' karena merupakan target yang ingin dicari \n",
    "ls_categorical_columns = list(categorical_columns)\n",
    "ls_categorical_columns.remove('Hari besok Hujan')"
   ]
  },
  {
   "cell_type": "code",
   "execution_count": 121,
   "metadata": {},
   "outputs": [],
   "source": [
    "# Menyiapkan data hanya untuk tipe kategorikal\n",
    "X_kategorikal = rainAus_df[ls_categorical_columns]\n",
    "y_kategorikal= y_numerical"
   ]
  },
  {
   "cell_type": "code",
   "execution_count": 122,
   "metadata": {},
   "outputs": [],
   "source": [
    "# Encoding categorical attributes\n",
    "ordinal_encoder = OrdinalEncoder()\n",
    "\n",
    "# fit into data\n",
    "ordinal_encoder.fit(X_kategorikal)\n",
    "\n",
    "# transform into data\n",
    "X_kategorikal_encoded = ordinal_encoder.transform(X_kategorikal)"
   ]
  },
  {
   "cell_type": "code",
   "execution_count": 123,
   "metadata": {},
   "outputs": [
    {
     "data": {
      "text/plain": [
       "SelectKBest(k='all',\n",
       "            score_func=<function mutual_info_classif at 0x000001DDC2122E58>)"
      ]
     },
     "execution_count": 123,
     "metadata": {},
     "output_type": "execute_result"
    }
   ],
   "source": [
    "# instansiasi objek MutualInformation\n",
    "mutual_info_fs = SelectKBest(score_func=mutual_info_classif, k='all')\n",
    "\n",
    "# fit into encoded data\n",
    "mutual_info_fs.fit(X_kategorikal_encoded,y_kategorikal)"
   ]
  },
  {
   "cell_type": "code",
   "execution_count": 124,
   "metadata": {},
   "outputs": [
    {
     "data": {
      "text/plain": [
       "Text(0.5, 1.0, 'Mutual Information setiap atribut kategorikal terhadap Target')"
      ]
     },
     "execution_count": 124,
     "metadata": {},
     "output_type": "execute_result"
    },
    {
     "data": {
      "image/png": "[encoded data removed]",
      "text/plain": [
       "<Figure size 864x720 with 1 Axes>"
      ]
     },
     "metadata": {
      "needs_background": "light"
     },
     "output_type": "display_data"
    }
   ],
   "source": [
    "# Plotting score setiap atribut kategorikal\n",
    "plt.figure(figsize=(12,10))\n",
    "plt.barh([cat_col for cat_col in ls_categorical_columns], mutual_info_fs.scores_)\n",
    "plt.ylabel('Daftar Atribut Kategorikal', fontsize=12)\n",
    "plt.xlabel('Nilai Mutual Information', fontsize=12)\n",
    "plt.title('Mutual Information setiap atribut kategorikal terhadap Target',fontsize=12)"
   ]
  },
  {
   "cell_type": "markdown",
   "metadata": {},
   "source": [
    "**ANALISIS** <br>\n",
    "Hasil ini bisa menjadi dasar dalam pengambilan keputusan pada langkah **Data Preprocessing** khususnya pada **Feature Engineering**. <br>\n",
    "Interpretasi hasil gambar di atas: <br>\n",
    "1. Semakin besar nilai Mutual Information semakin besar hubungan atau korelasi atribut tersebut dengan kelas target\n",
    "2. Semakin kecil nilai Mutual Information semakin kecil hubungan atau korelasi atribut tersebut dengan kelas target"
   ]
  },
  {
   "cell_type": "markdown",
   "metadata": {},
   "source": [
    "### Menghitung central tendency (Mean)"
   ]
  },
  {
   "cell_type": "code",
   "execution_count": 125,
   "metadata": {},
   "outputs": [
    {
     "data": {
      "text/plain": [
       "Suhu Minimum                12.192053\n",
       "Suhu Maximum                23.215962\n",
       "Curah Hujan                  2.307990\n",
       "Penguapan                    5.179779\n",
       "Jam Cerah                    7.989889\n",
       "Kecepatan Angin 24 jam      39.962189\n",
       "Kecepatan Angin 9 Pagi      14.030751\n",
       "Kecepatan Angin 3 Sore      18.669758\n",
       "Kelembaban 9 Pagi           68.901251\n",
       "Kelembaban 3 Sore           51.553396\n",
       "Tekanan Udara 9 Pagi      1017.644768\n",
       "Tekanan Udara 3 Sore      1015.250115\n",
       "Awan 9 Pagi                  4.659755\n",
       "Awan 3 Sore                  4.709913\n",
       "Suhu Celcius 9 Pagi         16.987101\n",
       "Suhu Celcius 3 Sore         21.668916\n",
       "Tahun                     2012.769751\n",
       "dtype: float64"
      ]
     },
     "execution_count": 125,
     "metadata": {},
     "output_type": "execute_result"
    }
   ],
   "source": [
    "rainAus_df[numerical_columns].mean()"
   ]
  },
  {
   "cell_type": "markdown",
   "metadata": {},
   "source": [
    "### Menghitung central tendency (Median)"
   ]
  },
  {
   "cell_type": "code",
   "execution_count": 126,
   "metadata": {},
   "outputs": [
    {
     "data": {
      "text/plain": [
       "Suhu Minimum                12.0\n",
       "Suhu Maximum                22.6\n",
       "Curah Hujan                  0.0\n",
       "Penguapan                    4.8\n",
       "Jam Cerah                    8.4\n",
       "Kecepatan Angin 24 jam      39.0\n",
       "Kecepatan Angin 9 Pagi      13.0\n",
       "Kecepatan Angin 3 Sore      19.0\n",
       "Kelembaban 9 Pagi           70.0\n",
       "Kelembaban 3 Sore           52.0\n",
       "Tekanan Udara 9 Pagi      1017.6\n",
       "Tekanan Udara 3 Sore      1015.2\n",
       "Awan 9 Pagi                  5.0\n",
       "Awan 3 Sore                  5.0\n",
       "Suhu Celcius 9 Pagi         16.7\n",
       "Suhu Celcius 3 Sore         21.1\n",
       "Tahun                     2013.0\n",
       "dtype: float64"
      ]
     },
     "execution_count": 126,
     "metadata": {},
     "output_type": "execute_result"
    }
   ],
   "source": [
    "rainAus_df[numerical_columns].median()"
   ]
  },
  {
   "cell_type": "markdown",
   "metadata": {},
   "source": [
    "### Menghitung central tendency (Modus)\n",
    "***\n",
    "Modus bisa diterapkan untuk data bertipe kategorikal atau numerikal"
   ]
  },
  {
   "cell_type": "code",
   "execution_count": 127,
   "metadata": {},
   "outputs": [
    {
     "data": {
      "text/html": [
       "<div>\n",
       "<style scoped>\n",
       "    .dataframe tbody tr th:only-of-type {\n",
       "        vertical-align: middle;\n",
       "    }\n",
       "\n",
       "    .dataframe tbody tr th {\n",
       "        vertical-align: top;\n",
       "    }\n",
       "\n",
       "    .dataframe thead th {\n",
       "        text-align: right;\n",
       "    }\n",
       "</style>\n",
       "<table border=\"1\" class=\"dataframe\">\n",
       "  <thead>\n",
       "    <tr style=\"text-align: right;\">\n",
       "      <th></th>\n",
       "      <th>Kota</th>\n",
       "      <th>Suhu Minimum</th>\n",
       "      <th>Suhu Maximum</th>\n",
       "      <th>Curah Hujan</th>\n",
       "      <th>Penguapan</th>\n",
       "      <th>Jam Cerah</th>\n",
       "      <th>Arah Angin 24 jam</th>\n",
       "      <th>Kecepatan Angin 24 jam</th>\n",
       "      <th>Arah Angin 9 Pagi</th>\n",
       "      <th>Arah Angin 3 Sore</th>\n",
       "      <th>...</th>\n",
       "      <th>Tekanan Udara 3 Sore</th>\n",
       "      <th>Awan 9 Pagi</th>\n",
       "      <th>Awan 3 Sore</th>\n",
       "      <th>Suhu Celcius 9 Pagi</th>\n",
       "      <th>Suhu Celcius 3 Sore</th>\n",
       "      <th>Hari ini Hujan</th>\n",
       "      <th>Hari besok Hujan</th>\n",
       "      <th>Tahun</th>\n",
       "      <th>Bulan</th>\n",
       "      <th>Hari</th>\n",
       "    </tr>\n",
       "  </thead>\n",
       "  <tbody>\n",
       "    <tr>\n",
       "      <td>0</td>\n",
       "      <td>Canberra</td>\n",
       "      <td>12.0</td>\n",
       "      <td>22.6</td>\n",
       "      <td>0.0</td>\n",
       "      <td>4.8</td>\n",
       "      <td>8.4</td>\n",
       "      <td>W</td>\n",
       "      <td>39.0</td>\n",
       "      <td>N</td>\n",
       "      <td>SE</td>\n",
       "      <td>...</td>\n",
       "      <td>1015.2</td>\n",
       "      <td>5.0</td>\n",
       "      <td>5.0</td>\n",
       "      <td>16.7</td>\n",
       "      <td>21.1</td>\n",
       "      <td>No</td>\n",
       "      <td>No</td>\n",
       "      <td>2016</td>\n",
       "      <td>March</td>\n",
       "      <td>Thursday</td>\n",
       "    </tr>\n",
       "  </tbody>\n",
       "</table>\n",
       "<p>1 rows × 25 columns</p>\n",
       "</div>"
      ],
      "text/plain": [
       "       Kota  Suhu Minimum  Suhu Maximum  Curah Hujan  Penguapan  Jam Cerah  \\\n",
       "0  Canberra          12.0          22.6          0.0        4.8        8.4   \n",
       "\n",
       "  Arah Angin 24 jam  Kecepatan Angin 24 jam Arah Angin 9 Pagi  \\\n",
       "0                 W                    39.0                 N   \n",
       "\n",
       "  Arah Angin 3 Sore  ...  Tekanan Udara 3 Sore  Awan 9 Pagi  Awan 3 Sore  \\\n",
       "0                SE  ...                1015.2          5.0          5.0   \n",
       "\n",
       "   Suhu Celcius 9 Pagi  Suhu Celcius 3 Sore  Hari ini Hujan  Hari besok Hujan  \\\n",
       "0                 16.7                 21.1              No                No   \n",
       "\n",
       "   Tahun  Bulan      Hari  \n",
       "0   2016  March  Thursday  \n",
       "\n",
       "[1 rows x 25 columns]"
      ]
     },
     "execution_count": 127,
     "metadata": {},
     "output_type": "execute_result"
    }
   ],
   "source": [
    "rainAus_df.mode()"
   ]
  },
  {
   "cell_type": "markdown",
   "metadata": {},
   "source": [
    "### Menghitung measure of spread (variability)"
   ]
  },
  {
   "cell_type": "markdown",
   "metadata": {},
   "source": [
    "#### Variance"
   ]
  },
  {
   "cell_type": "markdown",
   "metadata": {},
   "source": [
    "#### Standard Deviation"
   ]
  },
  {
   "cell_type": "markdown",
   "metadata": {},
   "source": [
    "#### Skewness"
   ]
  },
  {
   "cell_type": "markdown",
   "metadata": {},
   "source": [
    "#### Percentiles"
   ]
  },
  {
   "cell_type": "markdown",
   "metadata": {},
   "source": [
    "#### Ranges"
   ]
  },
  {
   "cell_type": "markdown",
   "metadata": {},
   "source": [
    "### Deskripsi central tendency dan measure of spread"
   ]
  },
  {
   "cell_type": "markdown",
   "metadata": {},
   "source": [
    "## Data Preprocessing"
   ]
  },
  {
   "cell_type": "markdown",
   "metadata": {},
   "source": [
    "### Dataset siap preprocessing\n",
    "***\n",
    "Sementara **rainAus_df** sudah siap dipreprocessing lebih lanjut. Adapun hal-hal yang dianalisis di proses sebelumnya yang bisa diterapkan untuk preprocessing adalah: <br>\n",
    "1. Identifikasi dan penanganan outliers\n",
    "2. Feature Engineering\n",
    "> Feature Add/Drop <br>\n",
    "> Feature Selection or Reduction <br>\n",
    "> etc <br>"
   ]
  },
  {
   "cell_type": "code",
   "execution_count": 128,
   "metadata": {},
   "outputs": [
    {
     "name": "stdout",
     "output_type": "stream",
     "text": [
      "<class 'pandas.core.frame.DataFrame'>\n",
      "RangeIndex: 145460 entries, 0 to 145459\n",
      "Data columns (total 25 columns):\n",
      "Kota                      145460 non-null object\n",
      "Suhu Minimum              145460 non-null float64\n",
      "Suhu Maximum              145460 non-null float64\n",
      "Curah Hujan               145460 non-null float64\n",
      "Penguapan                 145460 non-null float64\n",
      "Jam Cerah                 145460 non-null float64\n",
      "Arah Angin 24 jam         145460 non-null object\n",
      "Kecepatan Angin 24 jam    145460 non-null float64\n",
      "Arah Angin 9 Pagi         145460 non-null object\n",
      "Arah Angin 3 Sore         145460 non-null object\n",
      "Kecepatan Angin 9 Pagi    145460 non-null float64\n",
      "Kecepatan Angin 3 Sore    145460 non-null float64\n",
      "Kelembaban 9 Pagi         145460 non-null float64\n",
      "Kelembaban 3 Sore         145460 non-null float64\n",
      "Tekanan Udara 9 Pagi      145460 non-null float64\n",
      "Tekanan Udara 3 Sore      145460 non-null float64\n",
      "Awan 9 Pagi               145460 non-null float64\n",
      "Awan 3 Sore               145460 non-null float64\n",
      "Suhu Celcius 9 Pagi       145460 non-null float64\n",
      "Suhu Celcius 3 Sore       145460 non-null float64\n",
      "Hari ini Hujan            145460 non-null object\n",
      "Hari besok Hujan          145460 non-null object\n",
      "Tahun                     145460 non-null int64\n",
      "Bulan                     145460 non-null object\n",
      "Hari                      145460 non-null object\n",
      "dtypes: float64(16), int64(1), object(8)\n",
      "memory usage: 27.7+ MB\n"
     ]
    }
   ],
   "source": [
    "rainAus_df.info()"
   ]
  },
  {
   "cell_type": "code",
   "execution_count": 174,
   "metadata": {},
   "outputs": [
    {
     "data": {
      "text/html": [
       "<div>\n",
       "<style scoped>\n",
       "    .dataframe tbody tr th:only-of-type {\n",
       "        vertical-align: middle;\n",
       "    }\n",
       "\n",
       "    .dataframe tbody tr th {\n",
       "        vertical-align: top;\n",
       "    }\n",
       "\n",
       "    .dataframe thead th {\n",
       "        text-align: right;\n",
       "    }\n",
       "</style>\n",
       "<table border=\"1\" class=\"dataframe\">\n",
       "  <thead>\n",
       "    <tr style=\"text-align: right;\">\n",
       "      <th></th>\n",
       "      <th>Suhu Minimum</th>\n",
       "      <th>Suhu Maximum</th>\n",
       "      <th>Curah Hujan</th>\n",
       "      <th>Penguapan</th>\n",
       "      <th>Jam Cerah</th>\n",
       "      <th>Kecepatan Angin 24 jam</th>\n",
       "      <th>Kecepatan Angin 9 Pagi</th>\n",
       "      <th>Kecepatan Angin 3 Sore</th>\n",
       "      <th>Kelembaban 9 Pagi</th>\n",
       "      <th>Kelembaban 3 Sore</th>\n",
       "      <th>...</th>\n",
       "      <th>Bulan_9</th>\n",
       "      <th>Bulan_10</th>\n",
       "      <th>Bulan_11</th>\n",
       "      <th>Hari_0</th>\n",
       "      <th>Hari_1</th>\n",
       "      <th>Hari_2</th>\n",
       "      <th>Hari_3</th>\n",
       "      <th>Hari_4</th>\n",
       "      <th>Hari_5</th>\n",
       "      <th>Hari_6</th>\n",
       "    </tr>\n",
       "  </thead>\n",
       "  <tbody>\n",
       "    <tr>\n",
       "      <td>count</td>\n",
       "      <td>145460.000000</td>\n",
       "      <td>145460.000000</td>\n",
       "      <td>145460.000000</td>\n",
       "      <td>145460.000000</td>\n",
       "      <td>145460.000000</td>\n",
       "      <td>145460.000000</td>\n",
       "      <td>145460.000000</td>\n",
       "      <td>145460.000000</td>\n",
       "      <td>145460.000000</td>\n",
       "      <td>145460.000000</td>\n",
       "      <td>...</td>\n",
       "      <td>145460.000000</td>\n",
       "      <td>145460.000000</td>\n",
       "      <td>145460.000000</td>\n",
       "      <td>145460.000000</td>\n",
       "      <td>145460.000000</td>\n",
       "      <td>145460.000000</td>\n",
       "      <td>145460.000000</td>\n",
       "      <td>145460.000000</td>\n",
       "      <td>145460.000000</td>\n",
       "      <td>145460.000000</td>\n",
       "    </tr>\n",
       "    <tr>\n",
       "      <td>mean</td>\n",
       "      <td>12.192053</td>\n",
       "      <td>23.215962</td>\n",
       "      <td>2.307990</td>\n",
       "      <td>5.179779</td>\n",
       "      <td>7.989889</td>\n",
       "      <td>39.962189</td>\n",
       "      <td>14.030751</td>\n",
       "      <td>18.669758</td>\n",
       "      <td>68.901251</td>\n",
       "      <td>51.553396</td>\n",
       "      <td>...</td>\n",
       "      <td>0.080221</td>\n",
       "      <td>0.082689</td>\n",
       "      <td>0.080022</td>\n",
       "      <td>0.142857</td>\n",
       "      <td>0.142617</td>\n",
       "      <td>0.142541</td>\n",
       "      <td>0.142850</td>\n",
       "      <td>0.143160</td>\n",
       "      <td>0.142981</td>\n",
       "      <td>0.142995</td>\n",
       "    </tr>\n",
       "    <tr>\n",
       "      <td>std</td>\n",
       "      <td>6.365780</td>\n",
       "      <td>7.088358</td>\n",
       "      <td>8.389771</td>\n",
       "      <td>3.178819</td>\n",
       "      <td>2.757790</td>\n",
       "      <td>13.120931</td>\n",
       "      <td>8.861796</td>\n",
       "      <td>8.716716</td>\n",
       "      <td>18.855360</td>\n",
       "      <td>20.471345</td>\n",
       "      <td>...</td>\n",
       "      <td>0.271637</td>\n",
       "      <td>0.275413</td>\n",
       "      <td>0.271328</td>\n",
       "      <td>0.349928</td>\n",
       "      <td>0.349683</td>\n",
       "      <td>0.349605</td>\n",
       "      <td>0.349921</td>\n",
       "      <td>0.350237</td>\n",
       "      <td>0.350055</td>\n",
       "      <td>0.350069</td>\n",
       "    </tr>\n",
       "    <tr>\n",
       "      <td>min</td>\n",
       "      <td>-8.500000</td>\n",
       "      <td>-4.800000</td>\n",
       "      <td>0.000000</td>\n",
       "      <td>0.000000</td>\n",
       "      <td>0.000000</td>\n",
       "      <td>6.000000</td>\n",
       "      <td>0.000000</td>\n",
       "      <td>0.000000</td>\n",
       "      <td>0.000000</td>\n",
       "      <td>0.000000</td>\n",
       "      <td>...</td>\n",
       "      <td>0.000000</td>\n",
       "      <td>0.000000</td>\n",
       "      <td>0.000000</td>\n",
       "      <td>0.000000</td>\n",
       "      <td>0.000000</td>\n",
       "      <td>0.000000</td>\n",
       "      <td>0.000000</td>\n",
       "      <td>0.000000</td>\n",
       "      <td>0.000000</td>\n",
       "      <td>0.000000</td>\n",
       "    </tr>\n",
       "    <tr>\n",
       "      <td>25%</td>\n",
       "      <td>7.700000</td>\n",
       "      <td>18.000000</td>\n",
       "      <td>0.000000</td>\n",
       "      <td>4.000000</td>\n",
       "      <td>8.200000</td>\n",
       "      <td>31.000000</td>\n",
       "      <td>7.000000</td>\n",
       "      <td>13.000000</td>\n",
       "      <td>57.000000</td>\n",
       "      <td>37.000000</td>\n",
       "      <td>...</td>\n",
       "      <td>0.000000</td>\n",
       "      <td>0.000000</td>\n",
       "      <td>0.000000</td>\n",
       "      <td>0.000000</td>\n",
       "      <td>0.000000</td>\n",
       "      <td>0.000000</td>\n",
       "      <td>0.000000</td>\n",
       "      <td>0.000000</td>\n",
       "      <td>0.000000</td>\n",
       "      <td>0.000000</td>\n",
       "    </tr>\n",
       "    <tr>\n",
       "      <td>50%</td>\n",
       "      <td>12.000000</td>\n",
       "      <td>22.600000</td>\n",
       "      <td>0.000000</td>\n",
       "      <td>4.800000</td>\n",
       "      <td>8.400000</td>\n",
       "      <td>39.000000</td>\n",
       "      <td>13.000000</td>\n",
       "      <td>19.000000</td>\n",
       "      <td>70.000000</td>\n",
       "      <td>52.000000</td>\n",
       "      <td>...</td>\n",
       "      <td>0.000000</td>\n",
       "      <td>0.000000</td>\n",
       "      <td>0.000000</td>\n",
       "      <td>0.000000</td>\n",
       "      <td>0.000000</td>\n",
       "      <td>0.000000</td>\n",
       "      <td>0.000000</td>\n",
       "      <td>0.000000</td>\n",
       "      <td>0.000000</td>\n",
       "      <td>0.000000</td>\n",
       "    </tr>\n",
       "    <tr>\n",
       "      <td>75%</td>\n",
       "      <td>16.800000</td>\n",
       "      <td>28.200000</td>\n",
       "      <td>0.600000</td>\n",
       "      <td>5.200000</td>\n",
       "      <td>8.700000</td>\n",
       "      <td>46.000000</td>\n",
       "      <td>19.000000</td>\n",
       "      <td>24.000000</td>\n",
       "      <td>83.000000</td>\n",
       "      <td>65.000000</td>\n",
       "      <td>...</td>\n",
       "      <td>0.000000</td>\n",
       "      <td>0.000000</td>\n",
       "      <td>0.000000</td>\n",
       "      <td>0.000000</td>\n",
       "      <td>0.000000</td>\n",
       "      <td>0.000000</td>\n",
       "      <td>0.000000</td>\n",
       "      <td>0.000000</td>\n",
       "      <td>0.000000</td>\n",
       "      <td>0.000000</td>\n",
       "    </tr>\n",
       "    <tr>\n",
       "      <td>max</td>\n",
       "      <td>33.900000</td>\n",
       "      <td>48.100000</td>\n",
       "      <td>371.000000</td>\n",
       "      <td>145.000000</td>\n",
       "      <td>14.500000</td>\n",
       "      <td>135.000000</td>\n",
       "      <td>130.000000</td>\n",
       "      <td>87.000000</td>\n",
       "      <td>100.000000</td>\n",
       "      <td>100.000000</td>\n",
       "      <td>...</td>\n",
       "      <td>1.000000</td>\n",
       "      <td>1.000000</td>\n",
       "      <td>1.000000</td>\n",
       "      <td>1.000000</td>\n",
       "      <td>1.000000</td>\n",
       "      <td>1.000000</td>\n",
       "      <td>1.000000</td>\n",
       "      <td>1.000000</td>\n",
       "      <td>1.000000</td>\n",
       "      <td>1.000000</td>\n",
       "    </tr>\n",
       "  </tbody>\n",
       "</table>\n",
       "<p>8 rows × 135 columns</p>\n",
       "</div>"
      ],
      "text/plain": [
       "        Suhu Minimum   Suhu Maximum    Curah Hujan      Penguapan  \\\n",
       "count  145460.000000  145460.000000  145460.000000  145460.000000   \n",
       "mean       12.192053      23.215962       2.307990       5.179779   \n",
       "std         6.365780       7.088358       8.389771       3.178819   \n",
       "min        -8.500000      -4.800000       0.000000       0.000000   \n",
       "25%         7.700000      18.000000       0.000000       4.000000   \n",
       "50%        12.000000      22.600000       0.000000       4.800000   \n",
       "75%        16.800000      28.200000       0.600000       5.200000   \n",
       "max        33.900000      48.100000     371.000000     145.000000   \n",
       "\n",
       "           Jam Cerah  Kecepatan Angin 24 jam  Kecepatan Angin 9 Pagi  \\\n",
       "count  145460.000000           145460.000000           145460.000000   \n",
       "mean        7.989889               39.962189               14.030751   \n",
       "std         2.757790               13.120931                8.861796   \n",
       "min         0.000000                6.000000                0.000000   \n",
       "25%         8.200000               31.000000                7.000000   \n",
       "50%         8.400000               39.000000               13.000000   \n",
       "75%         8.700000               46.000000               19.000000   \n",
       "max        14.500000              135.000000              130.000000   \n",
       "\n",
       "       Kecepatan Angin 3 Sore  Kelembaban 9 Pagi  Kelembaban 3 Sore  ...  \\\n",
       "count           145460.000000      145460.000000      145460.000000  ...   \n",
       "mean                18.669758          68.901251          51.553396  ...   \n",
       "std                  8.716716          18.855360          20.471345  ...   \n",
       "min                  0.000000           0.000000           0.000000  ...   \n",
       "25%                 13.000000          57.000000          37.000000  ...   \n",
       "50%                 19.000000          70.000000          52.000000  ...   \n",
       "75%                 24.000000          83.000000          65.000000  ...   \n",
       "max                 87.000000         100.000000         100.000000  ...   \n",
       "\n",
       "             Bulan_9       Bulan_10       Bulan_11         Hari_0  \\\n",
       "count  145460.000000  145460.000000  145460.000000  145460.000000   \n",
       "mean        0.080221       0.082689       0.080022       0.142857   \n",
       "std         0.271637       0.275413       0.271328       0.349928   \n",
       "min         0.000000       0.000000       0.000000       0.000000   \n",
       "25%         0.000000       0.000000       0.000000       0.000000   \n",
       "50%         0.000000       0.000000       0.000000       0.000000   \n",
       "75%         0.000000       0.000000       0.000000       0.000000   \n",
       "max         1.000000       1.000000       1.000000       1.000000   \n",
       "\n",
       "              Hari_1         Hari_2         Hari_3         Hari_4  \\\n",
       "count  145460.000000  145460.000000  145460.000000  145460.000000   \n",
       "mean        0.142617       0.142541       0.142850       0.143160   \n",
       "std         0.349683       0.349605       0.349921       0.350237   \n",
       "min         0.000000       0.000000       0.000000       0.000000   \n",
       "25%         0.000000       0.000000       0.000000       0.000000   \n",
       "50%         0.000000       0.000000       0.000000       0.000000   \n",
       "75%         0.000000       0.000000       0.000000       0.000000   \n",
       "max         1.000000       1.000000       1.000000       1.000000   \n",
       "\n",
       "              Hari_5         Hari_6  \n",
       "count  145460.000000  145460.000000  \n",
       "mean        0.142981       0.142995  \n",
       "std         0.350055       0.350069  \n",
       "min         0.000000       0.000000  \n",
       "25%         0.000000       0.000000  \n",
       "50%         0.000000       0.000000  \n",
       "75%         0.000000       0.000000  \n",
       "max         1.000000       1.000000  \n",
       "\n",
       "[8 rows x 135 columns]"
      ]
     },
     "execution_count": 174,
     "metadata": {},
     "output_type": "execute_result"
    }
   ],
   "source": [
    "rainAus_df.describe()"
   ]
  },
  {
   "cell_type": "code",
   "execution_count": 129,
   "metadata": {},
   "outputs": [
    {
     "name": "stdout",
     "output_type": "stream",
     "text": [
      "Nilai unik atribut KOTA (49 nilai)\n",
      "['Albury' 'BadgerysCreek' 'Cobar' 'CoffsHarbour' 'Moree' 'Newcastle'\n",
      " 'NorahHead' 'NorfolkIsland' 'Penrith' 'Richmond' 'Sydney' 'SydneyAirport'\n",
      " 'WaggaWagga' 'Williamtown' 'Wollongong' 'Canberra' 'Tuggeranong'\n",
      " 'MountGinini' 'Ballarat' 'Bendigo' 'Sale' 'MelbourneAirport' 'Melbourne'\n",
      " 'Mildura' 'Nhil' 'Portland' 'Watsonia' 'Dartmoor' 'Brisbane' 'Cairns'\n",
      " 'GoldCoast' 'Townsville' 'Adelaide' 'MountGambier' 'Nuriootpa' 'Woomera'\n",
      " 'Albany' 'Witchcliffe' 'PearceRAAF' 'PerthAirport' 'Perth' 'SalmonGums'\n",
      " 'Walpole' 'Hobart' 'Launceston' 'AliceSprings' 'Darwin' 'Katherine'\n",
      " 'Uluru']\n",
      "==============================\n",
      "Nilai unik atribut ARAH ANGIN 24 JAM (16 nilai)\n",
      "['W' 'WNW' 'WSW' 'NE' 'NNW' 'N' 'NNE' 'SW' 'ENE' 'SSE' 'S' 'NW' 'SE' 'ESE'\n",
      " 'E' 'SSW']\n",
      "==============================\n",
      "Nilai unik atribut ARAH ANGIN 9 PAGI (16 nilai)\n",
      "['W' 'NNW' 'SE' 'ENE' 'SW' 'SSE' 'S' 'NE' 'N' 'SSW' 'WSW' 'ESE' 'E' 'NW'\n",
      " 'WNW' 'NNE']\n",
      "==============================\n",
      "Nilai unik atribut ARAH ANGIN 3 SORE (16 nilai)\n",
      "['WNW' 'WSW' 'E' 'NW' 'W' 'SSE' 'ESE' 'ENE' 'NNW' 'SSW' 'SW' 'SE' 'N' 'S'\n",
      " 'NNE' 'NE']\n",
      "==============================\n",
      "Nilai unik atribut HARI INI HUJAN (2 nilai)\n",
      "['No' 'Yes']\n",
      "==============================\n",
      "Nilai unik atribut HARI BESOK HUJAN (2 nilai)\n",
      "['No' 'Yes']\n",
      "==============================\n",
      "Nilai unik atribut BULAN (12 nilai)\n",
      "['December' 'January' 'February' 'March' 'April' 'May' 'June' 'July'\n",
      " 'August' 'September' 'October' 'November']\n",
      "==============================\n",
      "Nilai unik atribut HARI (7 nilai)\n",
      "['Monday' 'Tuesday' 'Wednesday' 'Thursday' 'Friday' 'Saturday' 'Sunday']\n",
      "==============================\n"
     ]
    }
   ],
   "source": [
    "# mencetak nilai unik yang terdapat pada setiap atribut yang bertipe categorical\n",
    "for cat_col in categorical_columns:\n",
    "    print(\"Nilai unik atribut {} ({} nilai)\".format(cat_col.upper(),rainAus_df[cat_col].nunique()))\n",
    "    print(rainAus_df[cat_col].unique())\n",
    "    print(\"=\"*30)"
   ]
  },
  {
   "cell_type": "markdown",
   "metadata": {},
   "source": [
    "Dari hasil diatas dapat kita ketahui bahwa column \"HARI INI HUJAN\" dan \"HARI BESOK HUJAN\" adalah ordinal dan data object lainnya merupakan data nominal"
   ]
  },
  {
   "cell_type": "markdown",
   "metadata": {},
   "source": [
    "### Melihat hubungan korelasi antar feature"
   ]
  },
  {
   "cell_type": "code",
   "execution_count": 130,
   "metadata": {},
   "outputs": [],
   "source": [
    "rainAus_df_corr = rainAus_df.corr()"
   ]
  },
  {
   "cell_type": "code",
   "execution_count": 131,
   "metadata": {},
   "outputs": [
    {
     "data": {
      "image/png": "[encoded data removed]",
      "text/plain": [
       "<Figure size 1296x1296 with 2 Axes>"
      ]
     },
     "metadata": {
      "needs_background": "light"
     },
     "output_type": "display_data"
    }
   ],
   "source": [
    "plt.figure(figsize=(18, 18))\n",
    "sns.heatmap(rainAus_df_corr, annot = True)\n",
    "plt.show()"
   ]
  },
  {
   "cell_type": "markdown",
   "metadata": {},
   "source": [
    "### Melakukan categorial encode untuk data nominal"
   ]
  },
  {
   "cell_type": "code",
   "execution_count": 133,
   "metadata": {},
   "outputs": [],
   "source": [
    "import category_encoders as ce\n",
    "\n",
    "encoder= ce.OrdinalEncoder(cols=['Hari ini Hujan'],return_df=True,\n",
    "                           mapping=[{'col':'Hari ini Hujan','mapping':{'No':0,'Yes':1}}])\n",
    "\n",
    "rainAus_df = encoder.fit_transform(rainAus_df)"
   ]
  },
  {
   "cell_type": "code",
   "execution_count": 134,
   "metadata": {},
   "outputs": [],
   "source": [
    "encoder= ce.OrdinalEncoder(cols=['Hari besok Hujan'],return_df=True,\n",
    "                           mapping=[{'col':'Hari besok Hujan','mapping':{'No':0,'Yes':1}}])\n",
    "\n",
    "rainAus_df = encoder.fit_transform(rainAus_df)"
   ]
  },
  {
   "cell_type": "code",
   "execution_count": 135,
   "metadata": {},
   "outputs": [
    {
     "name": "stdout",
     "output_type": "stream",
     "text": [
      "<class 'pandas.core.frame.DataFrame'>\n",
      "RangeIndex: 145460 entries, 0 to 145459\n",
      "Data columns (total 25 columns):\n",
      "Kota                      145460 non-null object\n",
      "Suhu Minimum              145460 non-null float64\n",
      "Suhu Maximum              145460 non-null float64\n",
      "Curah Hujan               145460 non-null float64\n",
      "Penguapan                 145460 non-null float64\n",
      "Jam Cerah                 145460 non-null float64\n",
      "Arah Angin 24 jam         145460 non-null object\n",
      "Kecepatan Angin 24 jam    145460 non-null float64\n",
      "Arah Angin 9 Pagi         145460 non-null object\n",
      "Arah Angin 3 Sore         145460 non-null object\n",
      "Kecepatan Angin 9 Pagi    145460 non-null float64\n",
      "Kecepatan Angin 3 Sore    145460 non-null float64\n",
      "Kelembaban 9 Pagi         145460 non-null float64\n",
      "Kelembaban 3 Sore         145460 non-null float64\n",
      "Tekanan Udara 9 Pagi      145460 non-null float64\n",
      "Tekanan Udara 3 Sore      145460 non-null float64\n",
      "Awan 9 Pagi               145460 non-null float64\n",
      "Awan 3 Sore               145460 non-null float64\n",
      "Suhu Celcius 9 Pagi       145460 non-null float64\n",
      "Suhu Celcius 3 Sore       145460 non-null float64\n",
      "Hari ini Hujan            145460 non-null int32\n",
      "Hari besok Hujan          145460 non-null int32\n",
      "Tahun                     145460 non-null int64\n",
      "Bulan                     145460 non-null object\n",
      "Hari                      145460 non-null object\n",
      "dtypes: float64(16), int32(2), int64(1), object(6)\n",
      "memory usage: 26.6+ MB\n"
     ]
    }
   ],
   "source": [
    "rainAus_df.info()"
   ]
  },
  {
   "cell_type": "markdown",
   "metadata": {},
   "source": [
    "### Melakukan On hot encoding untuk data bertipe ordinal"
   ]
  },
  {
   "cell_type": "code",
   "execution_count": 136,
   "metadata": {},
   "outputs": [],
   "source": [
    "from sklearn.preprocessing import MinMaxScaler, LabelEncoder"
   ]
  },
  {
   "cell_type": "code",
   "execution_count": 148,
   "metadata": {},
   "outputs": [],
   "source": [
    "# Will be On-Hot Encoded Later\n",
    "cols = ['Kota', 'Arah Angin 24 jam', 'Arah Angin 9 Pagi','Arah Angin 3 Sore', 'Bulan', 'Hari']\n",
    "for label in cols:\n",
    "    label_encoder = LabelEncoder()\n",
    "    label_encoder.fit(rainAus_df[label])\n",
    "    rainAus_df[label] = label_encoder.transform(rainAus_df[label])"
   ]
  },
  {
   "cell_type": "code",
   "execution_count": 149,
   "metadata": {},
   "outputs": [],
   "source": [
    "rainAus_df = pd.get_dummies(rainAus_df, columns = cols)"
   ]
  },
  {
   "cell_type": "code",
   "execution_count": 150,
   "metadata": {},
   "outputs": [
    {
     "name": "stdout",
     "output_type": "stream",
     "text": [
      "<class 'pandas.core.frame.DataFrame'>\n",
      "RangeIndex: 145460 entries, 0 to 145459\n",
      "Columns: 135 entries, Suhu Minimum to Hari_6\n",
      "dtypes: float64(16), int32(2), int64(1), uint8(116)\n",
      "memory usage: 36.1 MB\n"
     ]
    }
   ],
   "source": [
    "rainAus_df.info()"
   ]
  },
  {
   "cell_type": "markdown",
   "metadata": {},
   "source": [
    "### Melakukan Minmax Scaling"
   ]
  },
  {
   "cell_type": "code",
   "execution_count": 151,
   "metadata": {},
   "outputs": [],
   "source": [
    "labels = rainAus_df[\"Hari besok Hujan\"]\n",
    "scaler = MinMaxScaler()\n",
    "features = pd.DataFrame(scaler.fit_transform(rainAus_df.drop(['Hari besok Hujan'], axis = 1)), columns = rainAus_df.drop(['Hari besok Hujan'], axis = 1).columns)"
   ]
  },
  {
   "cell_type": "code",
   "execution_count": 152,
   "metadata": {},
   "outputs": [
    {
     "data": {
      "text/html": [
       "<div>\n",
       "<style scoped>\n",
       "    .dataframe tbody tr th:only-of-type {\n",
       "        vertical-align: middle;\n",
       "    }\n",
       "\n",
       "    .dataframe tbody tr th {\n",
       "        vertical-align: top;\n",
       "    }\n",
       "\n",
       "    .dataframe thead th {\n",
       "        text-align: right;\n",
       "    }\n",
       "</style>\n",
       "<table border=\"1\" class=\"dataframe\">\n",
       "  <thead>\n",
       "    <tr style=\"text-align: right;\">\n",
       "      <th></th>\n",
       "      <th>Suhu Minimum</th>\n",
       "      <th>Suhu Maximum</th>\n",
       "      <th>Curah Hujan</th>\n",
       "      <th>Penguapan</th>\n",
       "      <th>Jam Cerah</th>\n",
       "      <th>Kecepatan Angin 24 jam</th>\n",
       "      <th>Kecepatan Angin 9 Pagi</th>\n",
       "      <th>Kecepatan Angin 3 Sore</th>\n",
       "      <th>Kelembaban 9 Pagi</th>\n",
       "      <th>Kelembaban 3 Sore</th>\n",
       "      <th>...</th>\n",
       "      <th>Bulan_9</th>\n",
       "      <th>Bulan_10</th>\n",
       "      <th>Bulan_11</th>\n",
       "      <th>Hari_0</th>\n",
       "      <th>Hari_1</th>\n",
       "      <th>Hari_2</th>\n",
       "      <th>Hari_3</th>\n",
       "      <th>Hari_4</th>\n",
       "      <th>Hari_5</th>\n",
       "      <th>Hari_6</th>\n",
       "    </tr>\n",
       "  </thead>\n",
       "  <tbody>\n",
       "    <tr>\n",
       "      <td>0</td>\n",
       "      <td>0.516509</td>\n",
       "      <td>0.523629</td>\n",
       "      <td>0.001617</td>\n",
       "      <td>0.033103</td>\n",
       "      <td>0.57931</td>\n",
       "      <td>0.294574</td>\n",
       "      <td>0.153846</td>\n",
       "      <td>0.275862</td>\n",
       "      <td>0.71</td>\n",
       "      <td>0.22</td>\n",
       "      <td>...</td>\n",
       "      <td>0.0</td>\n",
       "      <td>0.0</td>\n",
       "      <td>0.0</td>\n",
       "      <td>0.0</td>\n",
       "      <td>1.0</td>\n",
       "      <td>0.0</td>\n",
       "      <td>0.0</td>\n",
       "      <td>0.0</td>\n",
       "      <td>0.0</td>\n",
       "      <td>0.0</td>\n",
       "    </tr>\n",
       "    <tr>\n",
       "      <td>1</td>\n",
       "      <td>0.375000</td>\n",
       "      <td>0.565217</td>\n",
       "      <td>0.000000</td>\n",
       "      <td>0.033103</td>\n",
       "      <td>0.57931</td>\n",
       "      <td>0.294574</td>\n",
       "      <td>0.030769</td>\n",
       "      <td>0.252874</td>\n",
       "      <td>0.44</td>\n",
       "      <td>0.25</td>\n",
       "      <td>...</td>\n",
       "      <td>0.0</td>\n",
       "      <td>0.0</td>\n",
       "      <td>0.0</td>\n",
       "      <td>0.0</td>\n",
       "      <td>0.0</td>\n",
       "      <td>0.0</td>\n",
       "      <td>0.0</td>\n",
       "      <td>0.0</td>\n",
       "      <td>1.0</td>\n",
       "      <td>0.0</td>\n",
       "    </tr>\n",
       "    <tr>\n",
       "      <td>2</td>\n",
       "      <td>0.504717</td>\n",
       "      <td>0.576560</td>\n",
       "      <td>0.000000</td>\n",
       "      <td>0.033103</td>\n",
       "      <td>0.57931</td>\n",
       "      <td>0.310078</td>\n",
       "      <td>0.146154</td>\n",
       "      <td>0.298851</td>\n",
       "      <td>0.38</td>\n",
       "      <td>0.30</td>\n",
       "      <td>...</td>\n",
       "      <td>0.0</td>\n",
       "      <td>0.0</td>\n",
       "      <td>0.0</td>\n",
       "      <td>0.0</td>\n",
       "      <td>0.0</td>\n",
       "      <td>0.0</td>\n",
       "      <td>0.0</td>\n",
       "      <td>0.0</td>\n",
       "      <td>0.0</td>\n",
       "      <td>1.0</td>\n",
       "    </tr>\n",
       "    <tr>\n",
       "      <td>3</td>\n",
       "      <td>0.417453</td>\n",
       "      <td>0.620038</td>\n",
       "      <td>0.000000</td>\n",
       "      <td>0.033103</td>\n",
       "      <td>0.57931</td>\n",
       "      <td>0.139535</td>\n",
       "      <td>0.084615</td>\n",
       "      <td>0.103448</td>\n",
       "      <td>0.45</td>\n",
       "      <td>0.16</td>\n",
       "      <td>...</td>\n",
       "      <td>0.0</td>\n",
       "      <td>0.0</td>\n",
       "      <td>0.0</td>\n",
       "      <td>0.0</td>\n",
       "      <td>0.0</td>\n",
       "      <td>0.0</td>\n",
       "      <td>0.0</td>\n",
       "      <td>1.0</td>\n",
       "      <td>0.0</td>\n",
       "      <td>0.0</td>\n",
       "    </tr>\n",
       "    <tr>\n",
       "      <td>4</td>\n",
       "      <td>0.613208</td>\n",
       "      <td>0.701323</td>\n",
       "      <td>0.002695</td>\n",
       "      <td>0.033103</td>\n",
       "      <td>0.57931</td>\n",
       "      <td>0.271318</td>\n",
       "      <td>0.053846</td>\n",
       "      <td>0.229885</td>\n",
       "      <td>0.82</td>\n",
       "      <td>0.33</td>\n",
       "      <td>...</td>\n",
       "      <td>0.0</td>\n",
       "      <td>0.0</td>\n",
       "      <td>0.0</td>\n",
       "      <td>1.0</td>\n",
       "      <td>0.0</td>\n",
       "      <td>0.0</td>\n",
       "      <td>0.0</td>\n",
       "      <td>0.0</td>\n",
       "      <td>0.0</td>\n",
       "      <td>0.0</td>\n",
       "    </tr>\n",
       "  </tbody>\n",
       "</table>\n",
       "<p>5 rows × 134 columns</p>\n",
       "</div>"
      ],
      "text/plain": [
       "   Suhu Minimum  Suhu Maximum  Curah Hujan  Penguapan  Jam Cerah  \\\n",
       "0      0.516509      0.523629     0.001617   0.033103    0.57931   \n",
       "1      0.375000      0.565217     0.000000   0.033103    0.57931   \n",
       "2      0.504717      0.576560     0.000000   0.033103    0.57931   \n",
       "3      0.417453      0.620038     0.000000   0.033103    0.57931   \n",
       "4      0.613208      0.701323     0.002695   0.033103    0.57931   \n",
       "\n",
       "   Kecepatan Angin 24 jam  Kecepatan Angin 9 Pagi  Kecepatan Angin 3 Sore  \\\n",
       "0                0.294574                0.153846                0.275862   \n",
       "1                0.294574                0.030769                0.252874   \n",
       "2                0.310078                0.146154                0.298851   \n",
       "3                0.139535                0.084615                0.103448   \n",
       "4                0.271318                0.053846                0.229885   \n",
       "\n",
       "   Kelembaban 9 Pagi  Kelembaban 3 Sore  ...  Bulan_9  Bulan_10  Bulan_11  \\\n",
       "0               0.71               0.22  ...      0.0       0.0       0.0   \n",
       "1               0.44               0.25  ...      0.0       0.0       0.0   \n",
       "2               0.38               0.30  ...      0.0       0.0       0.0   \n",
       "3               0.45               0.16  ...      0.0       0.0       0.0   \n",
       "4               0.82               0.33  ...      0.0       0.0       0.0   \n",
       "\n",
       "   Hari_0  Hari_1  Hari_2  Hari_3  Hari_4  Hari_5  Hari_6  \n",
       "0     0.0     1.0     0.0     0.0     0.0     0.0     0.0  \n",
       "1     0.0     0.0     0.0     0.0     0.0     1.0     0.0  \n",
       "2     0.0     0.0     0.0     0.0     0.0     0.0     1.0  \n",
       "3     0.0     0.0     0.0     0.0     1.0     0.0     0.0  \n",
       "4     1.0     0.0     0.0     0.0     0.0     0.0     0.0  \n",
       "\n",
       "[5 rows x 134 columns]"
      ]
     },
     "execution_count": 152,
     "metadata": {},
     "output_type": "execute_result"
    }
   ],
   "source": [
    "features.head()"
   ]
  },
  {
   "cell_type": "code",
   "execution_count": 156,
   "metadata": {},
   "outputs": [
    {
     "data": {
      "text/plain": [
       "(145460, 134)"
      ]
     },
     "execution_count": 156,
     "metadata": {},
     "output_type": "execute_result"
    }
   ],
   "source": [
    "features.shape"
   ]
  },
  {
   "cell_type": "markdown",
   "metadata": {},
   "source": [
    "### Feature Selection dengan menggunakan PCA"
   ]
  },
  {
   "cell_type": "code",
   "execution_count": 169,
   "metadata": {},
   "outputs": [],
   "source": [
    "from sklearn.decomposition import PCA"
   ]
  },
  {
   "cell_type": "code",
   "execution_count": 170,
   "metadata": {},
   "outputs": [
    {
     "data": {
      "text/plain": [
       "PCA()"
      ]
     },
     "execution_count": 170,
     "metadata": {},
     "output_type": "execute_result"
    }
   ],
   "source": [
    "pca = PCA()\n",
    "pca.fit(features)"
   ]
  },
  {
   "cell_type": "code",
   "execution_count": 172,
   "metadata": {},
   "outputs": [
    {
     "data": {
      "text/plain": [
       "[<matplotlib.lines.Line2D at 0x1dd91f44fc8>]"
      ]
     },
     "execution_count": 172,
     "metadata": {},
     "output_type": "execute_result"
    },
    {
     "data": {
      "image/png": "[encoded data removed]",
      "text/plain": [
       "<Figure size 432x288 with 1 Axes>"
      ]
     },
     "metadata": {
      "needs_background": "light"
     },
     "output_type": "display_data"
    }
   ],
   "source": [
    "x = np.arange(1, len(rainAus_df.columns))\n",
    "plt.plot(x, np.cumsum(pca.explained_variance_ratio_), '-o')"
   ]
  },
  {
   "cell_type": "markdown",
   "metadata": {},
   "source": [
    "Dari grafik scatter diatas dapat dilihat bahwa dengan menggunakan 80 features dapat membuat kinerja dari data training kita mencapai +-90%"
   ]
  },
  {
   "cell_type": "code",
   "execution_count": 157,
   "metadata": {},
   "outputs": [],
   "source": [
    "pca = PCA(n_components = 60)\n",
    "pca_features = pca.fit_transform(features)"
   ]
  },
  {
   "cell_type": "code",
   "execution_count": 159,
   "metadata": {},
   "outputs": [
    {
     "data": {
      "text/plain": [
       "(145460, 70)"
      ]
     },
     "execution_count": 159,
     "metadata": {},
     "output_type": "execute_result"
    }
   ],
   "source": [
    "pca_features.shape"
   ]
  },
  {
   "cell_type": "markdown",
   "metadata": {},
   "source": [
    "### Splitting Data Train dan Data Test"
   ]
  },
  {
   "cell_type": "code",
   "execution_count": 163,
   "metadata": {},
   "outputs": [],
   "source": [
    "from sklearn.model_selection import train_test_split"
   ]
  },
  {
   "cell_type": "code",
   "execution_count": 164,
   "metadata": {},
   "outputs": [],
   "source": [
    "X_train, X_test, y_train, y_test = train_test_split(pca_features, labels, test_size=0.2, random_state=1, stratify = labels)"
   ]
  },
  {
   "cell_type": "code",
   "execution_count": 166,
   "metadata": {},
   "outputs": [
    {
     "data": {
      "text/plain": [
       "(array([[ 0.62976479, -0.19249194,  0.76437029, ..., -0.06543651,\n",
       "          0.09890432, -0.14853141],\n",
       "        [-0.68906916, -0.21833137,  0.02054612, ...,  0.01120821,\n",
       "         -0.12810402,  0.03982816],\n",
       "        [-0.46741032, -0.1627326 , -0.13036405, ..., -0.07365719,\n",
       "         -0.07822725, -0.04361906],\n",
       "        ...,\n",
       "        [ 0.47464878, -0.74912316,  0.03606309, ..., -0.1872175 ,\n",
       "          0.14818113,  0.10955384],\n",
       "        [ 0.35864418,  0.2657389 ,  0.71890257, ..., -0.1064301 ,\n",
       "          0.04966896, -0.11178878],\n",
       "        [-0.17081008, -0.45842866, -0.06545083, ..., -0.06851939,\n",
       "         -0.10186426, -0.01558678]]),\n",
       " array([[ 0.22240689,  0.67317534, -0.44399714, ..., -0.10637766,\n",
       "          0.17488262,  0.02296789],\n",
       "        [-0.60183176, -0.2134911 , -0.02136284, ..., -0.25272442,\n",
       "          0.02239073,  0.06955126],\n",
       "        [ 0.81768496, -0.48551175, -0.12134403, ...,  0.12114333,\n",
       "         -0.12214819,  0.1956353 ],\n",
       "        ...,\n",
       "        [-0.23105221, -0.13359511, -0.28093979, ..., -0.07037401,\n",
       "         -0.09311817,  0.2555857 ],\n",
       "        [ 1.19525314,  0.20320886,  0.62737809, ...,  0.06865057,\n",
       "          0.21613046, -0.21256145],\n",
       "        [ 0.00507964,  0.29311987,  0.54851813, ..., -0.28583655,\n",
       "         -0.28493462,  0.04672571]]),\n",
       " 96499     0\n",
       " 119835    0\n",
       " 12569     0\n",
       " 64908     1\n",
       " 87941     1\n",
       "          ..\n",
       " 137483    0\n",
       " 88400     1\n",
       " 19577     0\n",
       " 76371     0\n",
       " 102000    0\n",
       " Name: Hari besok Hujan, Length: 116368, dtype: int32,\n",
       " 1908      0\n",
       " 141925    0\n",
       " 39679     1\n",
       " 123579    0\n",
       " 6321      0\n",
       "          ..\n",
       " 111138    0\n",
       " 139048    0\n",
       " 10270     0\n",
       " 69333     0\n",
       " 43046     0\n",
       " Name: Hari besok Hujan, Length: 29092, dtype: int32)"
      ]
     },
     "execution_count": 166,
     "metadata": {},
     "output_type": "execute_result"
    }
   ],
   "source": [
    "X_train, X_test, y_train, y_test"
   ]
  },
  {
   "cell_type": "markdown",
   "metadata": {},
   "source": [
    "## Pendefinisian Model"
   ]
  },
  {
   "cell_type": "markdown",
   "metadata": {},
   "source": [
    "### Logistic Regression"
   ]
  },
  {
   "cell_type": "markdown",
   "metadata": {},
   "source": [
    "### SVM"
   ]
  },
  {
   "cell_type": "markdown",
   "metadata": {},
   "source": [
    "## Evaluasi Model"
   ]
  },
  {
   "cell_type": "markdown",
   "metadata": {},
   "source": [
    "### Logistic Regression"
   ]
  },
  {
   "cell_type": "markdown",
   "metadata": {},
   "source": [
    "### SVM"
   ]
  },
  {
   "cell_type": "markdown",
   "metadata": {},
   "source": [
    "## Model Inference"
   ]
  },
  {
   "cell_type": "markdown",
   "metadata": {},
   "source": [
    "## Pengambilan Keputusan"
   ]
  },
  {
   "cell_type": "markdown",
   "metadata": {},
   "source": [
    "## Model Deployment"
   ]
  },
  {
   "cell_type": "code",
   "execution_count": null,
   "metadata": {},
   "outputs": [],
   "source": []
  }
 ],
 "metadata": {
  "kernelspec": {
   "display_name": "Python 3",
   "language": "python",
   "name": "python3"
  },
  "language_info": {
   "codemirror_mode": {
    "name": "ipython",
    "version": 3
   },
   "file_extension": ".py",
   "mimetype": "text/x-python",
   "name": "python",
   "nbconvert_exporter": "python",
   "pygments_lexer": "ipython3",
   "version": "3.7.4"
  },
  "toc": {
   "base_numbering": 1,
   "nav_menu": {},
   "number_sections": true,
   "sideBar": true,
   "skip_h1_title": false,
   "title_cell": "Table of Contents",
   "title_sidebar": "Contents",
   "toc_cell": false,
   "toc_position": {
    "height": "calc(100% - 180px)",
    "left": "10px",
    "top": "150px",
    "width": "398px"
   },
   "toc_section_display": true,
   "toc_window_display": true
  },
  "varInspector": {
   "cols": {
    "lenName": 16,
    "lenType": 16,
    "lenVar": 40
   },
   "kernels_config": {
    "python": {
     "delete_cmd_postfix": "",
     "delete_cmd_prefix": "del ",
     "library": "var_list.py",
     "varRefreshCmd": "print(var_dic_list())"
    },
    "r": {
     "delete_cmd_postfix": ") ",
     "delete_cmd_prefix": "rm(",
     "library": "var_list.r",
     "varRefreshCmd": "cat(var_dic_list()) "
    }
   },
   "types_to_exclude": [
    "module",
    "function",
    "builtin_function_or_method",
    "instance",
    "_Feature"
   ],
   "window_display": false
  }
 },
 "nbformat": 4,
 "nbformat_minor": 5
}
